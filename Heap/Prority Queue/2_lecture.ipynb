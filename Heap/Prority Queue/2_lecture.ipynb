{
 "cells": [
  {
   "cell_type": "markdown",
   "metadata": {},
   "source": [
    "# Insert In priority Queue (Min heap):"
   ]
  },
  {
   "cell_type": "code",
   "execution_count": 6,
   "metadata": {},
   "outputs": [
    {
     "name": "stdout",
     "output_type": "stream",
     "text": [
      "a\n",
      "b\n",
      "c\n"
     ]
    }
   ],
   "source": [
    "class NodePriorityQueue:\n",
    "    def __init__(self, value, priority):\n",
    "        self.value = value\n",
    "        self.priority = priority\n",
    "\n",
    "class PriorityQueue:\n",
    "    def __init__(self):\n",
    "        self.list = []\n",
    "\n",
    "    def getmin(self):\n",
    "        if self.isEmpty() is True:\n",
    "            return None\n",
    "        return self.list[0].value\n",
    "    \n",
    "    def getsize(self):\n",
    "        return len(self.list)\n",
    "    \n",
    "    def isEmpty(self):\n",
    "        return self.getsize() == 0\n",
    "    \n",
    "    def __up_heapify(self):\n",
    "        childindex = self.getsize() - 1\n",
    "        while childindex > 0 and self.list[childindex].value < self.list[(childindex - 1) // 2].value:\n",
    "            parentindex = (childindex - 1) // 2\n",
    "            self.list[childindex], self.list[parentindex] = self.list[parentindex], self.list[childindex]\n",
    "            childindex = parentindex\n",
    "\n",
    "    def insert(self, value, priority):\n",
    "        newnode = NodePriorityQueue(value, priority)\n",
    "        self.list.append(newnode)\n",
    "        self.__up_heapify()\n",
    "\n",
    "    def __down_heapify(self):\n",
    "        parentindex = 0\n",
    "        while parentindex < self.getsize():\n",
    "            leftchild = 2 * parentindex + 1\n",
    "            rightchild = 2 * parentindex + 2\n",
    "            smallchild = leftchild if leftchild < self.getsize() and self.list[leftchild].value < self.list[parentindex].value else parentindex\n",
    "            if rightchild < self.getsize() and self.list[rightchild].value < self.list[smallchild].value:\n",
    "                smallchild = rightchild\n",
    "            if smallchild != parentindex:\n",
    "                self.list[parentindex], self.list[smallchild] = self.list[smallchild], self.list[parentindex]\n",
    "                parentindex = smallchild\n",
    "            else:\n",
    "                break\n",
    "\n",
    "    def removeMin(self):\n",
    "        if self.isEmpty():\n",
    "            return None\n",
    "        ele = self.list[0].value\n",
    "        self.list[0] = self.list[self.getsize() - 1]\n",
    "        self.list.pop(-1)\n",
    "        self.__down_heapify()\n",
    "        return ele\n",
    "\n",
    "pq = PriorityQueue()\n",
    "pq.insert('a', 10)\n",
    "pq.insert('c', 5)\n",
    "pq.insert('b', 19)\n",
    "\n",
    "for i in range(3):\n",
    "    print(pq.removeMin())  # Output: a, b, c\n"
   ]
  },
  {
   "cell_type": "markdown",
   "metadata": {},
   "source": [
    "# Removing in priority Queue(Min heap)"
   ]
  },
  {
   "cell_type": "code",
   "execution_count": null,
   "metadata": {},
   "outputs": [],
   "source": [
    "def __down_heapify(self):\n",
    "    parentindex = 0\n",
    "    while parentindex < self.getsize():\n",
    "        leftchild = 2 * parentindex + 1\n",
    "        rightchild = 2 * parentindex + 2\n",
    "        smallchild = leftchild if leftchild < self.getsize() and self.list[leftchild].value < self.list[parentindex].value else parentindex\n",
    "        if rightchild < self.getsize() and self.list[rightchild].value < self.list[smallchild].value:\n",
    "            smallchild = rightchild\n",
    "        if smallchild != parentindex:\n",
    "            self.list[parentindex], self.list[smallchild] = self.list[smallchild], self.list[parentindex]\n",
    "            parentindex = smallchild\n",
    "        else:\n",
    "            break\n",
    "\n",
    "def removeMin(self):\n",
    "    if self.isEmpty():\n",
    "        return None\n",
    "    ele = self.list[0].value\n",
    "    self.list[0] = self.list[self.getsize() - 1]\n",
    "    self.list.pop(-1)\n",
    "    self.__down_heapify()\n",
    "    return ele"
   ]
  },
  {
   "cell_type": "code",
   "execution_count": 12,
   "metadata": {},
   "outputs": [
    {
     "name": "stdout",
     "output_type": "stream",
     "text": [
      "qtzces tqy zcfglb xli mark\n"
     ]
    }
   ],
   "source": [
    "def decryptMessage(encryptedMessage, keyPhrase):\n",
    "    \n",
    "    encrypted_words = encryptedMessage.split()\n",
    "    key_words = keyPhrase.split()\n",
    "\n",
    "\n",
    "    if len(encrypted_words) != len(key_words):\n",
    "        return \"Invalid input\"\n",
    "\n",
    "    decrypted_words = []\n",
    " \n",
    "    for i in range(len(encrypted_words)):\n",
    "        encrypted_word = encrypted_words[i]\n",
    "        key_word = key_words[-(i + 1)] \n",
    "\n",
    "        key_length = len(key_word)\n",
    "        decryption_factor = key_length if key_length % 2 == 0 else -key_length\n",
    "\n",
    "        decrypted_word = ''.join(\n",
    "            chr((ord(char) - ord('a') - decryption_factor) % 26 + ord('a')) for char in encrypted_word\n",
    "        )\n",
    "        decrypted_words.append(decrypted_word)\n",
    "\n",
    "    decrypted_message = ' '.join(decrypted_words)\n",
    "\n",
    "    return decrypted_message\n",
    "\n",
    "# Example usage:\n",
    "encrypted_message = \"lUAxzn vsa filmrh bpm jxoh\"\n",
    "key_phrase = \"one good reason to solve\"\n",
    "decrypted_message = decryptMessage(encrypted_message, key_phrase)\n",
    "print(decrypted_message)"
   ]
  }
 ],
 "metadata": {
  "kernelspec": {
   "display_name": "Python 3",
   "language": "python",
   "name": "python3"
  },
  "language_info": {
   "codemirror_mode": {
    "name": "ipython",
    "version": 3
   },
   "file_extension": ".py",
   "mimetype": "text/x-python",
   "name": "python",
   "nbconvert_exporter": "python",
   "pygments_lexer": "ipython3",
   "version": "3.11.4"
  }
 },
 "nbformat": 4,
 "nbformat_minor": 2
}
