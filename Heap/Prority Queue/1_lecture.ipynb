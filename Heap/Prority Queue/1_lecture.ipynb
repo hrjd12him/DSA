{
 "cells": [
  {
   "cell_type": "markdown",
   "metadata": {},
   "source": [
    "# Implemantation Of priority queue"
   ]
  },
  {
   "cell_type": "code",
   "execution_count": null,
   "metadata": {},
   "outputs": [],
   "source": [
    "class NodePriorityQueue:\n",
    "    def __init__(self, value, priority):\n",
    "        self.value = value\n",
    "        self.priority = priority\n",
    "\n",
    "class PriorityQueue:\n",
    "    def __init__(self):\n",
    "        self.list = []\n",
    "\n",
    "    def getmin(self):\n",
    "        if self.isEmpty() is True:\n",
    "            return None\n",
    "        return self.list[0].value\n",
    "    \n",
    "    def getsize(self):\n",
    "        return len(self.list)\n",
    "    \n",
    "    def isEmpty(self): \n",
    "        return self.getsize() == 0\n",
    "                \n",
    "    def insert(self,value,priority):\n",
    "        pass\n",
    "\n",
    "    def removemin(self,value):\n",
    "        pass"
   ]
  }
 ],
 "metadata": {
  "kernelspec": {
   "display_name": "Python 3",
   "language": "python",
   "name": "python3"
  },
  "language_info": {
   "codemirror_mode": {
    "name": "ipython",
    "version": 3
   },
   "file_extension": ".py",
   "mimetype": "text/x-python",
   "name": "python",
   "nbconvert_exporter": "python",
   "pygments_lexer": "ipython3",
   "version": "3.11.4"
  }
 },
 "nbformat": 4,
 "nbformat_minor": 2
}
