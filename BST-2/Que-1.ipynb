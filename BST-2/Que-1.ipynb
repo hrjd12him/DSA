{
 "cells": [
  {
   "cell_type": "markdown",
   "metadata": {},
   "source": [
    "Find Path in BST\n",
    "----------------\n",
    "```\n",
    "Given a BST and an integer k. Find and return the path from the node with data k and root (if a node with data k is present in given BST) in a list. Return empty list otherwise.\n",
    "```\n",
    "Note: Assume that BST contains all unique elements."
   ]
  },
  {
   "cell_type": "code",
   "execution_count": 12,
   "metadata": {},
   "outputs": [
    {
     "name": "stdout",
     "output_type": "stream",
     "text": [
      "Enter root data\n",
      "Enter a left child of  1\n",
      "Enter a right child of 1\n",
      "Enter a left child of  2\n",
      "Enter a right child of 2\n",
      "Enter a left child of  3\n",
      "Enter a right child of 3\n",
      "Enter a left child of  4\n",
      "Enter a right child of 4\n",
      "Enter a left child of  6\n",
      "Enter a right child of 6\n",
      "Enter a left child of  5\n",
      "Enter a right child of 5\n",
      "Enter a left child of  9\n",
      "Enter a right child of 9\n",
      "Enter a left child of  7\n",
      "Enter a right child of 7\n",
      "Enter a left child of  8\n",
      "Enter a right child of 8\n",
      "1  \n",
      "2 3  \n",
      "4 6  \n",
      "5 9  \n",
      "7 8  \n",
      "4 3 1 "
     ]
    }
   ],
   "source": [
    "import queue\n",
    "class treeNode():\n",
    "    def __init__(self,data):\n",
    "        self.data =data\n",
    "        self.left =None\n",
    "        self.right = None\n",
    "\n",
    "\n",
    "def takeInputLevelWise():\n",
    "    q = queue.Queue()\n",
    "    print('Enter root data')\n",
    "    rootdata = int(input())\n",
    "    if rootdata == -1:\n",
    "        return None\n",
    "    root = treeNode(rootdata)\n",
    "    q.put(root)\n",
    "    while not q.empty():\n",
    "        cur_node = q.get()\n",
    "        print('Enter a left child of ',cur_node.data)\n",
    "        leftChildData = int(input())\n",
    "        if leftChildData != -1:\n",
    "            leftchild =treeNode(leftChildData)\n",
    "            cur_node.left = leftchild\n",
    "            q.put(leftchild)\n",
    "        print('Enter a right child of',cur_node.data)\n",
    "        rightChildData = int(input())\n",
    "        if rightChildData != -1:\n",
    "            rightchild = treeNode(rightChildData)\n",
    "            cur_node.right = rightchild\n",
    "            q.put(rightchild)\n",
    "\n",
    "    return root\n",
    "\n",
    "def printLevelOrder(root):\n",
    "    if root is None:\n",
    "        return\n",
    "    q = []\n",
    "    q.append(root)\n",
    "    while q:\n",
    "        count = len(q)\n",
    "        while count > 0:\n",
    "            temp = q.pop(0)\n",
    "            print(temp.data, end=' ')\n",
    "            if temp.left:\n",
    "                q.append(temp.left)\n",
    "            if temp.right:\n",
    "                q.append(temp.right)\n",
    " \n",
    "            count -= 1\n",
    "        print(' ')\n",
    "\n",
    "def Findpath(root,k):\n",
    "    if root == None:\n",
    "        return None\n",
    "    if root.data == k:\n",
    "        print(root.data,end=' ')\n",
    "        return root\n",
    "    elif root.data>k:\n",
    "        Findpath(root.left,k)\n",
    "        print(root.data,end=' ')\n",
    "    else:\n",
    "        Findpath(root.right,k)\n",
    "        print(root.data,end=' ')\n",
    "\n",
    "root = takeInputLevelWise()\n",
    "printLevelOrder(root)\n",
    "Findpath(root,2)"
   ]
  },
  {
   "cell_type": "markdown",
   "metadata": {},
   "source": [
    "Find path for binary tree\n",
    "--------------------------"
   ]
  },
  {
   "cell_type": "code",
   "execution_count": null,
   "metadata": {},
   "outputs": [],
   "source": []
  }
 ],
 "metadata": {
  "kernelspec": {
   "display_name": "Python 3",
   "language": "python",
   "name": "python3"
  },
  "language_info": {
   "codemirror_mode": {
    "name": "ipython",
    "version": 3
   },
   "file_extension": ".py",
   "mimetype": "text/x-python",
   "name": "python",
   "nbconvert_exporter": "python",
   "pygments_lexer": "ipython3",
   "version": "3.11.4"
  },
  "orig_nbformat": 4
 },
 "nbformat": 4,
 "nbformat_minor": 2
}
