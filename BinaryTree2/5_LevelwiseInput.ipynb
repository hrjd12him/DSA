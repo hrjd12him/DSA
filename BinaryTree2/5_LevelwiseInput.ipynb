{
 "cells": [
  {
   "cell_type": "code",
   "execution_count": 2,
   "metadata": {},
   "outputs": [
    {
     "name": "stdout",
     "output_type": "stream",
     "text": [
      "Enter a root\n",
      "Enter left Child of  1\n",
      "Enter right child of  1\n",
      "Enter left Child of  2\n",
      "Enter right child of  2\n",
      "Enter left Child of  3\n",
      "Enter right child of  3\n",
      "1:L 2,R 3\n",
      "2:\n",
      "3:\n"
     ]
    }
   ],
   "source": [
    "import queue\n",
    "\n",
    "class treeNode():\n",
    "    def __init__(self,data):\n",
    "        self.data =data\n",
    "        self.left =None\n",
    "        self.right = None\n",
    "\n",
    "def printtree(root):\n",
    "    if root == None:\n",
    "        return \n",
    "    print(root.data,end=':')\n",
    "    if root.left != None:\n",
    "        print('L',root.left.data,end=',')\n",
    "    if root.right != None:\n",
    "        print('R',root.right.data,end='')\n",
    "    print()\n",
    "    printtree(root.left)\n",
    "    printtree(root.right)\n",
    "# input level wise\n",
    "def takeInputlevelwise():\n",
    "    q = queue.Queue()\n",
    "    print('Enter a root')\n",
    "    rootdata = int(input())\n",
    "    if rootdata ==-1:\n",
    "        return None\n",
    "    root = treeNode(rootdata)\n",
    "    q.put(root)\n",
    "    while not q.empty():\n",
    "        cur_node = q.get()\n",
    "        print('Enter left Child of ',cur_node.data)\n",
    "        leftchilddata = int(input())\n",
    "        if leftchilddata!=-1 :\n",
    "            leftchild = treeNode(leftchilddata)\n",
    "            cur_node.left = leftchild\n",
    "            q.put(leftchild)\n",
    "        print('Enter right child of ',cur_node.data)\n",
    "        rightchilddata = int(input())\n",
    "        if rightchilddata!=-1:\n",
    "            rightchild = treeNode(rightchilddata)\n",
    "            cur_node.right = rightchild\n",
    "            q.put(rightchild)\n",
    "    return root\n",
    "\n",
    "root = takeInputlevelwise()\n",
    "printtree(root)\n",
    "\n",
    "\n"
   ]
  },
  {
   "cell_type": "code",
   "execution_count": null,
   "metadata": {},
   "outputs": [],
   "source": []
  }
 ],
 "metadata": {
  "kernelspec": {
   "display_name": "Python 3",
   "language": "python",
   "name": "python3"
  },
  "language_info": {
   "codemirror_mode": {
    "name": "ipython",
    "version": 3
   },
   "file_extension": ".py",
   "mimetype": "text/x-python",
   "name": "python",
   "nbconvert_exporter": "python",
   "pygments_lexer": "ipython3",
   "version": "3.11.4"
  },
  "orig_nbformat": 4
 },
 "nbformat": 4,
 "nbformat_minor": 2
}
