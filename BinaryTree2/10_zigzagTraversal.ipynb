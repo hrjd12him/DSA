{
 "cells": [
  {
   "cell_type": "code",
   "execution_count": 4,
   "metadata": {},
   "outputs": [
    {
     "name": "stdout",
     "output_type": "stream",
     "text": [
      "[1, 3, 2, 4, 5, 6, 7]\n"
     ]
    }
   ],
   "source": [
    "class treeNode:\n",
    "    def __init__(self,data):\n",
    "        self.data = data\n",
    "        self.left = None\n",
    "        self.right = None\n",
    "\n",
    "def treeinput():\n",
    "    rootdata = int(input())\n",
    "    if rootdata == -1:\n",
    "        return \n",
    "    root = treeNode(rootdata)\n",
    "    q = []\n",
    "    q.append(root)\n",
    "\n",
    "    while q:\n",
    "        currnode = q.pop(0)\n",
    "        leftdata = int(input())\n",
    "        if leftdata !=-1:\n",
    "            leftchild = treeNode(leftdata)\n",
    "            currnode.left = leftchild\n",
    "            q.append(leftchild)\n",
    "        rightdata = int(input())\n",
    "        if rightdata != -1:\n",
    "            rightchild = treeNode(rightdata)\n",
    "            currnode.right = rightchild\n",
    "            q.append(rightchild)\n",
    "\n",
    "    return root\n",
    "\n",
    "def zigzagTraversal(root):\n",
    "    if root is None:\n",
    "        return []\n",
    "    \n",
    "    result = []\n",
    "    queue = []\n",
    "    queue.append(root)\n",
    "    reverse = False\n",
    "\n",
    "    while queue:\n",
    "        level_nodes = []\n",
    "        level_size = len(queue)\n",
    "        for _ in range(level_size):\n",
    "            node = queue.pop(0)\n",
    "            level_nodes.append(node.data)\n",
    "            if node.left:\n",
    "                queue.append(node.left)\n",
    "            if node.right:\n",
    "                queue.append(node.right)\n",
    "\n",
    "        if reverse:\n",
    "            level_nodes.reverse()\n",
    "        result.extend(level_nodes)\n",
    "        reverse = not reverse\n",
    "\n",
    "    return result\n",
    "\n",
    "root = treeinput()\n",
    "result = zigzagTraversal(root)\n",
    "print(result)\n",
    "\n"
   ]
  },
  {
   "cell_type": "code",
   "execution_count": null,
   "metadata": {},
   "outputs": [],
   "source": []
  }
 ],
 "metadata": {
  "kernelspec": {
   "display_name": "Python 3",
   "language": "python",
   "name": "python3"
  },
  "language_info": {
   "codemirror_mode": {
    "name": "ipython",
    "version": 3
   },
   "file_extension": ".py",
   "mimetype": "text/x-python",
   "name": "python",
   "nbconvert_exporter": "python",
   "pygments_lexer": "ipython3",
   "version": "3.11.4"
  }
 },
 "nbformat": 4,
 "nbformat_minor": 2
}
