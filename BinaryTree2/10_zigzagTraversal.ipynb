{
 "cells": [
  {
   "cell_type": "code",
   "execution_count": null,
   "metadata": {},
   "outputs": [],
   "source": [
    "class TreeNode:\n",
    "    def __init__(self, val=0, left=None, right=None):\n",
    "        self.val = val\n",
    "        self.left = left\n",
    "        self.right = right\n",
    "\n",
    "def zigzagTraversal(root):\n",
    "    if not root:\n",
    "        return []\n",
    "    \n",
    "    result = []\n",
    "    queue = []\n",
    "    queue.append(root)\n",
    "    reverse = False\n",
    "    \n",
    "    while queue:\n",
    "        level_nodes = []\n",
    "        level_size = len(queue)\n",
    "        for _ in range(level_size):\n",
    "            node = queue.pop(0)\n",
    "            level_nodes.append(node.val)\n",
    "            if node.left:\n",
    "                queue.append(node.left)\n",
    "            if node.right:\n",
    "                queue.append(node.right)\n",
    "        if reverse:\n",
    "            level_nodes.reverse()\n",
    "        result.extend(level_nodes)\n",
    "        reverse = not reverse\n",
    "    \n",
    "    return result\n"
   ]
  }
 ],
 "metadata": {
  "language_info": {
   "name": "python"
  }
 },
 "nbformat": 4,
 "nbformat_minor": 2
}
