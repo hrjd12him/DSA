{
 "cells": [
  {
   "cell_type": "markdown",
   "metadata": {},
   "source": [
    "515. Find Largest Value in Each Tree Row"
   ]
  },
  {
   "cell_type": "code",
   "execution_count": 1,
   "metadata": {},
   "outputs": [
    {
     "name": "stdout",
     "output_type": "stream",
     "text": [
      "Level wise traversal of binary tree is []\n"
     ]
    }
   ],
   "source": [
    "import queue\n",
    "class Treenode:\n",
    "    def __init__(self,data):\n",
    "        self.data = data\n",
    "        self.left = None\n",
    "        self.right = None\n",
    "\n",
    "def largestvalue(root):\n",
    "    result  = []\n",
    "    if root is None:\n",
    "        return result\n",
    "    result.append(root.data)\n",
    "    q= queue.Queue()\n",
    "    q.put(root)\n",
    "    count = 1\n",
    "    pre = 1\n",
    "    arr = []\n",
    "    while not q.empty():\n",
    "        if count != pre*2:\n",
    "            node = q.get()\n",
    "            if node.left is not None:\n",
    "                arr.append(node.left.data)\n",
    "                q.put(node.left)\n",
    "            if node.right is not None:\n",
    "                arr.append(node.right.data)\n",
    "                q.put(node.right)\n",
    "            count+=1\n",
    "        else:\n",
    "            result.append(max(arr))\n",
    "            pre = count\n",
    "            arr = []\n",
    "    \n",
    "    return result\n",
    "            \n",
    "def levelwise():\n",
    "    rootdata = int(input())\n",
    "    if rootdata == -1:\n",
    "        return\n",
    "    rootnode = Treenode(rootdata)\n",
    "    q = queue.Queue()\n",
    "    q.put(rootnode)\n",
    "    while not q.empty():\n",
    "        currnode = q.get()\n",
    "        leftdata = int(input())\n",
    "        if leftdata != -1:\n",
    "            leftnode = Treenode(leftdata)\n",
    "            currnode.left = leftnode\n",
    "            q.put(leftnode)\n",
    "\n",
    "        rightdata = int(input())\n",
    "        if rightdata != -1:\n",
    "            rightnode = Treenode(rightdata)\n",
    "            currnode.right = rightnode\n",
    "            q.put(rightnode)\n",
    "\n",
    "root = levelwise()\n",
    "\n",
    "\n",
    "\n"
   ]
  },
  {
   "cell_type": "code",
   "execution_count": null,
   "metadata": {},
   "outputs": [],
   "source": [
    "# Definition for a binary tree node.\n",
    "# class TreeNode:\n",
    "#     def __init__(self, val=0, left=None, right=None):\n",
    "#         self.val = val\n",
    "#         self.left = left\n",
    "#         self.right = right\n",
    "import queue\n",
    "class Solution:\n",
    "    def largestValues(self, root: Optional[TreeNode]) -> List[int]:\n",
    "        result = []\n",
    "        if root is None:\n",
    "            return result\n",
    "        \n",
    "        q = queue.Queue()\n",
    "        q.put(root)\n",
    "        \n",
    "        while not q.empty():\n",
    "            level_size = q.qsize()\n",
    "            max_value = float('-inf')  # Initialize max_value for the current level\n",
    "            for _ in range(level_size):\n",
    "                node = q.get()\n",
    "                max_value = max(max_value, node.val)\n",
    "                if node.left:\n",
    "                    q.put(node.left)\n",
    "                if node.right:\n",
    "                    q.put(node.right)\n",
    "            result.append(max_value)\n",
    "        \n",
    "        return result\n",
    "\n"
   ]
  }
 ],
 "metadata": {
  "kernelspec": {
   "display_name": "Python 3",
   "language": "python",
   "name": "python3"
  },
  "language_info": {
   "codemirror_mode": {
    "name": "ipython",
    "version": 3
   },
   "file_extension": ".py",
   "mimetype": "text/x-python",
   "name": "python",
   "nbconvert_exporter": "python",
   "pygments_lexer": "ipython3",
   "version": "3.11.4"
  }
 },
 "nbformat": 4,
 "nbformat_minor": 2
}
