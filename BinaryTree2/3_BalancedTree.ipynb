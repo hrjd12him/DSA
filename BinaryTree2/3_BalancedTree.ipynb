{
 "cells": [
  {
   "cell_type": "code",
   "execution_count": 4,
   "metadata": {},
   "outputs": [
    {
     "name": "stdout",
     "output_type": "stream",
     "text": [
      "1:L 2,R 3\n",
      "2:L 4,\n",
      "4:\n",
      "3:R 5\n",
      "5:\n",
      "True\n"
     ]
    }
   ],
   "source": [
    "class Treenode():\n",
    "    def __init__(self,data):\n",
    "        self.data = data\n",
    "        self.left = None\n",
    "        self.right = None\n",
    "\n",
    "def inputtree():\n",
    "    rootdata = int(input())\n",
    "    if rootdata == -1:\n",
    "        return\n",
    "    root = Treenode(rootdata)\n",
    "    leftroot = inputtree()\n",
    "    rightroot = inputtree()\n",
    "    root.left = leftroot\n",
    "    root.right = rightroot\n",
    "    return root\n",
    "\n",
    "def highttree(root):\n",
    "    if root == None:\n",
    "        return 0\n",
    "    lefthight = highttree(root.left)\n",
    "    righthight = highttree(root.right)\n",
    "\n",
    "    hight = max(lefthight,righthight)+1\n",
    "    return hight\n",
    "\n",
    "def balancedtree(root):\n",
    "    if root == None:\n",
    "        return True\n",
    "    lh = highttree(root.left)\n",
    "    rh = highttree(root.right)\n",
    "    if lh-rh>1 or rh-lh>1:\n",
    "        return False\n",
    "    \n",
    "    isleftbalanced = balancedtree(root.left)\n",
    "    isrightbalanced = balancedtree(root.right)\n",
    "    if isleftbalanced and isrightbalanced:\n",
    "        return True\n",
    "    else:\n",
    "        return False\n",
    "    \n",
    "\n",
    "def printtree(root):\n",
    "    if root == None:\n",
    "        return\n",
    "    print(root.data,end=':')\n",
    "    if root.left !=None:\n",
    "        print('L',root.left.data,end=',')\n",
    "    if root.right!=None:\n",
    "        print('R',root.right.data,end='')\n",
    "    print()\n",
    "    printtree(root.left)\n",
    "    printtree(root.right)\n",
    "\n",
    "root = inputtree()\n",
    "printtree(root)\n",
    "print(balancedtree(root))\n"
   ]
  }
 ],
 "metadata": {
  "kernelspec": {
   "display_name": "Python 3",
   "language": "python",
   "name": "python3"
  },
  "language_info": {
   "codemirror_mode": {
    "name": "ipython",
    "version": 3
   },
   "file_extension": ".py",
   "mimetype": "text/x-python",
   "name": "python",
   "nbconvert_exporter": "python",
   "pygments_lexer": "ipython3",
   "version": "3.11.4"
  },
  "orig_nbformat": 4
 },
 "nbformat": 4,
 "nbformat_minor": 2
}
