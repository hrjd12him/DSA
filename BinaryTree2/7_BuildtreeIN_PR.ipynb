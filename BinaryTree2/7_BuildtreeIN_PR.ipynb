{
 "cells": [
  {
   "cell_type": "markdown",
   "metadata": {},
   "source": [
    "Code: Construct Tree from Preorder and Inorder\n",
    "------------------------------------------------\n",
    "```\n",
    "For a given preorder and inorder traversal of a Binary Tree of type integer stored in an array/list, create the binary tree using the given two arrays/lists. You just need to construct the tree and return the root.\n",
    "Note:\n",
    "Assume that the Binary Tree contains only unique elements. \n",
    "```\n",
    "Input Format:\n",
    "```\n",
    "The first line of input contains an integer N denoting the size of the list/array. It can also be said that N is the total number of nodes the binary tree would have.\n",
    "\n",
    "The second line of input contains N integers, all separated by a single space. It represents the preorder-traversal of the binary tree.\n",
    "\n",
    "The third line of input contains N integers, all separated by a single space. It represents the inorder-traversal of the binary tree.\n",
    "```"
   ]
  },
  {
   "cell_type": "code",
   "execution_count": 10,
   "metadata": {},
   "outputs": [
    {
     "name": "stdout",
     "output_type": "stream",
     "text": [
      "1:L 2,R 3\n",
      "2:L 4,R 5\n",
      "4:\n",
      "5:\n",
      "3:L 6,R 7\n",
      "6:\n",
      "7:\n"
     ]
    }
   ],
   "source": [
    "class treenode():\n",
    "    def __init__(self,data):\n",
    "        self.data = data\n",
    "        self.left = None\n",
    "        self.right = None\n",
    "\n",
    "def printtree(root):\n",
    "    if root == None:\n",
    "        return\n",
    "    print(root.data,end=':')\n",
    "    if root.left !=None:\n",
    "        print('L',root.left.data,end=',')\n",
    "    if root.right != None:\n",
    "        print('R',root.right.data,end='')\n",
    "    print()\n",
    "    printtree(root.left)\n",
    "    printtree(root.right)\n",
    "\n",
    "def Buildtree(pre,Inorder):\n",
    "    if len(pre) == 0:\n",
    "        return None\n",
    "    rootdata = pre[0]\n",
    "    root = treenode(rootdata)\n",
    "    rootindexInorder = Inorder.index(rootdata)\n",
    "    leftInorder = Inorder[0:rootindexInorder]\n",
    "    rightInorder = Inorder[rootindexInorder+1:]\n",
    "\n",
    "    lenLeftsubtree = len(leftInorder)\n",
    "    leftpreorder = pre[1:lenLeftsubtree+1]\n",
    "    rightpreorder = pre[lenLeftsubtree+1:]\n",
    "\n",
    "    leftchild = Buildtree(leftpreorder,leftInorder)\n",
    "    rightchild = Buildtree(rightpreorder,rightInorder)\n",
    "\n",
    "    root.left = leftchild\n",
    "    root.right = rightchild\n",
    "    return root\n",
    "\n",
    "\n",
    "\n",
    "pre = [1,2,4,5,3,6,7]\n",
    "Inorder =[4,2,5,1,6,3,7]\n",
    "root = Buildtree(pre,Inorder)\n",
    "printtree(root)"
   ]
  },
  {
   "cell_type": "code",
   "execution_count": 8,
   "metadata": {},
   "outputs": [
    {
     "name": "stdout",
     "output_type": "stream",
     "text": [
      "3\n"
     ]
    }
   ],
   "source": [
    "pre = [1,2,4,5,3,6,7]\n",
    "Inorder =[4,2,5,1,6,3,7]\n",
    "rootdata =pre[0]\n",
    "rootindexInorder = -1\n",
    "for i in range(0,len(Inorder)):\n",
    "    if Inorder[i] == rootdata:\n",
    "        rootindexInorder=i\n",
    "        break\n",
    "print(rootindexInorder)"
   ]
  }
 ],
 "metadata": {
  "kernelspec": {
   "display_name": "Python 3",
   "language": "python",
   "name": "python3"
  },
  "language_info": {
   "codemirror_mode": {
    "name": "ipython",
    "version": 3
   },
   "file_extension": ".py",
   "mimetype": "text/x-python",
   "name": "python",
   "nbconvert_exporter": "python",
   "pygments_lexer": "ipython3",
   "version": "3.11.4"
  },
  "orig_nbformat": 4
 },
 "nbformat": 4,
 "nbformat_minor": 2
}
