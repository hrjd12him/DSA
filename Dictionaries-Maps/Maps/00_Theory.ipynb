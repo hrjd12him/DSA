{
 "cells": [
  {
   "cell_type": "markdown",
   "metadata": {},
   "source": [
    "Collision handling is a crucial aspect of implementing a hash table (or hash map) data structure. Collisions occur when two different keys produce the same hash code, and both need to be stored in the same location (bucket) of the hash table. There are several common collision resolution techniques:\n",
    "\n",
    "1. **Chaining (Separate Chaining):**\n",
    "   - In this approach, each bucket of the hash table is associated with a data structure like a linked list, where multiple key-value pairs can be stored.\n",
    "   - When a collision occurs, the new key-value pair is added to the linked list at the corresponding bucket.\n",
    "   - When searching for a key, you hash it to find the bucket and then search the linked list at that bucket for the specific key.\n",
    "   - Chaining is easy to implement and can handle a large number of collisions effectively.\n",
    "\n",
    "   ![Chaining Illustration](https://upload.wikimedia.org/wikipedia/commons/thumb/d/d0/Hash_table_5_0_1_1_1_1_1_LL.svg/500px-Hash_table_5_0_1_1_1_1_1_LL.svg.png)\n",
    "\n",
    "2. **Open Addressing:**\n",
    "   - In open addressing, when a collision occurs, the algorithm searches for the next available slot in the array (usually by using a probing sequence) and stores the key-value pair there.\n",
    "   - Common probing techniques include linear probing (checking the next slot), quadratic probing (checking slots with quadratic intervals), and double hashing (using a secondary hash function).\n",
    "   - When searching for a key, if the initial hashed location does not contain the desired key, the algorithm follows the probing sequence until it finds an empty slot or the key it's looking for.\n",
    "   - Open addressing is more memory-efficient than chaining but requires careful implementation to avoid clustering and maintain efficiency.\n",
    "\n",
    "   ![Open Addressing Illustration](https://upload.wikimedia.org/wikipedia/commons/thumb/b/bf/Open_addressing.svg/500px-Open_addressing.svg.png)\n",
    "\n",
    "3. **Robin Hood Hashing:**\n",
    "   - This is a variation of open addressing that aims to reduce clustering by redistributing keys.\n",
    "   - When inserting a key, if it encounters a bucket with a key \"farther\" from its ideal position (according to a hash function), it swaps the keys and continues the insertion process.\n",
    "   - This technique helps maintain a more uniform distribution of keys.\n",
    "\n",
    "4. **Cuckoo Hashing:**\n",
    "   - Cuckoo hashing uses multiple hash functions and multiple arrays (or tables).\n",
    "   - When a collision occurs in one table, the key is moved to the other table using a different hash function.\n",
    "   - This process continues until there are no more collisions or until a cycle is detected, indicating a full or near-full hash table.\n",
    "\n",
    "5. **Double Hashing:**\n",
    "   - Double hashing is a probing technique where a secondary hash function is used to calculate the step size for probing.\n",
    "   - It provides a more deterministic sequence of probes compared to linear or quadratic probing.\n",
    "\n",
    "The choice of collision resolution technique depends on factors like expected workload, performance requirements, and available memory. Chaining is simple to implement and works well for most scenarios, while open addressing and its variations can be more memory-efficient but require careful design and handling of load factors to avoid performance degradation."
   ]
  }
 ],
 "metadata": {
  "language_info": {
   "name": "python"
  },
  "orig_nbformat": 4
 },
 "nbformat": 4,
 "nbformat_minor": 2
}
