{
 "cells": [
  {
   "cell_type": "markdown",
   "metadata": {},
   "source": [
    "# get value"
   ]
  },
  {
   "cell_type": "markdown",
   "metadata": {},
   "source": [
    "```\n",
    "Here we are going to code for get the value of are any key in are hashmap\n",
    "```"
   ]
  },
  {
   "cell_type": "code",
   "execution_count": 13,
   "metadata": {},
   "outputs": [
    {
     "name": "stdout",
     "output_type": "stream",
     "text": [
      "3\n"
     ]
    }
   ],
   "source": [
    "class hashNode:\n",
    "    def __init__(self,key,value):\n",
    "        self.key = key\n",
    "        self.value = value\n",
    "        self.next = None\n",
    "\n",
    "class Map():\n",
    "    def __init__(self):\n",
    "        self.bucketsize = 10\n",
    "        self.bucketlist = [None for i in range(self.bucketsize)]\n",
    "        self.count = 0\n",
    "\n",
    "    def size(self):\n",
    "        return self.count\n",
    "\n",
    "    def findIndex(self,hc):\n",
    "        return abs(hc)%(self.bucketsize)\n",
    "    \n",
    "\n",
    "    def insert(self,key,value):\n",
    "        hc = hash(key)\n",
    "        index = self.findIndex(hc)\n",
    "        head = self.bucketlist[index]\n",
    "        while head is not None:\n",
    "            if head.key == key:\n",
    "                head.value = value\n",
    "                return \n",
    "            head = head.next\n",
    "        newnode = hashNode(key,value)\n",
    "        newnode.next = head\n",
    "        self.bucketlist[index] = newnode\n",
    "        self.count +=1\n",
    "\n",
    "    def delete(self,key):\n",
    "        hc = hash(key)\n",
    "        index = self.findIndex(hc)\n",
    "        head = self.bucketlist[index]\n",
    "        pre = None\n",
    "        while head is not None:\n",
    "            if head.key == key:\n",
    "                if pre is None:\n",
    "                    self.bucketlist[index] = head.next\n",
    "                else:\n",
    "                    pre.next = head.next\n",
    "                return \n",
    "            pre = head\n",
    "            head = head.next\n",
    "        return None\n",
    "    \n",
    "\n",
    "\n",
    "    \n",
    "    def getvalue(self,key):\n",
    "        hc = hash(key)\n",
    "        index = self.findIndex(hc)\n",
    "        head = self.bucketlist[index]\n",
    "        while head is not None:\n",
    "            if head.key == key:\n",
    "                return head.value\n",
    "            head = head.next\n",
    "        return None\n",
    "\n",
    "\n",
    "d = Map()\n",
    "d.insert('abc',10)\n",
    "d.insert('abc',20)\n",
    "d.insert('abc',30)\n",
    "d.insert('dfc',11)\n",
    "d.insert('y',78)\n",
    "print(d.size())\n",
    "d.getvalue('abc')"
   ]
  }
 ],
 "metadata": {
  "kernelspec": {
   "display_name": "Python 3",
   "language": "python",
   "name": "python3"
  },
  "language_info": {
   "codemirror_mode": {
    "name": "ipython",
    "version": 3
   },
   "file_extension": ".py",
   "mimetype": "text/x-python",
   "name": "python",
   "nbconvert_exporter": "python",
   "pygments_lexer": "ipython3",
   "version": "3.11.4"
  },
  "orig_nbformat": 4
 },
 "nbformat": 4,
 "nbformat_minor": 2
}
