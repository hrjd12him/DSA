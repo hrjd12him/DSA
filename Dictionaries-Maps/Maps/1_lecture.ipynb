{
 "cells": [
  {
   "cell_type": "markdown",
   "metadata": {},
   "source": [
    "# we are here to make are own Dict or we can say hashmap\n"
   ]
  },
  {
   "cell_type": "markdown",
   "metadata": {},
   "source": [
    "```Writen a code for inserting data in are maps \n",
    "1. we have make a map function \n",
    "1.1 in which we have insert this will take input and insert in given index\n",
    "1.2 and we have size of map which will tell yous the size of are map```"
   ]
  },
  {
   "cell_type": "code",
   "execution_count": 7,
   "metadata": {},
   "outputs": [
    {
     "name": "stdout",
     "output_type": "stream",
     "text": [
      "1\n",
      "2\n"
     ]
    }
   ],
   "source": [
    "# BUILT ARE OWN MAPS\n",
    "#first we need to make class map\n",
    "# what does a map have a bucket array in which we stare are key Velues\n",
    "# and a count that will tell how many keys di it have\n",
    "# key and vales are stored in the for  of pair the we have to make a node of which have key ,velues \n",
    "class MapNode:\n",
    "    def __init__(self,key,value):\n",
    "        self.key = key\n",
    "        self.value = value\n",
    "        # here we will have next because if i have a duplicate key then the index is already filled the we will make a \n",
    "        # linked list in which we will store the value for n time of same key like if (a) is key with value 10\n",
    "        # it will get filled then again a came a,20 now in next it will sore a =2\n",
    "        self.next = None\n",
    "\n",
    "class map():\n",
    "    def __init__(self):\n",
    "        self.bucketsize = 10\n",
    "        self.bucketarr = [None for i in range(self.bucketsize)]\n",
    "        self.count = 0\n",
    "\n",
    "    def size(self):\n",
    "        return self.count\n",
    "    \n",
    "    def isbucketindex(self,hc):\n",
    "        return abs(hc)%(self.bucketsize)\n",
    "    \n",
    "    def insert(self,key,value):\n",
    "        hc = hash(key)\n",
    "        index = self.isbucketindex(hc)\n",
    "        head =self.bucketarr[index]\n",
    "        while head is not None:\n",
    "            if head.key == key:\n",
    "                head.value = value\n",
    "                return \n",
    "            head = head.next\n",
    "        newnode = MapNode(key,value)\n",
    "        newnode.next =head\n",
    "        self.bucketarr[index] = newnode\n",
    "        self.count +=1\n",
    "    \n",
    "d= map()\n",
    "d.insert(\"a\",5678943)\n",
    "print(d.size())\n",
    "d.insert('b',123456)\n",
    "print(d.size())\n",
    "d.insert(\"a\",98)"
   ]
  },
  {
   "cell_type": "code",
   "execution_count": 1,
   "metadata": {},
   "outputs": [
    {
     "data": {
      "text/plain": [
       "1"
      ]
     },
     "execution_count": 1,
     "metadata": {},
     "output_type": "execute_result"
    }
   ],
   "source": [
    "class mapnode:\n",
    "    def __init__(self,key,value):\n",
    "        self.key = key\n",
    "        self.value = value\n",
    "        self.next = None\n",
    "\n",
    "class map:\n",
    "    def __init__(self):\n",
    "        self.bucketsize = 10\n",
    "        self.bucketarray = [None]*(self.bucketsize)\n",
    "        self.count = 0\n",
    "\n",
    "    def size(self):\n",
    "        return self.count\n",
    "    \n",
    "    def findindex(self,hc):\n",
    "        return abs(hc)%(self.bucketsize)\n",
    "    \n",
    "    def insert(self,key,value):\n",
    "        hc = hash(key)\n",
    "        index = self.findindex(hc)\n",
    "\n",
    "        head= self.bucketarray[index]\n",
    "        while head is not None:\n",
    "            if head.key == key:\n",
    "                head.value = value\n",
    "                return\n",
    "            head =  head.next \n",
    "        newnode = mapnode(key,value)\n",
    "        newnode.next = head\n",
    "        self.bucketarray[index] = newnode\n",
    "        self.count +=1\n",
    "\n",
    "d = map()\n",
    "d.insert('abc',10)\n",
    "print(d.size())\n",
    "d.insert('abc',20)\n",
    "print(d.size())"
   ]
  }
 ],
 "metadata": {
  "kernelspec": {
   "display_name": "Python 3",
   "language": "python",
   "name": "python3"
  },
  "language_info": {
   "codemirror_mode": {
    "name": "ipython",
    "version": 3
   },
   "file_extension": ".py",
   "mimetype": "text/x-python",
   "name": "python",
   "nbconvert_exporter": "python",
   "pygments_lexer": "ipython3",
   "version": "3.11.4"
  },
  "orig_nbformat": 4
 },
 "nbformat": 4,
 "nbformat_minor": 2
}
