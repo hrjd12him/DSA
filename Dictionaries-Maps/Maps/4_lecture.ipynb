{
 "cells": [
  {
   "cell_type": "markdown",
   "metadata": {},
   "source": [
    "# Rehashing"
   ]
  },
  {
   "cell_type": "markdown",
   "metadata": {},
   "source": [
    "the term rehashing means whene ever are bucket array have a lood factore of more the 0.7 then we incr the sixe of are bucket array or list \n",
    "\n",
    "* what is load factor the term is known like if are hashtable is size of 10 and the inputs we have are 7 the \n",
    "```\n",
    "No of inputs (7)/(10) the no of size of the bucket array\n",
    " \n",
    "```"
   ]
  },
  {
   "cell_type": "code",
   "execution_count": 1,
   "metadata": {},
   "outputs": [
    {
     "data": {
      "text/plain": [
       "78"
      ]
     },
     "execution_count": 1,
     "metadata": {},
     "output_type": "execute_result"
    }
   ],
   "source": [
    "class mapnode:\n",
    "    def __init__(self,key,value):\n",
    "        self.key = key\n",
    "        self.value = value\n",
    "        self.next = None\n",
    "\n",
    "class map:\n",
    "    def __init__(self):\n",
    "        self.bucketsize = 10\n",
    "        self.bucketlist = [None for i in range(self.bucketsize)]\n",
    "        self.count  = 0\n",
    "\n",
    "    def size(self):\n",
    "        return self.count\n",
    "    \n",
    "    def findindex(self,hc):\n",
    "        return abs(hc)%(self.bucketsize)\n",
    "    \n",
    "    def rehashing(self):\n",
    "        temp = self.bucketlist\n",
    "        self.bucketlist = [None for i in range(2*self.bucketsize)]\n",
    "        self.bucketsize = 2*self.bucketsize\n",
    "        self.count = 0\n",
    "        for head in temp:\n",
    "            while head is not None:\n",
    "                self.insert(head.key,head.value)\n",
    "                head = head.next\n",
    "            \n",
    "\n",
    "    def insert(self,key,value):\n",
    "        hc = hash(key)\n",
    "        index = self.findindex(hc)\n",
    "        head = self.bucketlist[index]\n",
    "        while head is not None:\n",
    "            if head.key  == key:\n",
    "                head.value = value\n",
    "                return\n",
    "            head = head.next\n",
    "\n",
    "        newnode = mapnode(key,value)\n",
    "        newnode.next = head\n",
    "        self.bucketlist[index] = newnode\n",
    "        self.count +=1\n",
    "        if self.count/self.bucketsize > 0.7:\n",
    "            self.rehashing()\n",
    "\n",
    "    def getvalue(self,key):\n",
    "        hc = hash(key)\n",
    "        index = self.findindex(hc)\n",
    "        head = self.bucketlist[index]\n",
    "        while head is not None:\n",
    "            if head.key == key:\n",
    "                return head.value\n",
    "            head = head.next\n",
    "        return None\n",
    "    \n",
    "d = map()\n",
    "d.insert('abc',12)\n",
    "d.insert('vcx',78)\n",
    "d.getvalue('vcx')\n"
   ]
  }
 ],
 "metadata": {
  "kernelspec": {
   "display_name": "Python 3",
   "language": "python",
   "name": "python3"
  },
  "language_info": {
   "codemirror_mode": {
    "name": "ipython",
    "version": 3
   },
   "file_extension": ".py",
   "mimetype": "text/x-python",
   "name": "python",
   "nbconvert_exporter": "python",
   "pygments_lexer": "ipython3",
   "version": "3.11.4"
  },
  "orig_nbformat": 4
 },
 "nbformat": 4,
 "nbformat_minor": 2
}
