{
 "cells": [
  {
   "cell_type": "code",
   "execution_count": 2,
   "metadata": {},
   "outputs": [
    {
     "name": "stdout",
     "output_type": "stream",
     "text": [
      "3\n",
      "4\n",
      "2\n",
      "6\n",
      "1\n"
     ]
    }
   ],
   "source": [
    "class treenode:\n",
    "    def __init__(self,data):\n",
    "        self.data = data\n",
    "        self.left =None\n",
    "        self.right = None\n",
    "    \n",
    "def treeinput():\n",
    "    rootdata = int(input())\n",
    "    if rootdata ==-1:\n",
    "        return\n",
    "    root = treenode(rootdata)\n",
    "    leftinput = treeinput()\n",
    "    rightinput =treeinput()\n",
    "    root.left = leftinput\n",
    "    root.right = rightinput\n",
    "    return root\n",
    "\n",
    "def postorder(root):\n",
    "    if root == None:\n",
    "        return \n",
    "    postorder(root.left)\n",
    "    postorder(root.right)\n",
    "    print(root.data)\n",
    "\n",
    "root = treeinput()\n",
    "postorder(root)"
   ]
  }
 ],
 "metadata": {
  "kernelspec": {
   "display_name": "Python 3",
   "language": "python",
   "name": "python3"
  },
  "language_info": {
   "codemirror_mode": {
    "name": "ipython",
    "version": 3
   },
   "file_extension": ".py",
   "mimetype": "text/x-python",
   "name": "python",
   "nbconvert_exporter": "python",
   "pygments_lexer": "ipython3",
   "version": "3.11.4"
  },
  "orig_nbformat": 4
 },
 "nbformat": 4,
 "nbformat_minor": 2
}
