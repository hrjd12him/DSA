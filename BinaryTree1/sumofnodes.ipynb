{
 "cells": [
  {
   "cell_type": "code",
   "execution_count": 7,
   "metadata": {},
   "outputs": [
    {
     "name": "stdout",
     "output_type": "stream",
     "text": [
      "10: L 20,R 30\n",
      "20: L 40,\n",
      "40: \n",
      "30: \n"
     ]
    },
    {
     "data": {
      "text/plain": [
       "100"
      ]
     },
     "execution_count": 7,
     "metadata": {},
     "output_type": "execute_result"
    }
   ],
   "source": [
    "class treenode:\n",
    "    def __init__(self,data):\n",
    "        self.data = data\n",
    "        self.left = None\n",
    "        self.right = None\n",
    "\n",
    "def printtree(root):\n",
    "    if root ==None:\n",
    "        return\n",
    "    print(root.data,end=': ')\n",
    "    if root.left != None:\n",
    "        print('L',root.left.data,end=',')\n",
    "    if root.right != None:\n",
    "        print('R',root.right.data,end='')\n",
    "    print()\n",
    "    printtree(root.left)\n",
    "    printtree(root.right)\n",
    "\n",
    "def sumnodes(root):\n",
    "    if root == None:\n",
    "        return 0\n",
    "    leftsum = sumnodes(root.left)\n",
    "    rightsum =sumnodes(root.right)\n",
    "    sum = root.data+leftsum+rightsum\n",
    "    return sum\n",
    "\n",
    "def inputtree():\n",
    "    inputNo=int(input())\n",
    "    if inputNo == -1:\n",
    "        return\n",
    "    root = treenode(inputNo)\n",
    "    leftinput = inputtree()\n",
    "    rightinput = inputtree()\n",
    "    root.left = leftinput\n",
    "    root.right = rightinput\n",
    "    return root\n",
    "\n",
    "root = inputtree()\n",
    "print(printtree(root))\n",
    "print(sumnodes(root))\n"
   ]
  }
 ],
 "metadata": {
  "kernelspec": {
   "display_name": "Python 3",
   "language": "python",
   "name": "python3"
  },
  "language_info": {
   "codemirror_mode": {
    "name": "ipython",
    "version": 3
   },
   "file_extension": ".py",
   "mimetype": "text/x-python",
   "name": "python",
   "nbconvert_exporter": "python",
   "pygments_lexer": "ipython3",
   "version": "3.11.4"
  },
  "orig_nbformat": 4
 },
 "nbformat": 4,
 "nbformat_minor": 2
}
