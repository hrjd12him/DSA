{
 "cells": [
  {
   "cell_type": "code",
   "execution_count": 2,
   "metadata": {},
   "outputs": [
    {
     "name": "stdout",
     "output_type": "stream",
     "text": [
      "1:L 2,\n",
      "2:L 3,R 4\n",
      "3:\n",
      "4:\n"
     ]
    }
   ],
   "source": [
    "class TreeNode:\n",
    "    def __init__(self,data):\n",
    "        self.data =data\n",
    "        self.left = None\n",
    "        self.right = None\n",
    "\n",
    "def takeinput():\n",
    "    rootdata = int(input())\n",
    "    if rootdata ==-1:\n",
    "        return\n",
    "    root = TreeNode(rootdata)\n",
    "    leftnode = takeinput()\n",
    "    rightnode = takeinput()\n",
    "    root.left = leftnode\n",
    "    root.right = rightnode\n",
    "    return root\n",
    "\n",
    "def preorder(root):\n",
    "    if root == None:\n",
    "        return\n",
    "    print(root.data,end=\":\")\n",
    "    if root.left !=None:\n",
    "        print('L',root.left.data,end=',')\n",
    "    if root.right !=None:\n",
    "        print('R',root.right.data,end='')\n",
    "    print()\n",
    "    preorder(root.left)\n",
    "    preorder(root.right)\n",
    "\n",
    "root = takeinput()\n",
    "preorder(root)"
   ]
  }
 ],
 "metadata": {
  "kernelspec": {
   "display_name": "Python 3",
   "language": "python",
   "name": "python3"
  },
  "language_info": {
   "codemirror_mode": {
    "name": "ipython",
    "version": 3
   },
   "file_extension": ".py",
   "mimetype": "text/x-python",
   "name": "python",
   "nbconvert_exporter": "python",
   "pygments_lexer": "ipython3",
   "version": "3.11.4"
  },
  "orig_nbformat": 4
 },
 "nbformat": 4,
 "nbformat_minor": 2
}
