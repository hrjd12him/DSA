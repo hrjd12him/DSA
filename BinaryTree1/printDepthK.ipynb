{
 "cells": [
  {
   "cell_type": "code",
   "execution_count": null,
   "metadata": {},
   "outputs": [],
   "source": [
    "class node:\n",
    "    def  __init__(self,data):\n",
    "        self.data = data\n",
    "        self.left = None\n",
    "        self.right = None\n",
    "\n",
    "def Depthk(root,k):\n",
    "    if root == None:\n",
    "        return 0\n",
    "    if k ==0:\n",
    "        print(root.data)\n",
    "        return \n",
    "    Depthk(root.left,k-1)\n",
    "    Depthk(root.right,k-1)\n",
    "    \n",
    "\n",
    "def treeinput():\n",
    "    rootdata = int(input())\n",
    "    if rootdata == -1:\n",
    "        return\n",
    "    root = node(rootdata)\n",
    "    leftchild = treeinput()\n",
    "    rightchild = treeinput()\n",
    "\n",
    "    root.left = leftchild\n",
    "    root.right = rightchild\n",
    "\n",
    "    return root\n"
   ]
  }
 ],
 "metadata": {
  "language_info": {
   "name": "python"
  }
 },
 "nbformat": 4,
 "nbformat_minor": 2
}
