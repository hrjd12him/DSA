{
 "cells": [
  {
   "cell_type": "code",
   "execution_count": 6,
   "metadata": {},
   "outputs": [
    {
     "name": "stdout",
     "output_type": "stream",
     "text": [
      "10\n",
      "20\n",
      "30\n"
     ]
    }
   ],
   "source": [
    "class binaytree():\n",
    "    def __init__(self,data):\n",
    "        self.data = data\n",
    "        self.left=None\n",
    "        self.right=None\n",
    "\n",
    "def printtree(root):\n",
    "    if root == None:\n",
    "        return\n",
    "    print(root.data)\n",
    "    printtree(root.left)\n",
    "    printtree(root.right)\n",
    "\n",
    "\n",
    "\n",
    "btn = binaytree(10)\n",
    "btn1 = binaytree(20)\n",
    "btn2 = binaytree(30)\n",
    "\n",
    "\n",
    "btn.left = btn1\n",
    "btn.right = btn2\n",
    "\n",
    "\n",
    "printtree(btn)\n"
   ]
  },
  {
   "cell_type": "code",
   "execution_count": 11,
   "metadata": {},
   "outputs": [
    {
     "name": "stdout",
     "output_type": "stream",
     "text": [
      "10:L 20,R 30\n",
      "20:L 40,R 50\n",
      "40:\n",
      "50:\n",
      "30:\n"
     ]
    }
   ],
   "source": [
    "class binaytree():\n",
    "    def __init__(self,data):\n",
    "        self.data = data\n",
    "        self.left=None\n",
    "        self.right=None\n",
    "\n",
    "def printtree(root):\n",
    "    if root == None:\n",
    "        return\n",
    "    print(root.data,end=\":\")\n",
    "    if root.left !=None:\n",
    "        print('L',root.left.data,end=',')\n",
    "    if root.right != None:\n",
    "        print('R',root.right.data,end=\"\")\n",
    "    print()\n",
    "    printtree(root.left)\n",
    "    printtree(root.right)\n",
    "\n",
    "\n",
    "\n",
    "btn = binaytree(10)\n",
    "btn1 = binaytree(20)\n",
    "btn2 = binaytree(30)\n",
    "btn4 = binaytree(40)\n",
    "btn5 = binaytree(50)\n",
    "\n",
    "btn.left = btn1\n",
    "btn.right = btn2\n",
    "btn1.left = btn4\n",
    "btn1.right = btn5\n",
    "\n",
    "printtree(btn)\n"
   ]
  },
  {
   "cell_type": "code",
   "execution_count": 7,
   "metadata": {},
   "outputs": [
    {
     "name": "stdout",
     "output_type": "stream",
     "text": [
      "10:L 20,R 30\n",
      "20:L 40,R 50\n",
      "40:\n",
      "50:\n",
      "30:\n",
      "**************************************************\n",
      "The max data of Tree is:  50\n",
      "The Hight of are tree is:  3\n"
     ]
    }
   ],
   "source": [
    "class treeNode:\n",
    "    def __init__(self,data):\n",
    "        self.data =data\n",
    "        self.left = None\n",
    "        self.right = None\n",
    "\n",
    "def printTree(root):\n",
    "    if root == None:\n",
    "        return\n",
    "    print(root.data,end=':')\n",
    "    if root.left != None:\n",
    "        print('L',root.left.data,end=',')\n",
    "    if root.right != None:\n",
    "        print('R',root.right.data,end='')\n",
    "    print()\n",
    "    printTree(root.left)\n",
    "    printTree(root.right)\n",
    "\n",
    "def maxdata(root):\n",
    "    if root is None:\n",
    "        return float('-inf') \n",
    "    \n",
    "    leftmax = maxdata(root.left)    \n",
    "    rightmax = maxdata(root.right)  \n",
    "    maxele = max(root.data, leftmax, rightmax)  \n",
    "    \n",
    "    return maxele\n",
    "\n",
    "def hight(root):\n",
    "    if root is  None:\n",
    "        return 0\n",
    "    lefthight = hight(root.left)\n",
    "    righthight = hight(root.right)\n",
    "\n",
    "    maxhight = max(lefthight,righthight)+1\n",
    "    return maxhight\n",
    "\n",
    "btn =treeNode(10)\n",
    "btn1 =treeNode(20)\n",
    "btn2 =treeNode(30)\n",
    "btn3 =treeNode(40)\n",
    "btn4 =treeNode(50)\n",
    "\n",
    "btn.left = btn1\n",
    "btn.right = btn2\n",
    "btn1.left = btn3\n",
    "btn1.right = btn4\n",
    "\n",
    "printTree(btn)\n",
    "print('*'*50)\n",
    "print('The max data of Tree is: ',maxdata(btn))\n",
    "print('The Hight of are tree is: ',hight(btn))"
   ]
  }
 ],
 "metadata": {
  "kernelspec": {
   "display_name": "Python 3",
   "language": "python",
   "name": "python3"
  },
  "language_info": {
   "codemirror_mode": {
    "name": "ipython",
    "version": 3
   },
   "file_extension": ".py",
   "mimetype": "text/x-python",
   "name": "python",
   "nbconvert_exporter": "python",
   "pygments_lexer": "ipython3",
   "version": "3.11.4"
  },
  "orig_nbformat": 4
 },
 "nbformat": 4,
 "nbformat_minor": 2
}
