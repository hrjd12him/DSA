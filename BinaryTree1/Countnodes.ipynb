{
 "cells": [
  {
   "cell_type": "code",
   "execution_count": null,
   "metadata": {},
   "outputs": [],
   "source": [
    "class treenode:\n",
    "    def __init__(self,data):\n",
    "        self.data = data\n",
    "        self.left = None\n",
    "        self.right = None\n",
    "    \n",
    "def printTree(root):\n",
    "    if root ==None:\n",
    "        return \n",
    "    print(root.data,end=':')\n",
    "    if root.left != None:\n",
    "        print('L',root.left.data,end=',')\n",
    "    if root.right != None:\n",
    "        print('R',root.right.data,end='')\n",
    "    print()\n",
    "    printTree(root.left)\n",
    "    printTree(root.right)\n",
    "    \n",
    "def CountNode(root):\n",
    "    if root == None:\n",
    "        return 0\n",
    "    leftcount = CountNode(root.left)\n",
    "    rightcount = CountNode(root.right)\n",
    "    return 1 + leftcount + rightcount\n",
    "\n",
    "def Treeinput():\n",
    "    rootdata = int(input())\n",
    "    if rootdata == -1:\n",
    "        return\n",
    "    root = treenode(rootdata)\n",
    "    leftroot = Treeinput()\n",
    "    rightroot = Treeinput()\n",
    "    root.left = leftroot\n",
    "    root.right = rightroot\n",
    "    return root\n",
    "\n",
    "root =Treeinput()\n",
    "printTree(root)\n",
    "CountNode(root)"
   ]
  }
 ],
 "metadata": {
  "kernelspec": {
   "display_name": "Python 3",
   "language": "python",
   "name": "python3"
  },
  "language_info": {
   "codemirror_mode": {
    "name": "ipython",
    "version": 3
   },
   "file_extension": ".py",
   "mimetype": "text/x-python",
   "name": "python",
   "nbconvert_exporter": "python",
   "pygments_lexer": "ipython3",
   "version": "3.11.4"
  },
  "orig_nbformat": 4
 },
 "nbformat": 4,
 "nbformat_minor": 2
}
