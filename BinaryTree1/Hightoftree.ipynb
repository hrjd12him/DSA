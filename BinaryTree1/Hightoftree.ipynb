{
 "cells": [
  {
   "cell_type": "code",
   "execution_count": null,
   "metadata": {},
   "outputs": [],
   "source": [
    "class treenode():\n",
    "    def __init__(self,data):\n",
    "        self.data =data\n",
    "        self.left =None\n",
    "        self.right=None\n",
    "\n",
    "def inputtree():\n",
    "    inputNo=int(input())\n",
    "    if inputNo == -1:\n",
    "        return\n",
    "    root = treenode(inputNo)\n",
    "    leftinput = inputtree()\n",
    "    rightinput = inputtree()\n",
    "    root.left = leftinput\n",
    "    root.right = rightinput\n",
    "    return root\n",
    "\n",
    "def highttree(root):\n",
    "    if root == None:\n",
    "        return 0\n",
    "    lefthight = highttree(root.left)\n",
    "    righthight = highttree(root.right)\n",
    "\n",
    "    hight = max(lefthight,righthight)+1\n",
    "    return hight\n",
    "\n",
    "root = inputtree()\n",
    "highttree(root)\n",
    "    "
   ]
  }
 ],
 "metadata": {
  "language_info": {
   "name": "python"
  },
  "orig_nbformat": 4
 },
 "nbformat": 4,
 "nbformat_minor": 2
}
