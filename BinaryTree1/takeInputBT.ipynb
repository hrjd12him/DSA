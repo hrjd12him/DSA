{
 "cells": [
  {
   "cell_type": "code",
   "execution_count": 4,
   "metadata": {},
   "outputs": [
    {
     "name": "stdout",
     "output_type": "stream",
     "text": [
      "1:L 2,R 5\n",
      "2:L 3,R 4\n",
      "3:\n",
      "4:\n",
      "5:\n"
     ]
    }
   ],
   "source": [
    "class treenode:\n",
    "    def __init__(self,data):\n",
    "        self.data = data\n",
    "        self.left = None\n",
    "        self.right = None\n",
    "    \n",
    "def printTree(root):\n",
    "    if root ==None:\n",
    "        return \n",
    "    print(root.data,end=':')\n",
    "    if root.left != None:\n",
    "        print('L',root.left.data,end=',')\n",
    "    if root.right != None:\n",
    "        print('R',root.right.data,end='')\n",
    "    print()\n",
    "    printTree(root.left)\n",
    "    printTree(root.right)\n",
    "    \n",
    "def Treeinput():\n",
    "    rootdata = int(input())\n",
    "    if rootdata == -1:\n",
    "        return\n",
    "    root = treenode(rootdata)\n",
    "    leftroot = Treeinput()\n",
    "    rightroot = Treeinput()\n",
    "    root.left = leftroot\n",
    "    root.right = rightroot\n",
    "    return root\n",
    "\n",
    "root =Treeinput()\n",
    "printTree(root)"
   ]
  },
  {
   "cell_type": "code",
   "execution_count": 8,
   "metadata": {},
   "outputs": [
    {
     "name": "stdout",
     "output_type": "stream",
     "text": [
      "Enter left child of 1 :\n",
      "Enter left child of 2 :\n",
      "Enter right child of  2 :\n",
      "Enter right child of  1 :\n",
      "Enter left child of 3 :\n",
      "Enter right child of  3 :\n",
      "1\n",
      "2\n",
      "3\n"
     ]
    }
   ],
   "source": [
    "class TreeNode:\n",
    "    def __init__(self,data):\n",
    "        self.data = data\n",
    "        self.left = None\n",
    "        self.right = None\n",
    "def printBT(root):\n",
    "    if root == None:\n",
    "        return\n",
    "    print(root.data)\n",
    "    printBT(root.left)\n",
    "    printBT(root.right)\n",
    "\n",
    "def Sumnodes(root):\n",
    "    if root == None:\n",
    "        return 0\n",
    "    leftsum = Sumnodes(root.left)\n",
    "    rightsum = Sumnodes(root.right)\n",
    "\n",
    "    sum = root.data+leftsum+rightsum\n",
    "    return sum\n",
    "\n",
    "def treeinput():\n",
    "    rootdata = int(input())\n",
    "    if rootdata == -1:\n",
    "        return\n",
    "    root = TreeNode(rootdata)\n",
    "    print('Enter left child of',root.data,':')\n",
    "    leftroot = treeinput()\n",
    "    print('Enter right child of ',root.data,':')\n",
    "    rightroot = treeinput()\n",
    "    root.left = leftroot\n",
    "    root.right = rightroot\n",
    "    return root\n",
    "\n",
    "\n",
    "root = treeinput()\n",
    "printBT(root)\n"
   ]
  },
  {
   "cell_type": "markdown",
   "metadata": {},
   "source": [
    "taking input level wise and print it to the same process"
   ]
  },
  {
   "cell_type": "code",
   "execution_count": 14,
   "metadata": {},
   "outputs": [
    {
     "name": "stdout",
     "output_type": "stream",
     "text": [
      "Enter the data\n",
      "Enter the left child:  1\n",
      "enter the right child 1\n",
      "Enter the left child:  2\n",
      "enter the right child 2\n",
      "Enter the left child:  3\n",
      "enter the right child 3\n",
      "1:2,3\n",
      "2:"
     ]
    },
    {
     "ename": "AttributeError",
     "evalue": "'NoneType' object has no attribute 'data'",
     "output_type": "error",
     "traceback": [
      "\u001b[1;31m---------------------------------------------------------------------------\u001b[0m",
      "\u001b[1;31mAttributeError\u001b[0m                            Traceback (most recent call last)",
      "\u001b[1;32md:\\python\\CODING_NINJAS\\BinaryTree1\\takeInputBT.ipynb Cell 4\u001b[0m line \u001b[0;36m5\n\u001b[0;32m     <a href='vscode-notebook-cell:/d%3A/python/CODING_NINJAS/BinaryTree1/takeInputBT.ipynb#W3sZmlsZQ%3D%3D?line=47'>48</a>\u001b[0m     \u001b[39mreturn\u001b[39;00m root \n\u001b[0;32m     <a href='vscode-notebook-cell:/d%3A/python/CODING_NINJAS/BinaryTree1/takeInputBT.ipynb#W3sZmlsZQ%3D%3D?line=49'>50</a>\u001b[0m root \u001b[39m=\u001b[39m lavelwiseInput()\n\u001b[1;32m---> <a href='vscode-notebook-cell:/d%3A/python/CODING_NINJAS/BinaryTree1/takeInputBT.ipynb#W3sZmlsZQ%3D%3D?line=50'>51</a>\u001b[0m printlevelwise(root)\n",
      "\u001b[1;32md:\\python\\CODING_NINJAS\\BinaryTree1\\takeInputBT.ipynb Cell 4\u001b[0m line \u001b[0;36m1\n\u001b[0;32m     <a href='vscode-notebook-cell:/d%3A/python/CODING_NINJAS/BinaryTree1/takeInputBT.ipynb#W3sZmlsZQ%3D%3D?line=13'>14</a>\u001b[0m cur_node \u001b[39m=\u001b[39m q\u001b[39m.\u001b[39mget()\n\u001b[0;32m     <a href='vscode-notebook-cell:/d%3A/python/CODING_NINJAS/BinaryTree1/takeInputBT.ipynb#W3sZmlsZQ%3D%3D?line=14'>15</a>\u001b[0m \u001b[39mprint\u001b[39m(cur_node\u001b[39m.\u001b[39mdata,end\u001b[39m=\u001b[39m\u001b[39m'\u001b[39m\u001b[39m:\u001b[39m\u001b[39m'\u001b[39m)\n\u001b[1;32m---> <a href='vscode-notebook-cell:/d%3A/python/CODING_NINJAS/BinaryTree1/takeInputBT.ipynb#W3sZmlsZQ%3D%3D?line=15'>16</a>\u001b[0m \u001b[39mprint\u001b[39m(cur_node\u001b[39m.\u001b[39;49mleft\u001b[39m.\u001b[39;49mdata,end\u001b[39m=\u001b[39m\u001b[39m'\u001b[39m\u001b[39m,\u001b[39m\u001b[39m'\u001b[39m)\n\u001b[0;32m     <a href='vscode-notebook-cell:/d%3A/python/CODING_NINJAS/BinaryTree1/takeInputBT.ipynb#W3sZmlsZQ%3D%3D?line=16'>17</a>\u001b[0m \u001b[39mprint\u001b[39m(cur_node\u001b[39m.\u001b[39mright\u001b[39m.\u001b[39mdata)\n\u001b[0;32m     <a href='vscode-notebook-cell:/d%3A/python/CODING_NINJAS/BinaryTree1/takeInputBT.ipynb#W3sZmlsZQ%3D%3D?line=17'>18</a>\u001b[0m \u001b[39mif\u001b[39;00m cur_node\u001b[39m.\u001b[39mleft \u001b[39m!=\u001b[39m \u001b[39mNone\u001b[39;00m:\n",
      "\u001b[1;31mAttributeError\u001b[0m: 'NoneType' object has no attribute 'data'"
     ]
    }
   ],
   "source": [
    "import queue\n",
    "class TreeNode:\n",
    "    def __init__(self,data):\n",
    "        self.data = data\n",
    "        self.left = None\n",
    "        self.right = None\n",
    "\n",
    "def printlevelwise(root):\n",
    "    q = queue.Queue()\n",
    "    if root == None:\n",
    "        return\n",
    "    q.put(root)\n",
    "    while not q.empty():\n",
    "        cur_node = q.get()\n",
    "        print(cur_node.data,end=':')\n",
    "        print(cur_node.left.data,end=',')\n",
    "        print(cur_node.right.data)\n",
    "        if cur_node.left != None:\n",
    "            \n",
    "            q.put(cur_node.left)\n",
    "        if cur_node.right != None:\n",
    "            \n",
    "            q.put(cur_node.right)\n",
    "\n",
    "\n",
    "def lavelwiseInput():\n",
    "    q= queue.Queue()\n",
    "    print('Enter the data')\n",
    "    rootdata = int(input())\n",
    "    if rootdata == -1:\n",
    "        return \n",
    "    q.put(root)\n",
    "    while not q.empty():\n",
    "        curr_node = q.get()\n",
    "        print('Enter the left child: ',curr_node.data)\n",
    "        leftchilddata = int(input())\n",
    "        if leftchilddata != -1:\n",
    "            leftchild = TreeNode(leftchilddata)\n",
    "            curr_node.left = leftchild\n",
    "            q.put(leftchild)\n",
    "        print('enter the right child',curr_node.data)\n",
    "        rightchilddata = int(input())\n",
    "        if rightchilddata != -1:\n",
    "            rightchild = TreeNode(rightchilddata)\n",
    "            curr_node.right = rightchild\n",
    "            q.put(rightchild)\n",
    "\n",
    "    return root \n",
    "\n",
    "root = lavelwiseInput()\n",
    "printlevelwise(root)"
   ]
  }
 ],
 "metadata": {
  "kernelspec": {
   "display_name": "Python 3",
   "language": "python",
   "name": "python3"
  },
  "language_info": {
   "codemirror_mode": {
    "name": "ipython",
    "version": 3
   },
   "file_extension": ".py",
   "mimetype": "text/x-python",
   "name": "python",
   "nbconvert_exporter": "python",
   "pygments_lexer": "ipython3",
   "version": "3.11.4"
  },
  "orig_nbformat": 4
 },
 "nbformat": 4,
 "nbformat_minor": 2
}
