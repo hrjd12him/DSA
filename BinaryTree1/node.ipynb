{
 "cells": [
  {
   "cell_type": "code",
   "execution_count": null,
   "metadata": {},
   "outputs": [],
   "source": [
    "class binaytree():\n",
    "    def __init__(self,data):\n",
    "        self.data = data\n",
    "        self.left=None\n",
    "        self.right=None\n",
    "\n",
    "\n",
    "btn = binaytree(10)\n",
    "btn1 = binaytree(20)\n",
    "btn2 = binaytree(30)\n",
    "\n",
    "btn.left = btn1\n",
    "btn.right = btn2"
   ]
  }
 ],
 "metadata": {
  "language_info": {
   "name": "python"
  },
  "orig_nbformat": 4
 },
 "nbformat": 4,
 "nbformat_minor": 2
}
