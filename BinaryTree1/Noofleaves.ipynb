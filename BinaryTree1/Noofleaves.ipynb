{
 "cells": [
  {
   "cell_type": "code",
   "execution_count": null,
   "metadata": {},
   "outputs": [],
   "source": [
    "class treenode:\n",
    "    def __init__(self,data):\n",
    "        self.data = data\n",
    "        self.left =None\n",
    "        self.right = None\n",
    "    \n",
    "def treeinput():\n",
    "    rootdata = int(input())\n",
    "    if rootdata ==-1:\n",
    "        return\n",
    "    root = treenode(rootdata)\n",
    "    leftinput = treeinput()\n",
    "    rightinput =treeinput()\n",
    "    root.left = leftinput\n",
    "    root.right = rightinput\n",
    "    return root\n",
    "\n",
    "def Noofleaves(root):\n",
    "    if root == None:\n",
    "        return 0\n",
    "    if root.left == None and root.right == None:\n",
    "        return 1\n",
    "    leftleave = Noofleaves(root.left)\n",
    "    rightleave = Noofleaves(root.right)\n",
    "\n",
    "    return max(leftleave,rightleave)+1\n",
    "\n",
    "root = treeinput()\n",
    "Noofleaves(root)"
   ]
  }
 ],
 "metadata": {
  "language_info": {
   "name": "python"
  },
  "orig_nbformat": 4
 },
 "nbformat": 4,
 "nbformat_minor": 2
}
