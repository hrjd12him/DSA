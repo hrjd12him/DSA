{
 "cells": [
  {
   "cell_type": "code",
   "execution_count": null,
   "metadata": {},
   "outputs": [],
   "source": [
    "from collections import deque\n",
    "class MyStack:\n",
    "\n",
    "    def __init__(self):\n",
    "        self.q1 = deque()\n",
    "        self.q2 = deque()\n",
    "\n",
    "    def push(self, x: int) -> None:\n",
    "        self.q1.append(x)\n",
    "\n",
    "    def pop(self) -> int:\n",
    "        while len(self.q1) > 1:\n",
    "            self.q2.append(self.q1.popleft())\n",
    "        \n",
    "        popped_element = self.q1.popleft()\n",
    "        \n",
    "        self.q1, self.q2 = self.q2, self.q1\n",
    "        \n",
    "        return popped_element\n",
    "\n",
    "    def top(self) -> int:\n",
    "        while len(self.q1) > 1:\n",
    "            self.q2.append(self.q1.popleft())\n",
    "        \n",
    "        top_element = self.q1[0]\n",
    "        \n",
    "        self.q2.append(self.q1.popleft())\n",
    "        \n",
    "        self.q1, self.q2 = self.q2, self.q1\n",
    "        \n",
    "        return top_element\n",
    "\n",
    "    def empty(self) -> bool:\n",
    "        return len(self.q1) == 0"
   ]
  },
  {
   "cell_type": "code",
   "execution_count": null,
   "metadata": {},
   "outputs": [],
   "source": [
    "import queue\n",
    "\n",
    "class stack:\n",
    "    def __init__(self):\n",
    "        self.q1 = queue.Queue()\n",
    "        self.q2 = queue.Queue()\n",
    "\n",
    "    def push(self,x):\n",
    "        self.q2.put(x)\n",
    "        while not self.q1.empty():\n",
    "            self.q2.put(self.q1.get())\n",
    "\n",
    "        self.q1,self.q2 = self.q2,self.q1\n",
    "\n",
    "    def pop(self):\n",
    "        if not self.q1.empty():\n",
    "            return self.q1.get()\n",
    "        return None\n",
    "    \n",
    "    def is_empty(self):\n",
    "        return self.q1.empty()\n",
    "    \n",
    "    def size(self):\n",
    "        return self.q1.qsize()"
   ]
  },
  {
   "cell_type": "code",
   "execution_count": 1,
   "metadata": {},
   "outputs": [
    {
     "name": "stdout",
     "output_type": "stream",
     "text": [
      "[1, 2, 3, 6, 7]\n"
     ]
    }
   ],
   "source": [
    "l =[1, 1, 1, 2, 3, 3, 6, 6, 7]\n",
    "l1 = []\n",
    "for i in range(len(l)):\n",
    "    if l[i] not in l1:\n",
    "        l1.append(l[i])\n",
    "\n",
    "print(l1)\n"
   ]
  }
 ],
 "metadata": {
  "kernelspec": {
   "display_name": "Python 3",
   "language": "python",
   "name": "python3"
  },
  "language_info": {
   "codemirror_mode": {
    "name": "ipython",
    "version": 3
   },
   "file_extension": ".py",
   "mimetype": "text/x-python",
   "name": "python",
   "nbconvert_exporter": "python",
   "pygments_lexer": "ipython3",
   "version": "3.11.4"
  },
  "orig_nbformat": 4
 },
 "nbformat": 4,
 "nbformat_minor": 2
}
