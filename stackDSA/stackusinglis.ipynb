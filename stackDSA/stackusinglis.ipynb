{
 "cells": [
  {
   "cell_type": "code",
   "execution_count": 1,
   "metadata": {},
   "outputs": [],
   "source": [
    "class Stack:\n",
    "\n",
    "    def __init__(self):\n",
    "        self.__data = []\n",
    "\n",
    "    def push(self,items):\n",
    "        self.__data.append(items)\n",
    "\n",
    "    def pop(self):\n",
    "        if self.isEmpty():\n",
    "            print(\"Stack. Is Empty!!\")\n",
    "            return\n",
    "        return self.__data.pop()\n",
    "    \n",
    "    def top(self):\n",
    "        if self.isEmpty():\n",
    "            print(\"Stack. Is Empty!!\")\n",
    "            return\n",
    "        return self.__data[len(self.__data)-1]\n",
    "    \n",
    "    def size(self):\n",
    "        return len(self.__data)\n",
    "    \n",
    "    def isEmpty(self):\n",
    "        return self.size() == 0\n",
    "    \n",
    "\n",
    "                    \n"
   ]
  },
  {
   "cell_type": "code",
   "execution_count": 2,
   "metadata": {},
   "outputs": [
    {
     "name": "stdout",
     "output_type": "stream",
     "text": [
      "15\n",
      "13\n",
      "12\n"
     ]
    }
   ],
   "source": [
    "s= Stack()\n",
    "\n",
    "s.push(12)\n",
    "s.push(13)\n",
    "s.push(15)\n",
    "\n",
    "while s.isEmpty() is False:\n",
    "    print(s.pop())"
   ]
  }
 ],
 "metadata": {
  "kernelspec": {
   "display_name": "Python 3",
   "language": "python",
   "name": "python3"
  },
  "language_info": {
   "codemirror_mode": {
    "name": "ipython",
    "version": 3
   },
   "file_extension": ".py",
   "mimetype": "text/x-python",
   "name": "python",
   "nbconvert_exporter": "python",
   "pygments_lexer": "ipython3",
   "version": "3.11.4"
  },
  "orig_nbformat": 4
 },
 "nbformat": 4,
 "nbformat_minor": 2
}
