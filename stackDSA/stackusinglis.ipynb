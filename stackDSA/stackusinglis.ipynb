{
 "cells": [
  {
   "cell_type": "markdown",
   "metadata": {},
   "source": [
    "### Intuition\n",
    "The provided code implements a stack data structure using a list in Python. The stack follows the Last-In-First-Out (LIFO) principle, where the last element added is the first one to be removed.\n",
    "\n",
    "### Approach\n",
    "The `Stack` class is defined with methods for pushing (`push`), popping (`pop`), retrieving the top element (`top`), getting the size of the stack (`size`), and checking if the stack is empty (`isEmpty`). The underlying data structure for the stack is a Python list (`self.__data`), and operations are performed on this list to mimic stack behavior.\n",
    "\n",
    "An instance of the `Stack` class (`s`) is created, elements are pushed onto the stack, and then pop operations are performed in a loop to demonstrate the stack functionality.\n",
    "\n",
    "### Complexity\n",
    "- Time complexity:\n",
    "  - Push operation (`push`): O(1) amortized time complexity for adding an element to the end of a dynamic array (list in this case).\n",
    "  - Pop operation (`pop`): O(1) for removing the last element from the end of a dynamic array.\n",
    "  - Top operation (`top`): O(1) for accessing the last element of the list.\n",
    "  - Size operation (`size`): O(1) for getting the length of the list.\n",
    "  - IsEmpty operation (`isEmpty`): O(1) for checking if the list is empty.\n",
    "- Space complexity:\n",
    "  - The space complexity is O(n), where n is the number of elements in the stack. This is because the stack is implemented using a list, and the size of the list grows with the number of elements.\n",
    "\n",
    "The provided stack implementation using a Python list is efficient for typical stack operations, and its time complexity is constant for push, pop, top, size, and isEmpty operations."
   ]
  },
  {
   "cell_type": "code",
   "execution_count": 1,
   "metadata": {},
   "outputs": [],
   "source": [
    "class Stack:\n",
    "\n",
    "    def __init__(self):\n",
    "        self.__data = []\n",
    "\n",
    "    def push(self,items):\n",
    "        self.__data.append(items)\n",
    "\n",
    "    def pop(self):\n",
    "        if self.isEmpty():\n",
    "            print(\"Stack. Is Empty!!\")\n",
    "            return\n",
    "        return self.__data.pop()\n",
    "    \n",
    "    def top(self):\n",
    "        if self.isEmpty():\n",
    "            print(\"Stack. Is Empty!!\")\n",
    "            return\n",
    "        return self.__data[len(self.__data)-1]\n",
    "    \n",
    "    def size(self):\n",
    "        return len(self.__data)\n",
    "    \n",
    "    def isEmpty(self):\n",
    "        return self.size() == 0\n",
    "    \n",
    "s= Stack()\n",
    "\n",
    "s.push(12)\n",
    "s.push(13)\n",
    "s.push(15)\n",
    "\n",
    "while s.isEmpty() is False:\n",
    "    print(s.pop())\n",
    "                    \n"
   ]
  },
  {
   "cell_type": "code",
   "execution_count": 2,
   "metadata": {},
   "outputs": [
    {
     "name": "stdout",
     "output_type": "stream",
     "text": [
      "15\n",
      "13\n",
      "12\n"
     ]
    }
   ],
   "source": [
    "s= Stack()\n",
    "\n",
    "s.push(12)\n",
    "s.push(13)\n",
    "s.push(15)\n",
    "\n",
    "while s.isEmpty() is False:\n",
    "    print(s.pop())"
   ]
  }
 ],
 "metadata": {
  "kernelspec": {
   "display_name": "Python 3",
   "language": "python",
   "name": "python3"
  },
  "language_info": {
   "codemirror_mode": {
    "name": "ipython",
    "version": 3
   },
   "file_extension": ".py",
   "mimetype": "text/x-python",
   "name": "python",
   "nbconvert_exporter": "python",
   "pygments_lexer": "ipython3",
   "version": "3.11.4"
  },
  "orig_nbformat": 4
 },
 "nbformat": 4,
 "nbformat_minor": 2
}
