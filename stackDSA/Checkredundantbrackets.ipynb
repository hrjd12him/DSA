{
 "cells": [
  {
   "cell_type": "markdown",
   "metadata": {},
   "source": [
    "```\n",
    "# Check Redundant Brackets\n",
    "Problem Description: Given a single string mathematical expression, return true if\n",
    "redundant brackets are present in the expression. Brackets are redundant if\n",
    "there is nothing inside the bracket or more than one pair of brackets are present.\n",
    "Assume the given string expression is balanced and contains only one type of\n",
    "bracket i.e. ().\n",
    "\n",
    "Sample Input:\n",
    "((a+b))\n",
    "(a+b)\n",
    "\n",
    "Sample Output:\n",
    "t rue\n",
    "false\n",
    "```"
   ]
  },
  {
   "cell_type": "markdown",
   "metadata": {},
   "source": [
    "# How to approach?\n",
    "* An expression is said to have redundant brackets if and only if a pair of brackets\n",
    "surround a part of the expression that is already surrounded by a different pair of\n",
    "brackets.\n",
    "* In other words, if every pair of brackets contain some operand or operator that is not\n",
    "already contained in a different pair of brackets , only then can we conclude that the\n",
    "expression has no redundant brackets.\n",
    "* Now, let’s move on to the approach. Whenever you see brackets involved, the first thing\n",
    "you should try is using a stack somewhere. Let’s see if a stack can help us in this\n",
    "problem.\n",
    "* We know now what redundant brackets are but how can we detect them\n",
    "programmatically? If a pair of brackets don’t contain any new information (i.e. a\n",
    "previously uncontained operand or operator) then we will know that that pair of brackets\n",
    "is redundant and we can simply return true. Let’s see how a stack can help us determine\n",
    "whether a bracket pair has new information.\n",
    "* We will maintain a stack of characters and iterate through the string. Whenever we\n",
    "encounter any character except a closing bracket ‘)’, we will simply push that character\n",
    "to the stack and move to the next iteration.\n",
    "* In the case we encounter a closing bracket, we will check the top of the stack. If the top\n",
    "of the stack contains an opening bracket ‘(‘, we will know that that pair of brackets\n",
    "contains no new information (i.e. it’s redundant) and we can simply return true.\n",
    "* Otherwise we will keep popping out element from the stack’s top till we get an opening\n",
    "bracket and then pop that too. This process actually removes all information contained\n",
    "within that pair of brackets, since we don’t need it anymore.\n",
    "\n",
    "# Note - \n",
    "We will always find an opening bracket since the expression is balanced.\n",
    "If we execute all the iterations without finding any redundant brackets, we can return\n",
    "false\n"
   ]
  },
  {
   "cell_type": "code",
   "execution_count": 2,
   "metadata": {},
   "outputs": [
    {
     "name": "stdout",
     "output_type": "stream",
     "text": [
      "True\n",
      "False\n",
      "False\n",
      "True\n"
     ]
    }
   ],
   "source": [
    "def has_redundant_brackets(s):\n",
    "    stack = []\n",
    "    \n",
    "    for char in s:\n",
    "        if char == '(':\n",
    "            stack.append(char)\n",
    "        elif char == ')':\n",
    "            if stack[-1] == '(':\n",
    "                return True\n",
    "\n",
    "            while stack and stack[-1] != '(':\n",
    "                stack.pop()\n",
    "            stack.pop() \n",
    "        else:\n",
    "            stack.append(char)\n",
    "    \n",
    "    return False\n",
    "\n",
    "print(has_redundant_brackets(\"((a+b))\")) \n",
    "print(has_redundant_brackets(\"(a+b)\")) \n",
    "print(has_redundant_brackets(\"a+(b+a(l*x))\"))\n",
    "print(has_redundant_brackets(\"a+b(l*c((i+j)))\"))\n"
   ]
  }
 ],
 "metadata": {
  "kernelspec": {
   "display_name": "Python 3",
   "language": "python",
   "name": "python3"
  },
  "language_info": {
   "codemirror_mode": {
    "name": "ipython",
    "version": 3
   },
   "file_extension": ".py",
   "mimetype": "text/x-python",
   "name": "python",
   "nbconvert_exporter": "python",
   "pygments_lexer": "ipython3",
   "version": "3.11.4"
  },
  "orig_nbformat": 4
 },
 "nbformat": 4,
 "nbformat_minor": 2
}
