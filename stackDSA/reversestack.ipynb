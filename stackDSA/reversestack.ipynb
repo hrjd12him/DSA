{
 "cells": [
  {
   "cell_type": "code",
   "execution_count": 5,
   "metadata": {},
   "outputs": [
    {
     "name": "stdout",
     "output_type": "stream",
     "text": [
      "[1, 2, 3, 4]\n",
      "[4, 3, 2, 1]\n"
     ]
    }
   ],
   "source": [
    "from sys import setrecursionlimit\n",
    "setrecursionlimit(11000)\n",
    "\n",
    "def recursivestack(s1,s2):\n",
    "    if len(s1)<=1:\n",
    "        return \n",
    "\n",
    "    while (len(s1)!=1):\n",
    "        ele = s1.pop()\n",
    "        s2.append(ele)\n",
    "    lastelement = s1.pop()\n",
    "\n",
    "    while len(s2) != 0:\n",
    "        ele = s2.pop()\n",
    "        s1.append(ele)\n",
    "    \n",
    "    recursivestack(s1,s2)\n",
    "    s1.append(lastelement)\n",
    "\n",
    "\n",
    "\n",
    "s1 = [int(ele) for ele in input().split()]\n",
    "s2 = []\n",
    "print(s1)\n",
    "recursivestack(s1,s2)\n",
    "print(s1)"
   ]
  }
 ],
 "metadata": {
  "kernelspec": {
   "display_name": "Python 3",
   "language": "python",
   "name": "python3"
  },
  "language_info": {
   "codemirror_mode": {
    "name": "ipython",
    "version": 3
   },
   "file_extension": ".py",
   "mimetype": "text/x-python",
   "name": "python",
   "nbconvert_exporter": "python",
   "pygments_lexer": "ipython3",
   "version": "3.11.4"
  },
  "orig_nbformat": 4
 },
 "nbformat": 4,
 "nbformat_minor": 2
}
