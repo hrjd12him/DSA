{
 "cells": [
  {
   "cell_type": "code",
   "execution_count": null,
   "metadata": {},
   "outputs": [],
   "source": [
    "def isValid(str):\n",
    "    s1 = []\n",
    "    for char in str:\n",
    "        if char in '({[':\n",
    "            s1.append(char)\n",
    "        elif char is ')':\n",
    "            if not s1 or s1[-1]!='(':\n",
    "                return False\n",
    "            s1.pop()\n",
    "        elif char is '}':\n",
    "            if not s1 or s1[-1]!='{':\n",
    "                return False\n",
    "            s1.pop()\n",
    "        elif char is ']':\n",
    "            if not s1 or s1[-1]!='[':\n",
    "                return False\n",
    "            s1.pop()\n",
    "    if not s1:\n",
    "        return True\n",
    "    return False\n",
    "\n",
    "s =\"(a+{c*d)\"\n",
    "isValid(s)\n"
   ]
  },
  {
   "cell_type": "code",
   "execution_count": 2,
   "metadata": {},
   "outputs": [
    {
     "name": "stdout",
     "output_type": "stream",
     "text": [
      "True\n"
     ]
    }
   ],
   "source": [
    "def isValid(s):\n",
    "    stack = []\n",
    "    bracket_mapping = {')': '(', '}': '{', ']': '['}\n",
    "\n",
    "    for char in s:\n",
    "        if char in '({[':\n",
    "            stack.append(char)\n",
    "        elif char in ')}]':\n",
    "            if not stack or stack[-1] != bracket_mapping[char]:\n",
    "                return False\n",
    "            stack.pop()\n",
    "\n",
    "    return not stack\n",
    "\n",
    "s = \"(a+{c*d})\"\n",
    "print(isValid(s))\n"
   ]
  }
 ],
 "metadata": {
  "kernelspec": {
   "display_name": "Python 3",
   "language": "python",
   "name": "python3"
  },
  "language_info": {
   "codemirror_mode": {
    "name": "ipython",
    "version": 3
   },
   "file_extension": ".py",
   "mimetype": "text/x-python",
   "name": "python",
   "nbconvert_exporter": "python",
   "pygments_lexer": "ipython3",
   "version": "3.11.4"
  },
  "orig_nbformat": 4
 },
 "nbformat": 4,
 "nbformat_minor": 2
}
