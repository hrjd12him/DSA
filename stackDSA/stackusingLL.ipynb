{
 "cells": [
  {
   "cell_type": "markdown",
   "metadata": {},
   "source": [
    "### Intuition\n",
    "The provided code implements a simple stack data structure using a linked list. Stacks follow the Last-In-First-Out (LIFO) principle, where the last element added is the first one to be removed.\n",
    "\n",
    "### Approach\n",
    "The `node` class is defined to create nodes with `data` and `next` attributes. The `stack` class is then defined with methods for pushing (`push`), popping (`pop`), retrieving the top element (`top`), getting the size of the stack (`size`), and checking if the stack is empty (`isEmpty`).\n",
    "\n",
    "An instance of the `stack` class (`s`) is created, elements are pushed onto the stack, and then pop operations are performed in a loop to demonstrate the stack functionality.\n",
    "\n",
    "### Complexity\n",
    "- Time complexity:\n",
    "  - Push operation (`push`): O(1)\n",
    "  - Pop operation (`pop`): O(1)\n",
    "  - Top operation (`top`): O(1)\n",
    "  - Size operation (`size`): O(1)\n",
    "  - IsEmpty operation (`isEmpty`): O(1)\n",
    "- Space complexity:\n",
    "  - The space complexity for the `stack` class is O(n), where n is the number of elements in the stack. Each element in the stack requires a node with `data` and `next` attributes.\n",
    "\n",
    "The provided stack implementation is efficient for typical stack operations, and its time complexity is constant for push, pop, top, size, and isEmpty operations."
   ]
  },
  {
   "cell_type": "code",
   "execution_count": 2,
   "metadata": {},
   "outputs": [],
   "source": [
    "class node():\n",
    "    def __init__(self, data):\n",
    "        self.data = data\n",
    "        self.next  = None\n",
    "\n",
    "class stack():\n",
    "    def __init__(self):\n",
    "        self.__head = None\n",
    "        self.__count = 0\n",
    "    \n",
    "    def push(self, element):\n",
    "        newnode = node(element)\n",
    "        newnode.next = self.__head\n",
    "        self.__head = newnode\n",
    "        self.__count += 1\n",
    "\n",
    "    def pop(self):\n",
    "        if self.isEmpty() is True:\n",
    "            print(\"Hey. Stack is Empty\")\n",
    "            return\n",
    "        data = self.__head.data\n",
    "        self.__head = self.__head.next\n",
    "        self.__count -= 1\n",
    "        return data\n",
    "    \n",
    "    def top(self):\n",
    "        if self.isEmpty() is True:\n",
    "            print('Stack Is empty')\n",
    "            return\n",
    "        data = self.__head.data\n",
    "        return data\n",
    "    \n",
    "    def size(self):\n",
    "        return self.__count\n",
    "    \n",
    "    def isEmpty(self):\n",
    "        return self.__count == 0\n",
    "    \n",
    "\n",
    "s=stack()\n",
    "s.push(12)\n",
    "s.push(23)\n",
    "s.push(98)\n",
    "\n",
    "print(s.size())\n",
    "\n",
    "while s.isEmpty() is False:\n",
    "    print(s.pop())\n"
   ]
  },
  {
   "cell_type": "code",
   "execution_count": 16,
   "metadata": {},
   "outputs": [
    {
     "name": "stdout",
     "output_type": "stream",
     "text": [
      "3\n",
      "98\n",
      "23\n",
      "12\n"
     ]
    }
   ],
   "source": [
    "s=stack()\n",
    "s.push(12)\n",
    "s.push(23)\n",
    "s.push(98)\n",
    "\n",
    "print(s.size())\n",
    "\n",
    "while s.isEmpty() is False:\n",
    "    print(s.pop())"
   ]
  }
 ],
 "metadata": {
  "kernelspec": {
   "display_name": "Python 3",
   "language": "python",
   "name": "python3"
  },
  "language_info": {
   "codemirror_mode": {
    "name": "ipython",
    "version": 3
   },
   "file_extension": ".py",
   "mimetype": "text/x-python",
   "name": "python",
   "nbconvert_exporter": "python",
   "pygments_lexer": "ipython3",
   "version": "3.11.4"
  },
  "orig_nbformat": 4
 },
 "nbformat": 4,
 "nbformat_minor": 2
}
