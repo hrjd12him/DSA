{
 "cells": [
  {
   "cell_type": "code",
   "execution_count": 3,
   "metadata": {},
   "outputs": [],
   "source": [
    "class node():\n",
    "    def __init__(self, data):\n",
    "        self.data = data\n",
    "        self.next  = None\n"
   ]
  },
  {
   "cell_type": "code",
   "execution_count": 2,
   "metadata": {},
   "outputs": [],
   "source": [
    "class stack():\n",
    "    def __init__(self):\n",
    "        self.__head = None\n",
    "        self.__count = 0\n",
    "    \n",
    "    def push(self, element):\n",
    "        newnode = node(element)\n",
    "        newnode.next = self.__head\n",
    "        self.__head = newnode\n",
    "        self.__count += 1\n",
    "\n",
    "    def pop(self):\n",
    "        if self.isEmpty() is True:\n",
    "            print(\"Hey. Stack is Empty\")\n",
    "            return\n",
    "        data = self.__head.data\n",
    "        self.__head = self.__head.next\n",
    "        self.__count -= 1\n",
    "        return data\n",
    "    \n",
    "    def top(self):\n",
    "        if self.isEmpty() is True:\n",
    "            print('Stack Is empty')\n",
    "            return\n",
    "        data = self.__head.data\n",
    "        return data\n",
    "    \n",
    "    def size(self):\n",
    "        return self.__count\n",
    "    \n",
    "    def isEmpty(self):\n",
    "        return self.__count == 0\n"
   ]
  },
  {
   "cell_type": "code",
   "execution_count": 16,
   "metadata": {},
   "outputs": [
    {
     "name": "stdout",
     "output_type": "stream",
     "text": [
      "3\n",
      "98\n",
      "23\n",
      "12\n"
     ]
    }
   ],
   "source": [
    "s=stack()\n",
    "s.push(12)\n",
    "s.push(23)\n",
    "s.push(98)\n",
    "\n",
    "print(s.size())\n",
    "\n",
    "while s.isEmpty() is False:\n",
    "    print(s.pop())"
   ]
  }
 ],
 "metadata": {
  "kernelspec": {
   "display_name": "Python 3",
   "language": "python",
   "name": "python3"
  },
  "language_info": {
   "codemirror_mode": {
    "name": "ipython",
    "version": 3
   },
   "file_extension": ".py",
   "mimetype": "text/x-python",
   "name": "python",
   "nbconvert_exporter": "python",
   "pygments_lexer": "ipython3",
   "version": "3.11.4"
  },
  "orig_nbformat": 4
 },
 "nbformat": 4,
 "nbformat_minor": 2
}
