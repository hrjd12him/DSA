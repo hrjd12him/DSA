{
 "cells": [
  {
   "cell_type": "markdown",
   "metadata": {},
   "source": [
    "# stock span\n",
    "```\n",
    "Problem Description: The span si of a stock’s price on a certain day i is the\n",
    "minimum number of consecutive days (up to the current day) the price of the\n",
    "stock has been less than its price on that ith day. If for a particular day, if no\n",
    "stock price is greater then just count the number of days till 0th day including\n",
    "current day. Given an input array with all stock prices, you need to return the\n",
    "array with corresponding spans of each day.\n",
    "\n",
    "* Sample Input:\n",
    "8\n",
    "60 70 80 100 90 75 80 120\n",
    "* Sample Output:\n",
    "1 2 3 4 1 1 2 8\n",
    "```"
   ]
  },
  {
   "cell_type": "markdown",
   "metadata": {},
   "source": [
    "# How to approach?\n",
    "* One easy and intuitive method to approach this question would be to iterate through the\n",
    "array and for every element, to again iterate from that element to the beginning of the\n",
    "array and count the number of consecutive elements that are smaller than or equal to\n",
    "the current element. The time complexity of this approach is O(n 2 ), where n is the size of\n",
    "the array. We can do better.\n",
    "* One reason why the time complexity is quadratic is because we are redoing work which\n",
    "has been done before. Let’s take a look at the sample input. When we reverse-iterated\n",
    "for element ‘70’ and got 2 for that position, we knew that 70 is the largest element in the\n",
    "array till its index. So for the next iteration when we encounter 80, we know that 80 is\n",
    "larger than 70 and 70 was the largest element in its prefix (the part of the array from\n",
    "index 0 to the current index), so we automatically can conclude that 80 is the largest\n",
    "element in its prefix and directly put 3 for that position. Same for position of element 100.\n",
    "* To avoid the extra comparisons, we can use a stack to keep track of elements that\n",
    "we’ve encountered so far and remove elements that have a higher element after them.\n",
    "\n",
    "* Let’s do a dry run on the sample input which is:\n",
    "```\n",
    "60 70 80 100 90 75 80 120\n",
    "0   1  2  3   4  5  6   7\n",
    "```\n",
    "Let’s also maintain a stack which is going to store the indices of the concerned\n",
    "elements, not the elements themselves.\n",
    "Let’s iterate through the array using the variable i and maintain an array called ‘span’\n",
    "which will store the span values for each element.\n",
    "1. (i = 0) The stack is empty right now. So span[i] will be directly equal to i+1. No\n",
    "need to do any other work. Remember, an empty stack denotes that the current\n",
    "element is the largest in its prefix. After we set the value of span[i], we’ll push the\n",
    "index (which is 0) into the stack. Note, that we push ‘0’, not ‘60’.\n",
    "2. (i = 1) The stack is not empty. This denotes that the current element may or may\n",
    "not be the largest in its prefix. We can’t be sure just yet. So let’s iterate through\n",
    "the stack and remove those indices from stack’s top for which the current\n",
    "element is larger than the element at stack’s top’s index. So in our case the stack\n",
    "had 0. Since arr[1] > arr[stack-top], we can pop the top element from stack. Now,\n",
    "the stack is empty and this means arr[i] is the largest in its prefix so span[i] can\n",
    "be directly assigned the value of i+1 and then we push ‘i’ to the stack. If you\n",
    "notice, there will be similar cases for i=2 and i=3. So let’s move on to...\n",
    "3. (i = 4) The stack is not empty. The only value it contains is ‘3’, the index of 100.\n",
    "This case is different because arr[i] is less than arr[stack-top]. This signifies that\n",
    "the nearest element to ‘90’ which is larger than it and to its left is at index ‘3’. In\n",
    "this case, we don’t pop stack’s top. Instead, we find the distance between the\n",
    "current element and stack’s top which will be i - stacktop or 4 - 3 or 1.\n",
    "So we put span[i] = 1 and push ‘i’ to stack. Continuing on in this way we can fill\n",
    "the span array completely."
   ]
  },
  {
   "cell_type": "code",
   "execution_count": 14,
   "metadata": {},
   "outputs": [
    {
     "name": "stdout",
     "output_type": "stream",
     "text": [
      "1 2 3 4 1 1 2 8\n"
     ]
    }
   ],
   "source": [
    "l = [60,70,80,100,90,75,80,120]\n",
    "n=8\n",
    "c=1\n",
    "x=[]\n",
    "for i in range(len(l)-1):\n",
    "    if len(x)==0:\n",
    "        print(1,end=' ')\n",
    "        x.append(l[i])\n",
    "    elif x[-1]<l[i]:\n",
    "        x.append(l[i])\n",
    "        print(len(x),end=' ')\n",
    "    else:\n",
    "        x.clear()\n",
    "        print(1,end=' ')\n",
    "        x.append(l[i])\n",
    "x.clear()\n",
    "x.append(max(l))\n",
    "for i in range(-2,-len(l)-1,-1):\n",
    "    if l[-1]>l[i]:\n",
    "        x.append(l[i])\n",
    "    elif len(x)>0:\n",
    "        print(len(x))\n",
    "        break\n",
    "else:\n",
    "    print(len(x))\n",
    "    "
   ]
  },
  {
   "cell_type": "code",
   "execution_count": 20,
   "metadata": {},
   "outputs": [
    {
     "name": "stdout",
     "output_type": "stream",
     "text": [
      "[0, 0, 0, 0, 0, 0, 0]\n"
     ]
    }
   ],
   "source": [
    "price = [10, 4, 5, 90, 120, 80]\n",
    "S = [0 for i in range(len(price)+1)]\n",
    "s = [0]*(len(price)+1)\n",
    "print(s)"
   ]
  },
  {
   "cell_type": "code",
   "execution_count": 28,
   "metadata": {},
   "outputs": [
    {
     "name": "stdout",
     "output_type": "stream",
     "text": [
      "[1, 1, 1, 4, 5, 6]\n"
     ]
    }
   ],
   "source": [
    "\n",
    "price = [50,40,35,60,70,100]\n",
    "S = [0]*(len(price)) \n",
    "n = len(price)\n",
    "st=[] #indices\n",
    "st.append(0)\n",
    "\n",
    "\n",
    "S[0] = 1\n",
    "for i in range(1,n):\n",
    "    while len(st)>0 and price[st[-1]]<price[i]:\n",
    "        st.pop() \n",
    "\n",
    "    if len(st)<=0:\n",
    "        S[i] = i+1\n",
    "    else:\n",
    "        S[i] = i-st[-1]\n",
    "\n",
    "    st.append(i)\n",
    "print(S)"
   ]
  }
 ],
 "metadata": {
  "kernelspec": {
   "display_name": "Python 3",
   "language": "python",
   "name": "python3"
  },
  "language_info": {
   "codemirror_mode": {
    "name": "ipython",
    "version": 3
   },
   "file_extension": ".py",
   "mimetype": "text/x-python",
   "name": "python",
   "nbconvert_exporter": "python",
   "pygments_lexer": "ipython3",
   "version": "3.11.4"
  },
  "orig_nbformat": 4
 },
 "nbformat": 4,
 "nbformat_minor": 2
}
