{
 "cells": [
  {
   "cell_type": "code",
   "execution_count": 8,
   "metadata": {},
   "outputs": [
    {
     "name": "stdout",
     "output_type": "stream",
     "text": [
      "2:5,9,8,4,\n",
      "5:\n",
      "9:98,1,\n",
      "98:\n",
      "1:\n",
      "8:\n",
      "4:\n"
     ]
    }
   ],
   "source": [
    "# printing Generic Tree\n",
    "class treenode():\n",
    "    def __init__(self,data):\n",
    "        self.data = data\n",
    "        self.children  = list()\n",
    "\n",
    "def printGenerictree(root):\n",
    "    if root ==None:\n",
    "        return \n",
    "    print(root.data,end=':')\n",
    "    for child in root.children:\n",
    "        print(child.data,end=',')\n",
    "    print()\n",
    "    for child in root.children:\n",
    "        printGenerictree(child)\n",
    "\n",
    "s1 = treenode(2)\n",
    "s2 = treenode(5)\n",
    "s3 = treenode(9)\n",
    "s4 = treenode(8)\n",
    "s5 = treenode(4)\n",
    "s6 = treenode(98)\n",
    "s7 = treenode(1)\n",
    "\n",
    "\n",
    "s1.children.append(s2)\n",
    "s1.children.append(s3)\n",
    "s1.children.append(s4)\n",
    "s1.children.append(s5)\n",
    "\n",
    "s3.children.append(s6)\n",
    "s3.children.append(s7)\n",
    "\n",
    "root = s1\n",
    "printGenerictree(root)\n"
   ]
  }
 ],
 "metadata": {
  "kernelspec": {
   "display_name": "Python 3",
   "language": "python",
   "name": "python3"
  },
  "language_info": {
   "codemirror_mode": {
    "name": "ipython",
    "version": 3
   },
   "file_extension": ".py",
   "mimetype": "text/x-python",
   "name": "python",
   "nbconvert_exporter": "python",
   "pygments_lexer": "ipython3",
   "version": "3.11.4"
  },
  "orig_nbformat": 4
 },
 "nbformat": 4,
 "nbformat_minor": 2
}
