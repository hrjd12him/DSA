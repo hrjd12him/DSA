{
 "cells": [
  {
   "cell_type": "code",
   "execution_count": null,
   "metadata": {},
   "outputs": [],
   "source": [
    "class treenode:\n",
    "    def __init__(self,data):\n",
    "        self.data = data\n",
    "        self.children  = list()\n",
    "\n",
    "def printtree(root):\n",
    "    # this is not a base case\n",
    "    if root == None:\n",
    "        return \n",
    "    print(root.data,end = ':')\n",
    "    for child in root.children:\n",
    "        print(child.data,end=',')\n",
    "    print()\n",
    "    for child in root.children:\n",
    "        printtree(child)\n",
    "\n",
    "def NoofNodes(root):\n",
    "    if root == None:\n",
    "        return 0\n",
    "    count = 1\n",
    "    for child in root.children:\n",
    "        count+=NoofNodes(child)\n",
    "    return count\n",
    "\n",
    "def treeinput():\n",
    "    print('Enter root data',end=' ')\n",
    "    rootdata = int(input())\n",
    "    if rootdata ==0:\n",
    "        return\n",
    "    root = treenode(rootdata)\n",
    "    print()\n",
    "    print(\"how many children you need for\",root.data)\n",
    "    Nochild = int(input())\n",
    "    while Nochild>0:\n",
    "        child = treeinput()\n",
    "        root.children.append(child)\n",
    "        Nochild-=1\n",
    "        \n",
    "\n",
    "    return root\n",
    "\n",
    "root = treeinput()\n",
    "printtree(root)\n",
    "print()\n",
    "print('No of Noods present in tree',NoofNodes(root))"
   ]
  }
 ],
 "metadata": {
  "language_info": {
   "name": "python"
  },
  "orig_nbformat": 4
 },
 "nbformat": 4,
 "nbformat_minor": 2
}
