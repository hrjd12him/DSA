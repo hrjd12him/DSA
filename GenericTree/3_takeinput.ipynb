{
 "cells": [
  {
   "cell_type": "code",
   "execution_count": 15,
   "metadata": {},
   "outputs": [
    {
     "name": "stdout",
     "output_type": "stream",
     "text": [
      "Enter root data \n",
      "No of Noods present in tree 0\n"
     ]
    }
   ],
   "source": [
    "class treenode:\n",
    "    def __init__(self,data):\n",
    "        self.data = data\n",
    "        self.children  = list()\n",
    "\n",
    "def printtree(root):\n",
    "    # this is not a base case\n",
    "    if root == None:\n",
    "        return \n",
    "    print(root.data,end = ':')\n",
    "    for child in root.children:\n",
    "        print(child.data,end=',')\n",
    "    print()\n",
    "    for child in root.children:\n",
    "        printtree(child)\n",
    "\n",
    "\n",
    "def treeinput():\n",
    "    print('Enter root data',end=' ')\n",
    "    rootdata = int(input())\n",
    "    if rootdata ==0:\n",
    "        return\n",
    "    root = treenode(rootdata)\n",
    "    print()\n",
    "    print(\"how many children you need for\",root.data)\n",
    "    Nochild = int(input())\n",
    "    while Nochild>0:\n",
    "        child = treeinput()\n",
    "        root.children.append(child)\n",
    "        Nochild-=1\n",
    "        \n",
    "\n",
    "    return root\n",
    "\n",
    "root = treeinput()\n",
    "printtree(root)\n",
    "print()\n",
    "print('No of Noods present in tree',NoofNodes(root))"
   ]
  },
  {
   "cell_type": "code",
   "execution_count": 1,
   "metadata": {},
   "outputs": [
    {
     "name": "stdout",
     "output_type": "stream",
     "text": [
      "1->2->3->4->5->None\n"
     ]
    }
   ],
   "source": [
    "#linked list\n",
    "\n",
    "class node:\n",
    "    def __init__(self,data):\n",
    "        self.data = data\n",
    "        self.next = None\n",
    "\n",
    "\n",
    "def takeinput():\n",
    "    head =  None\n",
    "    tail = None\n",
    "    inputlist = [int(ele) for ele in input().split()]\n",
    "\n",
    "    for curr in inputlist:\n",
    "        if curr == -1:\n",
    "            break\n",
    "\n",
    "        newnode = node(curr)\n",
    "        if head is None:\n",
    "            head = newnode\n",
    "            tail = newnode\n",
    "        else:\n",
    "            tail.next = newnode\n",
    "            tail = tail.next\n",
    "\n",
    "    return head\n",
    "\n",
    "def printll(head):\n",
    "    while head is not None:\n",
    "        print(head.data,end='->')\n",
    "        head = head.next\n",
    "    print('None')\n",
    "\n",
    "\n",
    "head = takeinput()\n",
    "printll(head)"
   ]
  },
  {
   "cell_type": "markdown",
   "metadata": {},
   "source": [
    "binary tree\n",
    "-------------"
   ]
  },
  {
   "cell_type": "code",
   "execution_count": 5,
   "metadata": {},
   "outputs": [
    {
     "name": "stdout",
     "output_type": "stream",
     "text": [
      "1:2,3\n",
      "\n",
      "2:\n",
      "3:4,\n",
      "4:\n"
     ]
    }
   ],
   "source": [
    "class treenode:\n",
    "    def __init__(self,data):\n",
    "        self.data = data\n",
    "        self.left = None\n",
    "        self.right  =None\n",
    "\n",
    "def treeinput():\n",
    "    rootdata = int(input())\n",
    "    if rootdata == -1:\n",
    "        return\n",
    "    rootnode = node(rootdata)\n",
    "    rootleft = treeinput()\n",
    "    rootright = treeinput()\n",
    "\n",
    "    rootnode.left = rootleft\n",
    "    rootnode.right = rootright\n",
    "\n",
    "    return rootnode\n",
    "\n",
    "\n",
    "def printtree(root):\n",
    "    if root == None:\n",
    "        return \n",
    "    print(root.data,end=':')\n",
    "    if root.left != None:\n",
    "        print(root.left.data,end=',')\n",
    "    if root.right != None:\n",
    "        print(root.right.data)\n",
    "    print()\n",
    "    printtree(root.left)\n",
    "    printtree(root.right)\n",
    "\n",
    "root = treeinput()\n",
    "printtree(root)\n",
    "    \n"
   ]
  }
 ],
 "metadata": {
  "kernelspec": {
   "display_name": "Python 3",
   "language": "python",
   "name": "python3"
  },
  "language_info": {
   "codemirror_mode": {
    "name": "ipython",
    "version": 3
   },
   "file_extension": ".py",
   "mimetype": "text/x-python",
   "name": "python",
   "nbconvert_exporter": "python",
   "pygments_lexer": "ipython3",
   "version": "3.11.4"
  },
  "orig_nbformat": 4
 },
 "nbformat": 4,
 "nbformat_minor": 2
}
