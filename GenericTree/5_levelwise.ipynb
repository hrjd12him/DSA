{
 "cells": [
  {
   "cell_type": "code",
   "execution_count": 4,
   "metadata": {},
   "outputs": [
    {
     "name": "stdout",
     "output_type": "stream",
     "text": [
      "Enter root data\n",
      "Enter no of child tto be input:  5\n",
      "Enter data for child 1 of 5\n",
      "Enter data for child 2 of 5\n",
      "Enter data for child 3 of 5\n",
      "Enter data for child 4 of 5\n",
      "Enter no of child tto be input:  1\n",
      "Enter no of child tto be input:  2\n",
      "Enter data for child 1 of 2\n",
      "Enter data for child 2 of 2\n",
      "Enter no of child tto be input:  3\n",
      "Enter no of child tto be input:  4\n",
      "Enter no of child tto be input:  15\n",
      "Enter no of child tto be input:  18\n",
      "5:1,2,3,4,\n",
      "1:\n",
      "2:15,18,\n",
      "15:\n",
      "18:\n",
      "3:\n",
      "4:\n"
     ]
    }
   ],
   "source": [
    "import queue\n",
    "class treenode():\n",
    "    def __init__(self,data):\n",
    "        self.data =data\n",
    "        self.children = list()\n",
    "\n",
    "def printGenerictree(root):\n",
    "    if root ==None:\n",
    "        return \n",
    "    print(root.data,end=':')\n",
    "    for child in root.children:\n",
    "        print(child.data,end=',')\n",
    "    print()\n",
    "    for child in root.children:\n",
    "        printGenerictree(child)\n",
    "\n",
    "def inputlevelwise():\n",
    "    q = queue.Queue()\n",
    "    print('Enter root data')\n",
    "    rootdata =int(input())\n",
    "    root = treenode(rootdata)\n",
    "    q.put(root)\n",
    "    \n",
    "    while not q.empty():\n",
    "        temp = q.get()\n",
    "        print('Enter no of child tto be input: ',temp.data)\n",
    "        childNo = int(input())\n",
    "        i = 1\n",
    "        while childNo>0:\n",
    "            print('Enter data for child',i , 'of',temp.data)\n",
    "            childdata =int(input())\n",
    "            child = treenode(childdata)\n",
    "            temp.children.append(child)\n",
    "            q.put(child)\n",
    "            childNo-=1\n",
    "            i+=1\n",
    "    return root\n",
    "\n",
    "root = inputlevelwise()\n",
    "printGenerictree(root)\n"
   ]
  }
 ],
 "metadata": {
  "kernelspec": {
   "display_name": "Python 3",
   "language": "python",
   "name": "python3"
  },
  "language_info": {
   "codemirror_mode": {
    "name": "ipython",
    "version": 3
   },
   "file_extension": ".py",
   "mimetype": "text/x-python",
   "name": "python",
   "nbconvert_exporter": "python",
   "pygments_lexer": "ipython3",
   "version": "3.11.4"
  },
  "orig_nbformat": 4
 },
 "nbformat": 4,
 "nbformat_minor": 2
}
