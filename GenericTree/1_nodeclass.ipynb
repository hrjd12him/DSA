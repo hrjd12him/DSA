{
 "cells": [
  {
   "cell_type": "code",
   "execution_count": null,
   "metadata": {},
   "outputs": [],
   "source": [
    "class treenode:\n",
    "    def __init__(self,data):\n",
    "        self.data = data\n",
    "        self.children = list()\n",
    "\n",
    "\n",
    "s1 = treenode(2)\n",
    "s2 = treenode(5)\n",
    "s3 = treenode(9)\n",
    "s4 = treenode(8)\n",
    "s5 = treenode(4)\n",
    "s6 = treenode(98)\n",
    "s7 = treenode(1)\n",
    "\n",
    "\n",
    "s1.children.append(s2)\n",
    "s1.children.append(s3)\n",
    "s1.children.append(s4)\n",
    "s1.children.append(s5)\n",
    "\n",
    "s3.children.append(s6)\n",
    "s3.children.append(s7)\n",
    "\n"
   ]
  }
 ],
 "metadata": {
  "language_info": {
   "name": "python"
  },
  "orig_nbformat": 4
 },
 "nbformat": 4,
 "nbformat_minor": 2
}
