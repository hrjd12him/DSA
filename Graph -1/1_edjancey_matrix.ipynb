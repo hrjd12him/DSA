{
 "cells": [
  {
   "cell_type": "code",
   "execution_count": 5,
   "metadata": {},
   "outputs": [
    {
     "name": "stdout",
     "output_type": "stream",
     "text": [
      "[[0, 1, 1, 0, 0, 0, 0], [1, 0, 0, 1, 0, 0, 0], [1, 0, 0, 1, 1, 0, 0], [0, 1, 1, 0, 0, 1, 0], [0, 0, 1, 0, 0, 1, 1], [0, 0, 0, 1, 1, 0, 0], [0, 0, 0, 0, 1, 0, 0]]\n"
     ]
    }
   ],
   "source": [
    "class Graph:\n",
    "    def __init__(self,vertices):\n",
    "        self.vertices = vertices\n",
    "        self.matrixsize = [[0 for j in range(vertices)] for i in range(vertices)]\n",
    "\n",
    "    def addedge(self,v1,v2):\n",
    "        self.matrixsize [v1][v2] = 1\n",
    "        self.matrixsize[v2][v1] = 1\n",
    "\n",
    "    def removeedge(self,v1,v2):\n",
    "        self.matrixsize[v1][v2] = 0\n",
    "        self.matrixsize[v2][v1] = 0\n",
    "\n",
    "\n",
    "    def containsedge(self,v1,v2):\n",
    "        if self.matrixsize[v1][v2]>0:\n",
    "            return True\n",
    "        else:False\n",
    "\n",
    "        \n",
    "    def __str__(self) -> str:\n",
    "        return str(self.matrixsize)\n",
    "    \n",
    "\n",
    "\n",
    "g = Graph(7)\n",
    "g.addedge(0,1)\n",
    "g.addedge(1,3)\n",
    "g.addedge(2,3)\n",
    "g.addedge(2,4)\n",
    "g.addedge(0,2)\n",
    "g.addedge(3,5)\n",
    "g.addedge(4,5)\n",
    "g.addedge(4,6)\n",
    "print(g)\n"
   ]
  },
  {
   "cell_type": "code",
   "execution_count": null,
   "metadata": {},
   "outputs": [],
   "source": [
    "vertices = 5\n",
    "matrixsize = [[0 for j in range(vertices)] for i in range(vertices) ]\n",
    "print(matrixsize)"
   ]
  }
 ],
 "metadata": {
  "kernelspec": {
   "display_name": "Python 3",
   "language": "python",
   "name": "python3"
  },
  "language_info": {
   "codemirror_mode": {
    "name": "ipython",
    "version": 3
   },
   "file_extension": ".py",
   "mimetype": "text/x-python",
   "name": "python",
   "nbconvert_exporter": "python",
   "pygments_lexer": "ipython3",
   "version": "3.11.4"
  },
  "orig_nbformat": 4
 },
 "nbformat": 4,
 "nbformat_minor": 2
}
