{
 "cells": [
  {
   "cell_type": "markdown",
   "metadata": {},
   "source": [
    "Get all the path using DFS\n",
    "--------------------\n",
    "\n",
    "- Through this path we will get all the paths of are graph \n",
    "- through which you can find which one is best\n",
    "- obusly the smallest is the best path to work in with."
   ]
  },
  {
   "cell_type": "code",
   "execution_count": 39,
   "metadata": {},
   "outputs": [
    {
     "name": "stdout",
     "output_type": "stream",
     "text": [
      "path is  [0, 1, 4, 6]\n",
      "path is  [0, 3, 6]\n"
     ]
    }
   ],
   "source": [
    "class graph:\n",
    "    def __init__(self,vertices):\n",
    "        self.vertices = vertices\n",
    "        self.adjmatrix = [[0 for i in range(vertices)]for j in range(vertices)]\n",
    "\n",
    "    def addedgs(self,v1,v2):\n",
    "        self.adjmatrix[v1][v2] = 1\n",
    "        self.adjmatrix[v2][v1] =1\n",
    "\n",
    "    def pathhelp(self,v1,v2,visited,path):\n",
    "        visited[v1] = True\n",
    "        path.append(v1)\n",
    "\n",
    "        if v1 == v2:\n",
    "            print('path is ', path)\n",
    "        else:\n",
    "            for i in range(self.vertices):\n",
    "                if self.adjmatrix[v1][i]>0 and visited[i] is False:\n",
    "                    self.pathhelp(i,v2,visited,path)\n",
    "        path.pop()\n",
    "        visited[v1] = False\n",
    "        \n",
    "\n",
    "    def path(self,v1,v2):\n",
    "        visited = [False for i in range(self.vertices)]\n",
    "        path = []\n",
    "        self.pathhelp(v1,v2,visited,path)\n",
    "\n",
    "g = graph(7)\n",
    "g.addedgs(0,1)\n",
    "g.addedgs(0,2)\n",
    "g.addedgs(0,3)\n",
    "g.addedgs(1,4)\n",
    "g.addedgs(2,5)\n",
    "g.addedgs(4,6)\n",
    "g.addedgs(3,6)\n",
    "g.path(0,6)"
   ]
  },
  {
   "cell_type": "markdown",
   "metadata": {},
   "source": [
    "# Practic round Part 1"
   ]
  },
  {
   "cell_type": "markdown",
   "metadata": {},
   "source": [
    "**This code gives yous a path of the given two point in graph but in reverse order as it was asked in are question**\n",
    "1. Its in Dfs (the code follows the Dfs concept)\n",
    " - dfs stands for depth first search\n",
    "\n",
    "2. \n",
    " - this will only give yous a single path "
   ]
  },
  {
   "cell_type": "code",
   "execution_count": 40,
   "metadata": {},
   "outputs": [
    {
     "data": {
      "text/plain": [
       "[3, 0, 1]"
      ]
     },
     "execution_count": 40,
     "metadata": {},
     "output_type": "execute_result"
    }
   ],
   "source": [
    "class graph:\n",
    "    def __init__(self,vertices):\n",
    "        self.vertices = vertices\n",
    "        self.adjmatrix = [[0 for _ in range(vertices)]for _ in range(vertices)]\n",
    "\n",
    "    def addedgs(self,v1,v2):\n",
    "        self.adjmatrix[v1][v2] = 1\n",
    "        self.adjmatrix[v2][v1] = 1\n",
    "    \n",
    "    def getpathhelper(self, v1, v2, path, visited):\n",
    "        visited[v1] = True\n",
    "        for i in range(self.vertices):\n",
    "            if self.adjmatrix[v1][i] > 0 and not visited[i]:\n",
    "                if i == v2:\n",
    "                    path.append(v2)\n",
    "                    return True\n",
    "                else:\n",
    "                    if self.getpathhelper(i, v2, path, visited):\n",
    "                        path.append(i)\n",
    "                        return True\n",
    "        # If no path is found from v1 to v2, do not append v1 here\n",
    "        return False\n",
    "      \n",
    "\n",
    "    def getpath(self,v1,v2):\n",
    "        path = []\n",
    "        viseted = [False for _ in range(self.vertices)]\n",
    "        if self.adjmatrix[v1][v2]>0:\n",
    "            path.append(v2)\n",
    "            path.append(v1)\n",
    "        else:\n",
    "            self.getpathhelper(v1,v2,path,viseted)\n",
    "            path.append(v1)\n",
    "        return path\n",
    "'''\n",
    "g = graph(4)\n",
    "g.addedgs(0,1)\n",
    "g.addedgs(0,3)\n",
    "g.addedgs(1,2)\n",
    "g.addedgs(2,3)\n",
    "g.getpath(1,3) # output = [3, 0, 1]\n",
    "'''    \n",
    "g = graph()    \n"
   ]
  },
  {
   "cell_type": "code",
   "execution_count": 1,
   "metadata": {},
   "outputs": [
    {
     "name": "stdout",
     "output_type": "stream",
     "text": [
      "{1: 0, 2: 0, 3: 0, 4: 1, 5: 2, 6: 3}\n",
      "[6]\n",
      "[3, 6]\n"
     ]
    },
    {
     "data": {
      "text/plain": [
       "[0, 3, 6]"
      ]
     },
     "execution_count": 1,
     "metadata": {},
     "output_type": "execute_result"
    }
   ],
   "source": [
    "import queue\n",
    "class graph:\n",
    "    def __init__(self,vertices):\n",
    "        self.vertices = vertices\n",
    "        self.adjmatrix = [[0 for _ in range(vertices)]for _ in range(vertices)]\n",
    "\n",
    "    def addedgs(self,v1,v2):\n",
    "        self.adjmatrix[v1][v2] = 1\n",
    "        self.adjmatrix[v2][v1] = 1\n",
    "\n",
    "    def bfs(self,v1,v2,path,viseted):\n",
    "        q = queue.Queue()\n",
    "        q.put(v1)\n",
    "        d= {}\n",
    "        found = False\n",
    "        \n",
    "        while q.empty is not True:\n",
    "            curr = q.get()\n",
    "            viseted[curr] = True\n",
    "            for i in range(self.vertices):\n",
    "                if self.adjmatrix[curr][i]>0 and not viseted[i]:\n",
    "                    d[i] = curr\n",
    "                    q.put(i)\n",
    "\n",
    "                    if i == v2:\n",
    "                        found = True\n",
    "            if found:\n",
    "                break\n",
    "        print(d)\n",
    "        if not found:\n",
    "            return None\n",
    "        \n",
    "        while v2 != v1:\n",
    "            path.insert(0, v2)\n",
    "            print(path)\n",
    "            v2 = d[v2]\n",
    "        path.insert(0,v1)\n",
    "        return path\n",
    "\n",
    "\n",
    "    def getpath(self,v1,v2):\n",
    "        path = []\n",
    "        viseted = [False for _ in range(self.vertices)]\n",
    "        self.bfs(v1,v2,path,viseted)\n",
    "        return path\n",
    "\n",
    "\n",
    "g = graph(7)\n",
    "g.addedgs(0, 1)\n",
    "g.addedgs(0, 2)\n",
    "g.addedgs(0, 3)\n",
    "g.addedgs(1, 4)\n",
    "g.addedgs(2, 5)\n",
    "g.addedgs(4, 6)\n",
    "g.addedgs(3, 6)\n",
    "\n",
    "g.getpath(0,6)               "
   ]
  }
 ],
 "metadata": {
  "kernelspec": {
   "display_name": "Python 3",
   "language": "python",
   "name": "python3"
  },
  "language_info": {
   "codemirror_mode": {
    "name": "ipython",
    "version": 3
   },
   "file_extension": ".py",
   "mimetype": "text/x-python",
   "name": "python",
   "nbconvert_exporter": "python",
   "pygments_lexer": "ipython3",
   "version": "3.11.4"
  },
  "orig_nbformat": 4
 },
 "nbformat": 4,
 "nbformat_minor": 2
}
