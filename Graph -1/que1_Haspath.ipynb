{
 "cells": [
  {
   "cell_type": "code",
   "execution_count": 8,
   "metadata": {},
   "outputs": [
    {
     "data": {
      "text/plain": [
       "False"
      ]
     },
     "execution_count": 8,
     "metadata": {},
     "output_type": "execute_result"
    }
   ],
   "source": [
    "class graph:\n",
    "    def __init__(self,vertices):\n",
    "        self.vertices = vertices\n",
    "        self.adjmatrix = [[0 for _ in range(vertices)] for _ in range(vertices)]\n",
    "\n",
    "    def addedgs(self,v1,v2):\n",
    "        self.adjmatrix[v1][v2] = 1\n",
    "        self.adjmatrix[v2][v1] = 1\n",
    "\n",
    "    def dfs(self,v1,v2,visited):\n",
    "        visited[v1] = True\n",
    "        for i in range(self.vertices):\n",
    "            if self.adjmatrix[v1][i]>0 and not visited[i]:\n",
    "                if i == v2:\n",
    "                    return True\n",
    "                else:\n",
    "                    if self.dfs(i,v2,visited):\n",
    "                        return True\n",
    "        return False\n",
    "\n",
    "    def haspath(self,v1,v2):\n",
    "        if self.adjmatrix[v1][v2]>0:\n",
    "            return True\n",
    "        viseted = [False for _ in  range(self.vertices)]\n",
    "        return self.dfs(v1,v2,viseted)\n",
    "\n",
    "g = graph(6)\n",
    "g.addedgs(0,1)\n",
    "g.addedgs(0,2)\n",
    "g.addedgs(1,3)\n",
    "g.addedgs(4,5)\n",
    "\n",
    "g.haspath(0,5)\n"
   ]
  },
  {
   "cell_type": "code",
   "execution_count": null,
   "metadata": {},
   "outputs": [],
   "source": [
    "class graph:\n",
    "    def __init__(self, vertices):\n",
    "        self.vertices = vertices\n",
    "        self.adjmatrix = [[0 for _ in range(vertices)] for _ in range(vertices)]\n",
    "\n",
    "    def addedgs(self, v1, v2):\n",
    "        self.adjmatrix[v1][v2] = 1\n",
    "        self.adjmatrix[v2][v1] = 1\n",
    "\n",
    "    def dfs(self, v1, v2, visited):\n",
    "        visited[v1] = True\n",
    "        for i in range(self.vertices):\n",
    "            if self.adjmatrix[v1][i] > 0 and not visited[i]:\n",
    "                if i == v2:  # Check if you have reached the destination\n",
    "                    return True\n",
    "                else:\n",
    "                    if self.dfs(i, v2, visited):  # Recursively search for v2\n",
    "                        return True\n",
    "        return False  # If no path is found\n",
    "\n",
    "    def haspath(self, v1, v2):\n",
    "        if self.adjmatrix[v1][v2] > 0:\n",
    "            return True\n",
    "        visited = [False for _ in range(self.vertices)]\n",
    "        return self.dfs(v1, v2, visited)\n",
    "\n",
    "g = graph(6)\n",
    "g.addedgs(0, 1)\n",
    "g.addedgs(0, 2)\n",
    "g.addedgs(1, 3)\n",
    "g.addedgs(1, 4)\n",
    "g.addedgs(4, 5)\n",
    "\n",
    "result = g.haspath(0, 5)\n",
    "print(result)  # This will print True because there is a path from 0 to 5\n"
   ]
  }
 ],
 "metadata": {
  "kernelspec": {
   "display_name": "Python 3",
   "language": "python",
   "name": "python3"
  },
  "language_info": {
   "codemirror_mode": {
    "name": "ipython",
    "version": 3
   },
   "file_extension": ".py",
   "mimetype": "text/x-python",
   "name": "python",
   "nbconvert_exporter": "python",
   "pygments_lexer": "ipython3",
   "version": "3.11.4"
  },
  "orig_nbformat": 4
 },
 "nbformat": 4,
 "nbformat_minor": 2
}
