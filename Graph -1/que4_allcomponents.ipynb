{
 "cells": [
  {
   "cell_type": "code",
   "execution_count": 12,
   "metadata": {},
   "outputs": [
    {
     "name": "stdout",
     "output_type": "stream",
     "text": [
      "[[0, 1, 2], [3, 4, 5], [6, 7]]\n"
     ]
    }
   ],
   "source": [
    "class Graph:\n",
    "    def __init__(self,vertices):\n",
    "        self.vertices = vertices\n",
    "        self.adjMatrix = [[0 for _ in range(vertices)]for _ in range(vertices)]\n",
    "\n",
    "    def addedge(self,v1,v2):\n",
    "        self.adjMatrix[v1][v2] = 1\n",
    "        self.adjMatrix[v2][v1] = 1\n",
    "    \n",
    "    def dfs(self,v1,viseted,Ncomp = None):\n",
    "        if Ncomp is None:\n",
    "            Ncomp = []\n",
    "        viseted[v1] = True\n",
    "        Ncomp.append(v1)\n",
    "        for i in range(self.vertices):\n",
    "            if self.adjMatrix[v1][i]>0 and viseted[i] is False:\n",
    "                self.dfs(i,viseted,Ncomp)\n",
    "        return Ncomp\n",
    "    def allComponents(self):\n",
    "        finalCC = []\n",
    "        viseted = [False for _ in range(self.vertices)]   \n",
    "        for i in range(self.vertices):\n",
    "            if not viseted[i]:\n",
    "                Ncomp = self.dfs(i,viseted)\n",
    "                finalCC.append(Ncomp)\n",
    "        print(finalCC)\n",
    "\n",
    "\n",
    "g = Graph(8)\n",
    "g.addedge(0,1)\n",
    "g.addedge(0,2)\n",
    "g.addedge(3,4)\n",
    "g.addedge(3,4)\n",
    "g.addedge(3,5)\n",
    "g.addedge(6,7)\n",
    "\n",
    "g.allComponents()\n",
    "\n",
    "\n"
   ]
  }
 ],
 "metadata": {
  "kernelspec": {
   "display_name": "Python 3",
   "language": "python",
   "name": "python3"
  },
  "language_info": {
   "name": "python",
   "version": "3.11.4"
  },
  "orig_nbformat": 4
 },
 "nbformat": 4,
 "nbformat_minor": 2
}
