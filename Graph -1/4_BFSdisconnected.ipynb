{
 "cells": [
  {
   "cell_type": "code",
   "execution_count": 17,
   "metadata": {},
   "outputs": [
    {
     "name": "stdout",
     "output_type": "stream",
     "text": [
      "0\n",
      "1\n",
      "3\n",
      "7\n",
      "2\n",
      "4\n",
      "5\n",
      "6\n"
     ]
    }
   ],
   "source": [
    "\n",
    "import queue\n",
    "class Graph:\n",
    "    def __init__(self,vertices):\n",
    "        self.vertices = vertices\n",
    "        self.adjMatrix = [[0 for i in range(vertices)] for j in range(vertices)]\n",
    "\n",
    "    def __BFShelper(self,mx,vesited):\n",
    "        q = queue.Queue()\n",
    "        q.put(mx) \n",
    "        vesited[mx] = True\n",
    "        while q.empty() is False:\n",
    "            x = q.get()\n",
    "            print(x)\n",
    "            for i in range(self.vertices):\n",
    "                if self.adjMatrix[x][i]>0 and vesited[i] is False:\n",
    "                    q.put(i)\n",
    "                    vesited[i] = True\n",
    "    def BFS(self):\n",
    "        vesited = [False for _ in range(self.vertices)]\n",
    "        for i in range(self.vertices):\n",
    "            if vesited[i] is False:\n",
    "                self.__BFShelper(i,vesited)\n",
    "\n",
    "    def addedge(self,v1,v2): \n",
    "        self.adjMatrix[v1][v2] = 1\n",
    "        self.adjMatrix [v2][v1] = 1\n",
    "\n",
    "    def removeEdge(self,v1,v2):\n",
    "        if self.containsEdge(v1,v2) is False:\n",
    "            return \n",
    "        self.adjMatrix[v1][v2] = 0\n",
    "        self.adjMatrix[v2][v1] = 0\n",
    "\n",
    "    def containsEdge(self,v1,v2):\n",
    "        return True if self.adjMatrix[v1][v2] == 1 else False\n",
    "\n",
    "g = Graph(8)\n",
    "g.addedge(0,7)\n",
    "g.addedge(7,2)\n",
    "g.addedge(0,1)\n",
    "g.addedge(0,3)\n",
    "g.addedge(2,4)\n",
    "g.addedge(2,5)\n",
    "g.addedge(4,6)\n",
    "g.BFS()\n",
    "\n"
   ]
  },
  {
   "cell_type": "code",
   "execution_count": null,
   "metadata": {},
   "outputs": [],
   "source": [
    "class graph:\n",
    "    def __init__(self,vertices):\n",
    "        self.vertices = vertices\n",
    "        self.adjmatrix = [[0 for i in range(vertices)]for _ in range(vertices)]\n",
    "\n",
    "    def addedgs(self,v1,v2):\n",
    "        self.adjmatrix[v1][v2] = 1\n",
    "        self.adjmatrix[v2][v1] = 1\n",
    "\n",
    "    def dfs(self,st):\n",
    "        \n",
    "\n",
    "    "
   ]
  }
 ],
 "metadata": {
  "kernelspec": {
   "display_name": "Python 3",
   "language": "python",
   "name": "python3"
  },
  "language_info": {
   "codemirror_mode": {
    "name": "ipython",
    "version": 3
   },
   "file_extension": ".py",
   "mimetype": "text/x-python",
   "name": "python",
   "nbconvert_exporter": "python",
   "pygments_lexer": "ipython3",
   "version": "3.11.4"
  },
  "orig_nbformat": 4
 },
 "nbformat": 4,
 "nbformat_minor": 2
}
