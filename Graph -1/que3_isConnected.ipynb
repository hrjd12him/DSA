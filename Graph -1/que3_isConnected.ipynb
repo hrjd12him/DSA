{
 "cells": [
  {
   "cell_type": "markdown",
   "metadata": {},
   "source": [
    "# this code have a bug"
   ]
  },
  {
   "cell_type": "code",
   "execution_count": 5,
   "metadata": {},
   "outputs": [
    {
     "name": "stdout",
     "output_type": "stream",
     "text": [
      "not a connected Graph\n"
     ]
    }
   ],
   "source": [
    "class Graph:\n",
    "    def __init__(self,vertices):\n",
    "        self.vertices = vertices\n",
    "        self.adjmatrix = [[0 for _ in range(vertices)] for i in range(vertices)]\n",
    "\n",
    "    def addedgs(self,v1,v2):\n",
    "        self.adjmatrix[v1][v2] = 1\n",
    "        self.adjmatrix[v2][v1] = 1\n",
    "    \n",
    "    def isConnected(self):\n",
    "        visited = [False for i in range(self.vertices)]\n",
    "    \n",
    "        self.isfinal(0,visited)\n",
    "\n",
    "        if False in visited:\n",
    "            print('not a connected Graph')\n",
    "        else:\n",
    "            print('Its an connected Graph ')\n",
    "\n",
    "    def isfinal(self,v1,visited):\n",
    "        visited[v1] = True\n",
    "        for i in range(self.vertices):\n",
    "            if self.adjmatrix[v1][i] >0 and visited[i] is False:\n",
    "                self.isfinal(i,visited) \n",
    "\n",
    "g = Graph(7)\n",
    "g.addedgs(0, 1)\n",
    "g.addedgs(0, 2)\n",
    "g.addedgs(0, 3)\n",
    "g.addedgs(1, 4)\n",
    "g.addedgs(4 ,6)\n",
    "g.addedgs(3, 6)\n",
    "\n",
    "g.isConnected()"
   ]
  },
  {
   "cell_type": "code",
   "execution_count": 10,
   "metadata": {},
   "outputs": [
    {
     "name": "stdout",
     "output_type": "stream",
     "text": [
      "Its a connected\n"
     ]
    }
   ],
   "source": [
    "class graph:\n",
    "    def __init__(self,vertices):\n",
    "        self.vertices = vertices\n",
    "        self.adjmatrix = [[0 for _ in range(vertices)] for _ in range(vertices)]\n",
    "\n",
    "    def addedgs(self,v1,v2):\n",
    "        self.adjmatrix[v1][v2] =1\n",
    "        self.adjmatrix[v2][v1] =1\n",
    "    \n",
    "    def dfs(self,v1,visited):\n",
    "        visited[v1] = True\n",
    "        for i in range(self.vertices):\n",
    "            if self.adjmatrix[v1][i]>0 and not visited[i]:\n",
    "                self.dfs(i,visited)\n",
    "\n",
    "    def is_connected(self):\n",
    "        visited = [False for _ in range(self.vertices)]\n",
    "        count= 0\n",
    "        for i in range(self.vertices):\n",
    "            if not visited[i]:    \n",
    "                self.dfs(i,visited)\n",
    "                count+=1\n",
    "        if count==1:\n",
    "            print('Its a connected')\n",
    "        else:\n",
    "            print('Its not a connected graph')\n",
    "\n",
    "g = graph(7)\n",
    "g.addedgs(0, 1)\n",
    "g.addedgs(0, 2)\n",
    "g.addedgs(0, 3)\n",
    "g.addedgs(2, 5)\n",
    "g.addedgs(4, 6)\n",
    "g.addedgs(3, 6)\n",
    "\n",
    "g.is_connected()\n"
   ]
  }
 ],
 "metadata": {
  "kernelspec": {
   "display_name": "Python 3",
   "language": "python",
   "name": "python3"
  },
  "language_info": {
   "codemirror_mode": {
    "name": "ipython",
    "version": 3
   },
   "file_extension": ".py",
   "mimetype": "text/x-python",
   "name": "python",
   "nbconvert_exporter": "python",
   "pygments_lexer": "ipython3",
   "version": "3.11.4"
  },
  "orig_nbformat": 4
 },
 "nbformat": 4,
 "nbformat_minor": 2
}
