{
 "cells": [
  {
   "cell_type": "markdown",
   "metadata": {},
   "source": [
    "```\n",
    "here we are travering in are geaph is a for of DFS like depth fist search\n",
    "we will be using this to find the shortest path between two nodes.\n",
    "what is DFS?\n",
    "DFS stands for Depth First Search, it's an algorithm that uses recursion and stack data structure to traverse through all possible paths from one node to another."
   ]
  },
  {
   "cell_type": "code",
   "execution_count": 3,
   "metadata": {},
   "outputs": [
    {
     "name": "stdout",
     "output_type": "stream",
     "text": [
      "[[0, 1, 1, 0, 0, 0, 0], [1, 0, 0, 1, 1, 0, 0], [1, 0, 0, 0, 0, 0, 1], [0, 1, 0, 0, 0, 0, 0], [0, 1, 0, 0, 0, 1, 1], [0, 0, 0, 0, 1, 0, 0], [0, 0, 1, 0, 1, 0, 0]]\n",
      "0\n",
      "1\n",
      "3\n",
      "4\n",
      "5\n",
      "6\n",
      "2\n"
     ]
    }
   ],
   "source": [
    "class graph:\n",
    "    def __init__(self,nVertices):\n",
    "        self.nVertices = nVertices\n",
    "        self.adjmatrix =  [[0 for i in range(nVertices)] for i in range(nVertices)]\n",
    "    \n",
    "    def __helperDFS(self,sv,visiters):\n",
    "        print(sv)\n",
    "        visiters[sv] = True\n",
    "        for i in range(self.nVertices):\n",
    "            if self.adjmatrix[sv][i]>0 and visiters[i] is False:\n",
    "                self.__helperDFS(i,visiters)\n",
    "\n",
    "    def DFS(self):\n",
    "        visiters = [False for i in range(self.nVertices)]\n",
    "        self.__helperDFS(0,visiters)\n",
    "\n",
    "    def addEdgs(self,v1,v2):\n",
    "        self.adjmatrix[v1][v2] = 1\n",
    "        self.adjmatrix[v2][v1] = 1\n",
    "\n",
    "    def removeEdgs(self,v1,v2):\n",
    "        if self.containsEdgs(v1,v2) is False:\n",
    "            return\n",
    "        self.adjmatrix[v1][v2] = 0\n",
    "        self.adjmatrix[v2][v1] = 0\n",
    "\n",
    "    def containsEdge(self,v1,v2):\n",
    "        return True if self.adjmatrix[v1][v2] == 1 else False\n",
    "    \n",
    "    def __str__(self) -> str:\n",
    "        return str(self.adjmatrix)\n",
    "    \n",
    "g  = graph(7)\n",
    "g.addEdgs(0,1)\n",
    "g.addEdgs(1,3)\n",
    "g.addEdgs(1,4)\n",
    "g.addEdgs(0,2)\n",
    "g.addEdgs(2,6)\n",
    "g.addEdgs(4,5)\n",
    "g.addEdgs(4,6)\n",
    "print(g)\n",
    "g.DFS()"
   ]
  }
 ],
 "metadata": {
  "kernelspec": {
   "display_name": "Python 3",
   "language": "python",
   "name": "python3"
  },
  "language_info": {
   "codemirror_mode": {
    "name": "ipython",
    "version": 3
   },
   "file_extension": ".py",
   "mimetype": "text/x-python",
   "name": "python",
   "nbconvert_exporter": "python",
   "pygments_lexer": "ipython3",
   "version": "3.11.4"
  },
  "orig_nbformat": 4
 },
 "nbformat": 4,
 "nbformat_minor": 2
}
