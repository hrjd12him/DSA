{
 "cells": [
  {
   "cell_type": "code",
   "execution_count": 8,
   "metadata": {},
   "outputs": [
    {
     "name": "stdout",
     "output_type": "stream",
     "text": [
      "0->1->4->3->\n",
      "2->5->\n"
     ]
    }
   ],
   "source": [
    "class Graph:\n",
    "    def __init__(self,vertices):\n",
    "        self.vertices = vertices\n",
    "        self.adjMatrix = [[0 for i in range(vertices)]for j in range(vertices)]\n",
    "\n",
    "\n",
    "    def __helpDFS(self,ux,viseters):\n",
    "        print(ux,end='->')\n",
    "        viseters[ux] = True\n",
    "        for i in range(self.vertices):\n",
    "            if self.adjMatrix[ux][i]>0 and viseters[i] is False:\n",
    "                self.__helpDFS(i,viseters)\n",
    "    def DFS(self):\n",
    "        viseters = [False for i in range(self.vertices)]\n",
    "        for i in range(self.vertices):\n",
    "            if viseters[i] is False:\n",
    "                self.__helpDFS(i,viseters)\n",
    "                print()\n",
    "\n",
    "    def addedgs(self,v1,v2):\n",
    "        self.adjMatrix[v1][v2] = 1\n",
    "        self.adjMatrix[v2][v1] = 1\n",
    "\n",
    "g = Graph(6)\n",
    "g.addedgs(0,1)\n",
    "g.addedgs(0,3)\n",
    "g.addedgs(1,4)\n",
    "g.addedgs(4,3)\n",
    "g.addedgs(2,5)\n",
    "\n",
    "g.DFS()\n"
   ]
  }
 ],
 "metadata": {
  "kernelspec": {
   "display_name": "Python 3",
   "language": "python",
   "name": "python3"
  },
  "language_info": {
   "codemirror_mode": {
    "name": "ipython",
    "version": 3
   },
   "file_extension": ".py",
   "mimetype": "text/x-python",
   "name": "python",
   "nbconvert_exporter": "python",
   "pygments_lexer": "ipython3",
   "version": "3.11.4"
  },
  "orig_nbformat": 4
 },
 "nbformat": 4,
 "nbformat_minor": 2
}
