{
 "cells": [
  {
   "cell_type": "code",
   "execution_count": 5,
   "metadata": {},
   "outputs": [
    {
     "name": "stdout",
     "output_type": "stream",
     "text": [
      "0\n",
      "1\n",
      "2\n",
      "3\n",
      "4\n",
      "5\n",
      "6\n"
     ]
    }
   ],
   "source": [
    "import queue\n",
    "\n",
    "class Graph:\n",
    "    def __init__(self,vertices):\n",
    "        self.vertices = vertices\n",
    "        self.matrixsize = [[0 for j in range(vertices)] for i in range(vertices)]\n",
    "\n",
    "    def BFS(self):\n",
    "        q = queue.Queue()\n",
    "        q.put(0)\n",
    "        visited=[False for i in range(self.vertices)]\n",
    "        visited[0] = True\n",
    "        while q.empty() is False:\n",
    "            u = q.get()\n",
    "            print(u)\n",
    "            for i in range(self.vertices):\n",
    "                if self.matrixsize[u][i] > 0 and visited[i] is False:\n",
    "                    q.put(i)\n",
    "                    visited[i] = True\n",
    "\n",
    "    def addedge(self,v1,v2):\n",
    "        self.matrixsize [v1][v2] = 1\n",
    "        self.matrixsize[v2][v1] = 1\n",
    "\n",
    "    def removeedge(self,v1,v2):\n",
    "        self.matrixsize[v1][v2] = 0\n",
    "        self.matrixsize[v2][v1] = 0\n",
    "\n",
    "\n",
    "    def containsedge(self,v1,v2):\n",
    "        if self.matrixsize[v1][v2]>0:\n",
    "            return True\n",
    "        else:False\n",
    "    def __str__(self) -> str:\n",
    "        return str(self.matrixsize)\n",
    "    \n",
    "\n",
    "\n",
    "g = Graph(7)\n",
    "g.addedge(0,1)\n",
    "g.addedge(1,3)\n",
    "g.addedge(2,3)\n",
    "g.addedge(2,4)\n",
    "g.addedge(0,2)\n",
    "g.addedge(3,5)\n",
    "g.addedge(4,5)\n",
    "g.addedge(4,6)\n",
    "g.BFS()\n"
   ]
  },
  {
   "cell_type": "code",
   "execution_count": 2,
   "metadata": {},
   "outputs": [
    {
     "name": "stdout",
     "output_type": "stream",
     "text": [
      "0\n",
      "1\n",
      "2\n",
      "3\n",
      "4\n",
      "5\n",
      "6\n"
     ]
    }
   ],
   "source": [
    "import queue\n",
    "\n",
    "class Graph:\n",
    "    def __init__(self,vertices):\n",
    "        self.vertices = vertices\n",
    "        self.matrixsize = [[0 for j in range(vertices)] for i in range(vertices)]    \n",
    "\n",
    "    def BFS_helper(self,sv,visted):\n",
    "        q = queue.Queue()\n",
    "        q.put(sv)\n",
    "        visted[sv] = True\n",
    "\n",
    "        while not q.empty():\n",
    "            st= q.get()\n",
    "            print(st)\n",
    "            for i in range(self.vertices):\n",
    "                if self.matrixsize[st][i]>0 and not visted[i]:\n",
    "                    q.put(i)\n",
    "                    visted[i] = True\n",
    "\n",
    "    def BFS_alogo(self):\n",
    "        visted = [ False for _ in range(self.vertices)]\n",
    "        self.BFS_helper(0,visted)\n",
    "    \n",
    "\n",
    "    def addedge(self,v1,v2):\n",
    "        self.matrixsize [v1][v2] = 1\n",
    "        self.matrixsize[v2][v1] = 1\n",
    "\n",
    "    def removeedge(self,v1,v2):\n",
    "        self.matrixsize[v1][v2] = 0\n",
    "        self.matrixsize[v2][v1] = 0\n",
    "\n",
    "\n",
    "    def containsedge(self,v1,v2):\n",
    "        if self.matrixsize[v1][v2]>0:\n",
    "            return True\n",
    "        else:False\n",
    "    def __str__(self) -> str:\n",
    "        return str(self.matrixsize)\n",
    "    \n",
    "g = Graph(7)\n",
    "g.addedge(0,1)\n",
    "g.addedge(1,3)\n",
    "g.addedge(2,3)\n",
    "g.addedge(2,4)\n",
    "g.addedge(0,2)\n",
    "g.addedge(3,5)\n",
    "g.addedge(4,5)\n",
    "g.addedge(4,6)\n",
    "g.BFS_alogo()\n"
   ]
  }
 ],
 "metadata": {
  "kernelspec": {
   "display_name": "Python 3",
   "language": "python",
   "name": "python3"
  },
  "language_info": {
   "codemirror_mode": {
    "name": "ipython",
    "version": 3
   },
   "file_extension": ".py",
   "mimetype": "text/x-python",
   "name": "python",
   "nbconvert_exporter": "python",
   "pygments_lexer": "ipython3",
   "version": "3.11.4"
  },
  "orig_nbformat": 4
 },
 "nbformat": 4,
 "nbformat_minor": 2
}
