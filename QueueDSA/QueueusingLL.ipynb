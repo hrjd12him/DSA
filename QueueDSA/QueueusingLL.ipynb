{
 "cells": [
  {
   "cell_type": "code",
   "execution_count": 4,
   "metadata": {},
   "outputs": [
    {
     "name": "stdout",
     "output_type": "stream",
     "text": [
      "10\n",
      "20\n"
     ]
    }
   ],
   "source": [
    "class Node():\n",
    "    def __init__(self, data):\n",
    "        self.data = data\n",
    "        self.next = None\n",
    "\n",
    "class queue():\n",
    "    def __init__(self):\n",
    "        self.__head = None\n",
    "        self.__tail = None\n",
    "        self.__count = 0\n",
    "\n",
    "    def inqueue(self,item):\n",
    "        newnode = Node(item)\n",
    "        if self.__head is None:\n",
    "            self.__head = newnode\n",
    "            self.__tail = newnode\n",
    "        else:\n",
    "            self.__tail.next =newnode\n",
    "            self.__tail = newnode\n",
    "        self.__count+=1 \n",
    "        \n",
    "    def dequeue(self):\n",
    "        if self.__head is None:\n",
    "            return \"Queue Empty\"\n",
    "        data = self.__head.data\n",
    "        self.__head=self.__head.next\n",
    "        self.__count=self.__count-1\n",
    "        return data\n",
    "    \n",
    "    def front(self):\n",
    "        if self.__head is None:\n",
    "            return \"Queue Empty\"\n",
    "        data = self.__head.data\n",
    "        return data\n",
    "    \n",
    "    def size(self):\n",
    "        return self.__count\n",
    "    \n",
    "    def isEmpty(self):\n",
    "        return self.size == 0\n",
    "    \n",
    "q = queue()\n",
    "q.inqueue(10)\n",
    "q.inqueue(20)\n",
    "q.inqueue(30)\n",
    "q.inqueue(40)\n",
    "q.inqueue(50)\n",
    "print(q.dequeue())\n",
    "print(q.front())\n",
    "\n"
   ]
  },
  {
   "cell_type": "code",
   "execution_count": null,
   "metadata": {},
   "outputs": [],
   "source": []
  }
 ],
 "metadata": {
  "kernelspec": {
   "display_name": "Python 3",
   "language": "python",
   "name": "python3"
  },
  "language_info": {
   "codemirror_mode": {
    "name": "ipython",
    "version": 3
   },
   "file_extension": ".py",
   "mimetype": "text/x-python",
   "name": "python",
   "nbconvert_exporter": "python",
   "pygments_lexer": "ipython3",
   "version": "3.11.4"
  },
  "orig_nbformat": 4
 },
 "nbformat": 4,
 "nbformat_minor": 2
}
