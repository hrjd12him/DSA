{
 "cells": [
  {
   "cell_type": "markdown",
   "metadata": {},
   "source": [
    "### Intuition\n",
    "The provided code appears to implement a simple queue data structure using a linked list. The intuition behind using a queue is to maintain a first-in-first-out (FIFO) order of elements. This can be useful in various scenarios, such as handling tasks in the order they are received or processing elements in a specific sequence.\n",
    "\n",
    "### Approach\n",
    "The code defines a `Node` class for creating nodes with `data` and `next` attributes. It also defines a `queue` class with methods for enqueueing (`inqueue`), dequeueing (`dequeue`), retrieving the front element (`front`), getting the size of the queue (`size`), and checking if the queue is empty (`isEmpty`).\n",
    "\n",
    "An instance of the `queue` class (`q`) is created, elements are enqueued, and then dequeue and front operations are performed to demonstrate the functionality.\n",
    "\n",
    "### Complexity\n",
    "- Time complexity:\n",
    "  - Enqueue operation (`inqueue`): O(1)\n",
    "  - Dequeue operation (`dequeue`): O(1)\n",
    "  - Front operation (`front`): O(1)\n",
    "  - Size operation (`size`): O(1)\n",
    "  - IsEmpty operation (`isEmpty`): O(1)\n",
    "- Space complexity:\n",
    "  - The space complexity for the `queue` class is O(n), where n is the number of elements in the queue. Each element in the queue requires a node with `data` and `next` attributes.\n",
    "\n",
    "It's worth noting that the time complexity for enqueue, dequeue, front, size, and isEmpty operations is constant, making this implementation efficient for typical queue operations."
   ]
  },
  {
   "cell_type": "code",
   "execution_count": 4,
   "metadata": {},
   "outputs": [
    {
     "name": "stdout",
     "output_type": "stream",
     "text": [
      "10\n",
      "20\n"
     ]
    }
   ],
   "source": [
    "class Node():\n",
    "    def __init__(self, data):\n",
    "        self.data = data\n",
    "        self.next = None\n",
    "\n",
    "class queue():\n",
    "    def __init__(self):\n",
    "        self.__head = None\n",
    "        self.__tail = None\n",
    "        self.__count = 0\n",
    "\n",
    "    def inqueue(self,item):\n",
    "        newnode = Node(item)\n",
    "        if self.__head is None:\n",
    "            self.__head = newnode\n",
    "            self.__tail = newnode\n",
    "        else:\n",
    "            self.__tail.next =newnode\n",
    "            self.__tail = newnode\n",
    "        self.__count+=1 \n",
    "        \n",
    "    def dequeue(self):\n",
    "        if self.__head is None:\n",
    "            return \"Queue Empty\"\n",
    "        data = self.__head.data\n",
    "        self.__head=self.__head.next\n",
    "        self.__count=self.__count-1\n",
    "        return data\n",
    "    \n",
    "    def front(self):\n",
    "        if self.__head is None:\n",
    "            return \"Queue Empty\"\n",
    "        data = self.__head.data\n",
    "        return data\n",
    "    \n",
    "    def size(self):\n",
    "        return self.__count\n",
    "    \n",
    "    def isEmpty(self):\n",
    "        return self.size == 0\n",
    "    \n",
    "q = queue()\n",
    "q.inqueue(10)\n",
    "q.inqueue(20)\n",
    "q.inqueue(30)\n",
    "q.inqueue(40)\n",
    "q.inqueue(50)\n",
    "print(q.dequeue())\n",
    "print(q.front())\n",
    "\n"
   ]
  },
  {
   "cell_type": "code",
   "execution_count": null,
   "metadata": {},
   "outputs": [],
   "source": []
  }
 ],
 "metadata": {
  "kernelspec": {
   "display_name": "Python 3",
   "language": "python",
   "name": "python3"
  },
  "language_info": {
   "codemirror_mode": {
    "name": "ipython",
    "version": 3
   },
   "file_extension": ".py",
   "mimetype": "text/x-python",
   "name": "python",
   "nbconvert_exporter": "python",
   "pygments_lexer": "ipython3",
   "version": "3.11.4"
  },
  "orig_nbformat": 4
 },
 "nbformat": 4,
 "nbformat_minor": 2
}
