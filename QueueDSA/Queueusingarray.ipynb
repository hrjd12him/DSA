{
 "cells": [
  {
   "cell_type": "code",
   "execution_count": 7,
   "metadata": {},
   "outputs": [
    {
     "name": "stdout",
     "output_type": "stream",
     "text": [
      "1\n",
      "2\n",
      "3\n",
      "4\n",
      "-1\n"
     ]
    }
   ],
   "source": [
    "class Queueusingarray():\n",
    "    def __init__(self):\n",
    "        self.__arr = []\n",
    "        self.__count = 0\n",
    "        self.__front = 0\n",
    "    \n",
    "    def EnQueue(self,data):\n",
    "        self.__arr.append(data)\n",
    "        self.__count+=1\n",
    "\n",
    "    def DeQueue(self):\n",
    "        if self.__count == 0:\n",
    "            return -1\n",
    "        element = self.__arr[self.__front]\n",
    "        self.__front+=1\n",
    "        self.__count-=1\n",
    "        return element\n",
    "    \n",
    "    def Front(self):\n",
    "        if self.__count == 0:\n",
    "            return -1\n",
    "        return self.__arr[self.__front]\n",
    "    \n",
    "    def size(self):\n",
    "        return self.__count\n",
    "\n",
    "    def isEmpty(self):\n",
    "        return self.size == 0\n",
    "    \n",
    "q = Queueusingarray()\n",
    "q.EnQueue(1)\n",
    "q.EnQueue(2)\n",
    "q.EnQueue(3)\n",
    "q.EnQueue(4)\n",
    "print(q.DeQueue())\n",
    "print(q.DeQueue())\n",
    "print(q.DeQueue())\n",
    "print(q.DeQueue())\n",
    "print(q.DeQueue())\n"
   ]
  },
  {
   "cell_type": "code",
   "execution_count": 12,
   "metadata": {},
   "outputs": [
    {
     "name": "stdout",
     "output_type": "stream",
     "text": [
      "10\n",
      "5\n"
     ]
    },
    {
     "data": {
      "text/plain": [
       "False"
      ]
     },
     "execution_count": 12,
     "metadata": {},
     "output_type": "execute_result"
    }
   ],
   "source": [
    "class queue:\n",
    "    def __init__(self):\n",
    "        self.__arr = []\n",
    "        self.__count = 0\n",
    "        self.__front = 0\n",
    "\n",
    "    def inqueue(self,data):\n",
    "        self.__arr.append(data)\n",
    "        self.__count+=1\n",
    "\n",
    "    def dequeue(self):\n",
    "        if self.size == 0:\n",
    "            return -1\n",
    "        element=self.__arr[self.__front]\n",
    "        self.__count-=1\n",
    "        self.__front+=1\n",
    "\n",
    "    def front(self):\n",
    "        if self.size == 0:\n",
    "            return -1\n",
    "        return self.__arr[self.__front]\n",
    "    \n",
    "    def size(self):\n",
    "        return self.__count\n",
    "    \n",
    "    def isEmpty(self):\n",
    "        return self.size == 0\n",
    "    \n",
    "q = queue()\n",
    "q.inqueue(10)\n",
    "q.inqueue(15)\n",
    "q.inqueue(40)\n",
    "q.inqueue(30)\n",
    "q.inqueue(20)\n",
    "print(q.front())\n",
    "print(q.size())\n",
    "q.isEmpty()\n"
   ]
  }
 ],
 "metadata": {
  "kernelspec": {
   "display_name": "Python 3",
   "language": "python",
   "name": "python3"
  },
  "language_info": {
   "codemirror_mode": {
    "name": "ipython",
    "version": 3
   },
   "file_extension": ".py",
   "mimetype": "text/x-python",
   "name": "python",
   "nbconvert_exporter": "python",
   "pygments_lexer": "ipython3",
   "version": "3.11.4"
  },
  "orig_nbformat": 4
 },
 "nbformat": 4,
 "nbformat_minor": 2
}
