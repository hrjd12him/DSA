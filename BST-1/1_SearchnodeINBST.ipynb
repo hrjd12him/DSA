{
 "cells": [
  {
   "cell_type": "code",
   "execution_count": 5,
   "metadata": {},
   "outputs": [
    {
     "name": "stdout",
     "output_type": "stream",
     "text": [
      "Enter left child of  8\n",
      "Enter right child of  8\n",
      "Enter left child of  5\n",
      "Enter right child of  5\n",
      "Enter left child of  10\n",
      "Enter right child of  10\n",
      "Enter left child of  2\n",
      "Enter right child of  2\n",
      "Enter left child of  6\n",
      "Enter right child of  6\n",
      "Enter left child of  7\n",
      "Enter right child of  7\n",
      "8\n",
      "5\n",
      "10\n",
      "2\n",
      "6\n",
      "7\n"
     ]
    },
    {
     "data": {
      "text/plain": [
       "True"
      ]
     },
     "execution_count": 5,
     "metadata": {},
     "output_type": "execute_result"
    }
   ],
   "source": [
    "import queue\n",
    "class Treenode:\n",
    "    def __init__(self,data):\n",
    "        self.data = data\n",
    "        self.left =None\n",
    "        self.right =None\n",
    "\n",
    "def takeinputlevelwise():\n",
    "    q = queue.Queue()\n",
    "    rootdata = int(input())\n",
    "    if rootdata == -1:\n",
    "        return None\n",
    "    root = Treenode(rootdata)\n",
    "    q.put(root)\n",
    "    while not q.empty():\n",
    "        curr_Node = q.get()\n",
    "        print('Enter left child of ',curr_Node.data)\n",
    "        leftchilddata = int(input())\n",
    "        if leftchilddata != -1:\n",
    "            leftchild = Treenode(leftchilddata)\n",
    "            curr_Node.left = leftchild\n",
    "            q.put(leftchild)\n",
    "        print('Enter right child of ',curr_Node.data)\n",
    "        rightchilddata = int(input())\n",
    "        if rightchilddata != -1:\n",
    "            rightchild = Treenode(rightchilddata)\n",
    "            curr_Node.right = rightchild\n",
    "            q.put(rightchild)\n",
    "    return root\n",
    "\n",
    "def printlevelwise(root): \n",
    "    q = queue.Queue()\n",
    "    if root == None:\n",
    "        return\n",
    "    q.put(root)\n",
    "    while not q.empty():\n",
    "        curr_node = q.get()\n",
    "        print(curr_node.data)\n",
    "        if curr_node.left!= None:\n",
    "            q.put(curr_node.left)\n",
    "        if curr_node.right != None:\n",
    "            q.put(curr_node.right)\n",
    "    \n",
    "\n",
    "def BinarySerachTree(root,k):\n",
    "    if root is None:\n",
    "        return False\n",
    "    if root.data == k:\n",
    "        return True\n",
    "    elif root.data>k:\n",
    "        lefttree = BinarySerachTree(root.left,k)\n",
    "        return lefttree\n",
    "    else:\n",
    "        righttree = BinarySerachTree(root.right,k)\n",
    "        return righttree\n",
    "    \n",
    "root = takeinputlevelwise()\n",
    "printlevelwise(root)\n",
    "k = int(input('Enter a value to be searched in BST: '))\n",
    "BinarySerachTree(root,k)\n",
    "# 8 5 10 2 6 -1 -1 -1 -1 -1 7 -1 -1"
   ]
  },
  {
   "cell_type": "code",
   "execution_count": null,
   "metadata": {},
   "outputs": [],
   "source": []
  }
 ],
 "metadata": {
  "kernelspec": {
   "display_name": "Python 3",
   "language": "python",
   "name": "python3"
  },
  "language_info": {
   "codemirror_mode": {
    "name": "ipython",
    "version": 3
   },
   "file_extension": ".py",
   "mimetype": "text/x-python",
   "name": "python",
   "nbconvert_exporter": "python",
   "pygments_lexer": "ipython3",
   "version": "3.11.4"
  },
  "orig_nbformat": 4
 },
 "nbformat": 4,
 "nbformat_minor": 2
}
