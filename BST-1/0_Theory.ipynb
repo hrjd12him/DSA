{
 "cells": [
  {
   "cell_type": "markdown",
   "metadata": {},
   "source": [
    "Certainly! Here are some notes on Binary Search Trees (BSTs):\n",
    "---\n",
    "\n",
    "**Binary Search Tree (BST) Notes**\n",
    "\n",
    "1. **Introduction:**\n",
    "\n",
    "   - A Binary Search Tree (BST) is a hierarchical data structure used in computer science and applications where efficient insertion, deletion, and searching of elements is required.\n",
    "   - It is a binary tree, which means each node has at most two children.\n",
    "\n",
    "2. **Properties of a BST:**\n",
    "   - In a BST, for each node:\n",
    "     - All nodes in its left subtree have values less than the node's value.\n",
    "     - All nodes in its right subtree have values greater than the node's value.\n",
    "   - This property makes it efficient for searching because you can eliminate half of the tree at each step.\n",
    "\n",
    "3. **BST Operations:**\n",
    "   - **Insertion:** To insert an element into a BST, compare it with the root node. If it's smaller, go to the left subtree; if it's larger, go to the right subtree. Repeat this process until you find an empty spot.\n",
    "   - **Deletion:** To delete a node, there are three cases to consider:\n",
    "     - Node has no children: Simply remove the node.\n",
    "     - Node has one child: Replace the node with its child.\n",
    "     - Node has two children: Find the node's in-order predecessor or successor, replace the node's value with that of the predecessor/successor, and then delete the predecessor/successor node.\n",
    "   - **Search:** To search for a value in a BST, start at the root and navigate left or right based on whether the target value is smaller or larger than the current node's value.\n",
    "\n",
    "4. **Traversal:**\n",
    "   - BSTs can be traversed in different ways:\n",
    "     - **In-order:** Traverse left subtree, visit the node, then traverse right subtree. This yields elements in sorted order.\n",
    "     - **Pre-order:** Visit the node, traverse left subtree, then traverse right subtree.\n",
    "     - **Post-order:** Traverse left subtree, traverse right subtree, then visit the node.\n",
    "\n",
    "5. **Balanced vs. Unbalanced BST:**\n",
    "   - A balanced BST has approximately the same number of nodes in its left and right subtrees, ensuring efficient operations.\n",
    "   - An unbalanced BST can degenerate into a linked list in the worst case, leading to inefficient operations.\n",
    "\n",
    "6. **Common Applications:**\n",
    "   - BSTs are used in various applications, including:\n",
    "     - Symbol tables and dictionaries for efficient data retrieval.\n",
    "     - Self-balancing BSTs like AVL trees and Red-Black trees are used to maintain balance automatically.\n",
    "     - Binary Search Trees can be used in algorithms like binary search and in database indexing.\n",
    "\n",
    "7. **Complexity Analysis:**\n",
    "   - Average-case time complexity for search, insertion, and deletion in a balanced BST is O(log n), where n is the number of nodes.\n",
    "   - In the worst case (unbalanced tree), it can be O(n).\n",
    "\n",
    "8. **Considerations:**\n",
    "   - The efficiency of a BST depends on its balance. Self-balancing BSTs ensure logarithmic height, making them more reliable for various applications.\n",
    "\n",
    "Remember that the efficiency of a BST depends on how balanced it is. Various self-balancing techniques and specialized BST structures have been developed to address this issue and guarantee efficient operations in various scenarios."
   ]
  }
 ],
 "metadata": {
  "language_info": {
   "name": "python"
  },
  "orig_nbformat": 4
 },
 "nbformat": 4,
 "nbformat_minor": 2
}
