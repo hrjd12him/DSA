{
 "cells": [
  {
   "cell_type": "code",
   "execution_count": 5,
   "metadata": {},
   "outputs": [
    {
     "name": "stdout",
     "output_type": "stream",
     "text": [
      "4  \n",
      "2 6  \n",
      "1 3 5 7  \n"
     ]
    }
   ],
   "source": [
    "class treenode():\n",
    "    def __init__(self,data):\n",
    "        self.data = data\n",
    "        self.left =None\n",
    "        self.right = None\n",
    "\n",
    "def printlevelorder(root):\n",
    "    if root ==None:\n",
    "        return \n",
    "    q =[]\n",
    "    q.append(root)\n",
    "    while q:\n",
    "        count = len(q)\n",
    "        while count>0:\n",
    "            curr_node =q.pop(0)\n",
    "            print(curr_node.data,end=' ')\n",
    "            if curr_node.left:\n",
    "                q.append(curr_node.left)\n",
    "            if curr_node.right:\n",
    "                q.append(curr_node.right)\n",
    "\n",
    "            count-=1\n",
    "        print(' ')\n",
    "\n",
    "def CreateBST(arr):\n",
    "    if not arr or len(arr) == 0:\n",
    "        return\n",
    "    rootdata = arr[len(arr)//2]\n",
    "    root = treenode(rootdata)\n",
    "\n",
    "    rootindex = arr.index(rootdata)\n",
    "    leftchilddata = arr[0:rootindex]\n",
    "    rightchilddata =arr[rootindex+1:]\n",
    "\n",
    "    leftchild = CreateBST(leftchilddata)\n",
    "    rightchild =CreateBST(rightchilddata)\n",
    "    root.left = leftchild\n",
    "    root.right = rightchild\n",
    "\n",
    "    return root\n",
    "\n",
    "arr = [1,2,3,4,5,6,7]\n",
    "root =CreateBST(arr)\n",
    "printlevelorder(root)"
   ]
  },
  {
   "cell_type": "markdown",
   "metadata": {},
   "source": [
    "print preorder wise\n",
    "--------------------"
   ]
  },
  {
   "cell_type": "code",
   "execution_count": 6,
   "metadata": {},
   "outputs": [
    {
     "name": "stdout",
     "output_type": "stream",
     "text": [
      "4:L 2,R 6\n",
      "2:L 1,R 3\n",
      "1:\n",
      "3:\n",
      "6:L 5,R 7\n",
      "5:\n",
      "7:\n"
     ]
    }
   ],
   "source": [
    "class treenode():\n",
    "    def __init__(self,data):\n",
    "        self.data = data\n",
    "        self.left =None\n",
    "        self.right = None\n",
    "\n",
    "def preorder(root):\n",
    "    if root == None:\n",
    "        return \n",
    "    print(root.data,end=':')\n",
    "    if root.left != None:\n",
    "        print('L',root.left.data,end = ',')\n",
    "    if root.right != None:\n",
    "        print('R',root.right.data,end='')\n",
    "    print()\n",
    "    preorder(root.left)\n",
    "    preorder(root.right)\n",
    "\n",
    "def CreateBST(arr):\n",
    "    if not arr or len(arr) == 0:\n",
    "        return\n",
    "    rootdata = arr[len(arr)//2]\n",
    "    root = treenode(rootdata)\n",
    "\n",
    "    rootindex = arr.index(rootdata)\n",
    "    leftchilddata = arr[0:rootindex]\n",
    "    rightchilddata =arr[rootindex+1:]\n",
    "\n",
    "    leftchild = CreateBST(leftchilddata)\n",
    "    rightchild =CreateBST(rightchilddata)\n",
    "    root.left = leftchild\n",
    "    root.right = rightchild\n",
    "\n",
    "    return root\n",
    "\n",
    "arr = [1,2,3,4,5,6,7]\n",
    "root =CreateBST(arr)\n",
    "preorder(root)"
   ]
  }
 ],
 "metadata": {
  "kernelspec": {
   "display_name": "Python 3",
   "language": "python",
   "name": "python3"
  },
  "language_info": {
   "codemirror_mode": {
    "name": "ipython",
    "version": 3
   },
   "file_extension": ".py",
   "mimetype": "text/x-python",
   "name": "python",
   "nbconvert_exporter": "python",
   "pygments_lexer": "ipython3",
   "version": "3.11.4"
  },
  "orig_nbformat": 4
 },
 "nbformat": 4,
 "nbformat_minor": 2
}
