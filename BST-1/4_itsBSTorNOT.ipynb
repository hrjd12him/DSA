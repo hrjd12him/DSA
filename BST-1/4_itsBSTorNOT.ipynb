{
 "cells": [
  {
   "cell_type": "code",
   "execution_count": 2,
   "metadata": {},
   "outputs": [
    {
     "name": "stdout",
     "output_type": "stream",
     "text": [
      "enter root data: \n"
     ]
    },
    {
     "name": "stdout",
     "output_type": "stream",
     "text": [
      "Enter the left Child of node 4\n",
      "Enter the right child of node 4\n",
      "Enter the left Child of node 2\n",
      "Enter the right child of node 2\n",
      "Enter the left Child of node 6\n",
      "Enter the right child of node 6\n",
      "Enter the left Child of node 1\n",
      "Enter the right child of node 1\n",
      "Enter the left Child of node 3\n",
      "Enter the right child of node 3\n",
      "Enter the left Child of node 5\n",
      "Enter the right child of node 5\n",
      "Enter the left Child of node 7\n",
      "Enter the right child of node 7\n",
      "4  \n",
      "2 6  \n",
      "1 3 5 7  \n"
     ]
    },
    {
     "data": {
      "text/plain": [
       "True"
      ]
     },
     "execution_count": 2,
     "metadata": {},
     "output_type": "execute_result"
    }
   ],
   "source": [
    "import queue\n",
    "class treenode():\n",
    "    def __init__(self,data):\n",
    "        self.data = data\n",
    "        self.left =None\n",
    "        self.right = None\n",
    "\n",
    "def inputlevelwise():\n",
    "    q = queue.Queue()\n",
    "    print('enter root data: ')\n",
    "    rootdata = int(input())\n",
    "    if rootdata ==-1:\n",
    "        return\n",
    "    root = treenode(rootdata)\n",
    "    q.put(root)\n",
    "    while not q.empty():\n",
    "        curr_node = q.get()\n",
    "        print('Enter the left Child of node',curr_node.data)\n",
    "        leftchilddata =int(input())\n",
    "        if leftchilddata != -1:\n",
    "            leftchild = treenode(leftchilddata)\n",
    "            q.put(leftchild)\n",
    "            curr_node.left = leftchild\n",
    "        print('Enter the right child of node',curr_node.data)\n",
    "        rightchilddata = int(input())\n",
    "        if rightchilddata != -1:\n",
    "            rightchild = treenode(rightchilddata)\n",
    "            q.put(rightchild)\n",
    "            curr_node.right = rightchild\n",
    "    return root\n",
    "\n",
    "def printlevelorder(root):\n",
    "    if root ==None:\n",
    "        return \n",
    "    q =[]\n",
    "    q.append(root)\n",
    "    while q:\n",
    "        count = len(q)\n",
    "        while count>0:\n",
    "            curr_node =q.pop(0)\n",
    "            print(curr_node.data,end=' ')\n",
    "            if curr_node.left:\n",
    "                q.append(curr_node.left)\n",
    "            if curr_node.right:\n",
    "                q.append(curr_node.right)\n",
    "\n",
    "            count-=1\n",
    "        print(' ')\n",
    "\n",
    "def mindata(root):\n",
    "    if root == None:\n",
    "        return 10000\n",
    "    leftmin = mindata(root.left)\n",
    "    rightmin  = mindata(root.right)\n",
    "    return min(leftmin,rightmin,root.data)\n",
    "\n",
    "def maxdata(root):\n",
    "    if root == None:\n",
    "        return -10000\n",
    "    leftmax = maxdata(root.left)\n",
    "    rightmax = maxdata(root.right)\n",
    "    return max(leftmax,rightmax,root.data)\n",
    "\n",
    "def isBST(root):\n",
    "    if root==None:\n",
    "        return True\n",
    "    leftmax = maxdata(root.left)\n",
    "    rightmin = mindata(root.right)\n",
    "\n",
    "    if root.data<=leftmax or root.data>rightmin:\n",
    "        return False\n",
    "    isleftBST = isBST(root.left)\n",
    "    isrightBST = isBST(root.right)\n",
    "\n",
    "    return isleftBST and isrightBST\n",
    "\n",
    "root = inputlevelwise()\n",
    "printlevelorder(root)\n",
    "isBST(root)\n",
    "    "
   ]
  },
  {
   "cell_type": "code",
   "execution_count": null,
   "metadata": {},
   "outputs": [],
   "source": [
    "def isBST2(root,min_range,max_range):\n",
    "    if root == None:\n",
    "        return None\n",
    "    if root.data<min_range  or root.data>max:\n",
    "        return False\n",
    "    isLeftWithinConstrains = isBST2(root.left,min_range,root.data -1)\n",
    "    isRightWitinConstrains = isBST2(root.right,root.data,max_range)\n",
    "\n",
    "    return isLeftWithinConstrains and isRightWitinConstrains\n"
   ]
  }
 ],
 "metadata": {
  "kernelspec": {
   "display_name": "Python 3",
   "language": "python",
   "name": "python3"
  },
  "language_info": {
   "codemirror_mode": {
    "name": "ipython",
    "version": 3
   },
   "file_extension": ".py",
   "mimetype": "text/x-python",
   "name": "python",
   "nbconvert_exporter": "python",
   "pygments_lexer": "ipython3",
   "version": "3.11.4"
  },
  "orig_nbformat": 4
 },
 "nbformat": 4,
 "nbformat_minor": 2
}
