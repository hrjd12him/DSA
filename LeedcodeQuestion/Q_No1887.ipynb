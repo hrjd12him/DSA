{
 "cells": [
  {
   "cell_type": "markdown",
   "metadata": {},
   "source": [
    "```plaintext\n",
    "1887. Reduction Operations to Make the Array Elements Equal\n",
    "\n",
    "Given an integer array nums, your goal is to make all elements in nums equal. To complete one operation, follow these steps:\n",
    "\n",
    "Find the largest value in nums. Let its index be i (0-indexed) and its value be largest. If there are multiple elements with the largest value, pick the smallest i.\n",
    "Find the next largest value in nums strictly smaller than largest. Let its value be nextLargest.\n",
    "Reduce nums[i] to nextLargest.\n",
    "Return the number of operations to make all elements in nums equal.\n",
    "\n",
    "Example 1:\n",
    "\n",
    "Input: nums = [5,1,3]\n",
    "Output: 3\n",
    "Explanation: It takes 3 operations to make all elements in nums equal:\n",
    "1. largest = 5 at index 0. nextLargest = 3. Reduce nums[0] to 3. nums = [3,1,3].\n",
    "2. largest = 3 at index 0. nextLargest = 1. Reduce nums[0] to 1. nums = [1,1,3].\n",
    "3. largest = 3 at index 2. nextLargest = 1. Reduce nums[2] to 1. nums = [1,1,1].\n",
    "Example 2:\n",
    "\n",
    "Input: nums = [1,1,1]\n",
    "Output: 0\n",
    "Explanation: All elements in nums are already equal.\n",
    "Example 3:\n",
    "\n",
    "Input: nums = [1,1,2,2,3]\n",
    "Output: 4\n",
    "Explanation: It takes 4 operations to make all elements in nums equal:\n",
    "1. largest = 3 at index 4. nextLargest = 2. Reduce nums[4] to 2. nums = [1,1,2,2,2].\n",
    "2. largest = 2 at index 2. nextLargest = 1. Reduce nums[2] to 1. nums = [1,1,1,2,2].\n",
    "3. largest = 2 at index 3. nextLargest = 1. Reduce nums[3] to 1. nums = [1,1,1,1,2].\n",
    "4. largest = 2 at index 4. nextLargest = 1. Reduce nums[4] to 1. nums = [1,1,1,1,1].\n",
    "```"
   ]
  },
  {
   "cell_type": "markdown",
   "metadata": {},
   "source": [
    "### Intuition\n",
    "The intuition behind this solution seems to be centered around reducing the elements in the `nums` array to the minimum value. The goal is to find the minimum number of operations required to make all elements equal, where an operation involves reducing an element to its next smaller distinct value.\n",
    "\n",
    "### Approach\n",
    "1. Sort the `nums` array in descending order.\n",
    "2. Initialize a variable `ans` to keep track of the total number of operations.\n",
    "3. Iterate through the sorted array, and for each pair of adjacent elements where the current element is greater than the next, add the current index `i + 1` to `ans`.\n",
    "4. The final value of `ans` represents the minimum number of operations required to make all elements in the array equal.\n",
    "\n",
    "### Complexity\n",
    "- Time complexity: O(n log n) due to the sorting operation, where n is the length of the `nums` array.\n",
    "- Space complexity: O(1) as the sorting is done in-place, and the additional space used is constant.\n",
    "\n",
    "Overall, the time complexity is dominated by the sorting step, and the space complexity is minimal.\n",
    "\n",
    "# Code\n",
    "```python\n",
    "class Solution:\n",
    "    def reductionOperations(self, nums: List[int]) -> int:\n",
    "        n=len(nums)\n",
    "        nums.sort(reverse=True)\n",
    "        ans=0\n",
    "        for i in range(n-1):\n",
    "            if nums[i]>nums[i+1]:\n",
    "                ans+=i+1\n",
    "        return ans         \n",
    "```"
   ]
  }
 ],
 "metadata": {
  "kernelspec": {
   "display_name": "Python 3",
   "language": "python",
   "name": "python3"
  },
  "language_info": {
   "codemirror_mode": {
    "name": "ipython",
    "version": 3
   },
   "file_extension": ".py",
   "mimetype": "text/x-python",
   "name": "python",
   "nbconvert_exporter": "python",
   "pygments_lexer": "ipython3",
   "version": "3.11.4"
  }
 },
 "nbformat": 4,
 "nbformat_minor": 2
}
