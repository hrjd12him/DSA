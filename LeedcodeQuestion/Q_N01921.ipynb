{
 "cells": [
  {
   "cell_type": "markdown",
   "metadata": {},
   "source": [
    "```1921. Eliminate Maximum Number of Monsters\n",
    "\n",
    "You are playing a video game where you are defending your city from a group of n monsters. You are given a 0-indexed integer array dist of size n, where dist[i] is the initial distance in kilometers of the ith monster from the city.\n",
    "\n",
    "The monsters walk toward the city at a constant speed. The speed of each monster is given to you in an integer array speed of size n, where speed[i] is the speed of the ith monster in kilometers per minute.\n",
    "\n",
    "You have a weapon that, once fully charged, can eliminate a single monster. However, the weapon takes one minute to charge. The weapon is fully charged at the very start.\n",
    "\n",
    "You lose when any monster reaches your city. If a monster reaches the city at the exact moment the weapon is fully charged, it counts as a loss, and the game ends before you can use your weapon.\n",
    "\n",
    "Return the maximum number of monsters that you can eliminate before you lose, or n if you can eliminate all the monsters before they reach the city.\n",
    "\n",
    " \n",
    "\n",
    "Example 1:\n",
    "\n",
    "Input: dist = [1,3,4], speed = [1,1,1]\n",
    "Output: 3\n",
    "Explanation:\n",
    "In the beginning, the distances of the monsters are [1,3,4]. You eliminate the first monster.\n",
    "After a minute, the distances of the monsters are [X,2,3]. You eliminate the second monster.\n",
    "After a minute, the distances of the monsters are [X,X,2]. You eliminate the thrid monster.\n",
    "All 3 monsters can be eliminated.\n",
    "Example 2:\n",
    "\n",
    "Input: dist = [1,1,2,3], speed = [1,1,1,1]\n",
    "Output: 1\n",
    "Explanation:\n",
    "In the beginning, the distances of the monsters are [1,1,2,3]. You eliminate the first monster.\n",
    "After a minute, the distances of the monsters are [X,0,1,2], so you lose.\n",
    "You can only eliminate 1 monster.\n",
    "Example 3:\n",
    "\n",
    "Input: dist = [3,2,4], speed = [5,3,2]\n",
    "Output: 1\n",
    "Explanation:\n",
    "In the beginning, the distances of the monsters are [3,2,4]. You eliminate the first monster.\n",
    "After a minute, the distances of the monsters are [X,0,2], so you lose.\n",
    "You can only eliminate 1 monster.```"
   ]
  },
  {
   "cell_type": "code",
   "execution_count": null,
   "metadata": {},
   "outputs": [],
   "source": [
    "class Solution:\n",
    "    def eliminateMaximum(self, dist: List[int], speed: List[int]) -> int:\n",
    "        time_to_city = [dist[i] / speed[i] for i in range(len(dist))]\n",
    "        time_to_city.sort()\n",
    "        \n",
    "        for i in range(len(time_to_city)):\n",
    "\n",
    "            if time_to_city[i] <= i:\n",
    "                return i\n",
    "\n",
    "        return len(dist)"
   ]
  }
 ],
 "metadata": {
  "language_info": {
   "name": "python"
  }
 },
 "nbformat": 4,
 "nbformat_minor": 2
}
