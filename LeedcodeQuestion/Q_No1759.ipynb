{
 "cells": [
  {
   "cell_type": "code",
   "execution_count": null,
   "metadata": {},
   "outputs": [],
   "source": [
    "class Solution(object):\n",
    "    def countHomogenous(self, s):\n",
    "        res = 0\n",
    "        start = 0\n",
    "        \n",
    "        for i in range(len(s)):\n",
    "            if s[i] != s[start]:\n",
    "                appear = i - start\n",
    "                while appear > 0:\n",
    "                    res += appear\n",
    "                    appear -= 1\n",
    "                start = i\n",
    "        \n",
    "        appear = len(s) - start\n",
    "        while appear > 0:\n",
    "            res += appear\n",
    "            appear -= 1\n",
    "        \n",
    "        return int(res % (10**9 + 7))"
   ]
  },
  {
   "cell_type": "code",
   "execution_count": null,
   "metadata": {},
   "outputs": [],
   "source": [
    "class Solution:\n",
    "    def countHomogenous(self, s: str) -> int:\n",
    "        count = 0\n",
    "        for i in range(len(s)-2):\n",
    "            if s[i] !=s[i+1]:\n",
    "                count+=1\n",
    "            if s[i] == s[i+1]:\n",
    "                count+=2\n",
    "            if s[i] == s[i+1] and s[i] == s[i+2]:\n",
    "                count+=3\n",
    "        return count\n",
    "\n",
    "        "
   ]
  }
 ],
 "metadata": {
  "language_info": {
   "name": "python"
  }
 },
 "nbformat": 4,
 "nbformat_minor": 2
}
