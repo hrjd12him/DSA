{
 "cells": [
  {
   "cell_type": "markdown",
   "metadata": {},
   "source": [
    "1630. Arithmetic Subarrays\n",
    "```\n",
    "A sequence of numbers is called arithmetic if it consists of at least two elements, and the difference between every two consecutive elements is the same. More formally, a sequence s is arithmetic if and only if s[i+1] - s[i] == s[1] - s[0] for all valid i.\n",
    "\n",
    "For example, these are arithmetic sequences:\n",
    "\n",
    "1, 3, 5, 7, 9\n",
    "7, 7, 7, 7\n",
    "3, -1, -5, -9\n",
    "The following sequence is not arithmetic:\n",
    "\n",
    "1, 1, 2, 5, 7\n",
    "You are given an array of n integers, nums, and two arrays of m integers each, l and r, representing the m range queries, where the ith query is the range [l[i], r[i]]. All the arrays are 0-indexed.\n",
    "\n",
    "Return a list of boolean elements answer, where answer[i] is true if the subarray nums[l[i]], nums[l[i]+1], ... , nums[r[i]] can be rearranged to form an arithmetic sequence, and false otherwise.\n",
    "\n",
    " \n",
    "\n",
    "Example 1:\n",
    "\n",
    "Input: nums = [4,6,5,9,3,7], l = [0,0,2], r = [2,3,5]\n",
    "Output: [true,false,true]\n",
    "Explanation:\n",
    "In the 0th query, the subarray is [4,6,5]. This can be rearranged as [6,5,4], which is an arithmetic sequence.\n",
    "In the 1st query, the subarray is [4,6,5,9]. This cannot be rearranged as an arithmetic sequence.\n",
    "In the 2nd query, the subarray is [5,9,3,7]. This can be rearranged as [3,5,7,9], which is an arithmetic sequence.\n",
    "Example 2:\n",
    "\n",
    "Input: nums = [-12,-9,-3,-12,-6,15,20,-25,-20,-15,-10], l = [0,1,6,4,8,7], r = [4,4,9,7,9,10]\n",
    "Output: [false,true,false,false,true,true]\n",
    "```"
   ]
  },
  {
   "cell_type": "code",
   "execution_count": null,
   "metadata": {},
   "outputs": [],
   "source": [
    "class Solution:\n",
    "    def checkArithmeticSubarrays(self, nums: List[int], l: List[int], r: List[int]) -> List[bool]:\n",
    "        \n",
    "        def check(arr):\n",
    "            arr.sort()\n",
    "            diff = arr[1] - arr[0]\n",
    "            \n",
    "            for i in range(2, len(arr)):\n",
    "                if arr[i] - arr[i - 1] != diff:\n",
    "                    return False\n",
    "                \n",
    "            return True\n",
    "        \n",
    "        ans = []\n",
    "        for i in range(len(l)):\n",
    "            arr = nums[l[i] : r[i] + 1]\n",
    "            ans.append(check(arr))\n",
    "        \n",
    "        return ans\n",
    "        "
   ]
  }
 ],
 "metadata": {
  "language_info": {
   "name": "python"
  }
 },
 "nbformat": 4,
 "nbformat_minor": 2
}
