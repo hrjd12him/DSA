{
 "cells": [
  {
   "cell_type": "code",
   "execution_count": 10,
   "metadata": {},
   "outputs": [
    {
     "name": "stdout",
     "output_type": "stream",
     "text": [
      "4\n"
     ]
    }
   ],
   "source": [
    "def maxCoins(piles):\n",
    "    piles.sort()\n",
    "    Coins = 0\n",
    "    j = len(piles)-1\n",
    "    for i in range(len(piles)//3):\n",
    "        pair = []\n",
    "        pair.append(piles[0])\n",
    "        pair.extend(piles[j-1:])\n",
    "        Coins+=pair[1]\n",
    "        i+=1\n",
    "        j-=2\n",
    "\n",
    "    return Coins\n",
    "\n",
    "piles = [2,4,5]\n",
    "print(maxCoins(piles))\n",
    "\n",
    "#1, 2, 3, 4, 5, 6, 7, 8, 9"
   ]
  },
  {
   "cell_type": "code",
   "execution_count": null,
   "metadata": {},
   "outputs": [],
   "source": [
    "class Solution:\n",
    "    def maxCoins(self, piles: List[int]) -> int:\n",
    "        piles.sort()\n",
    "        res = 0\n",
    "\n",
    "        for i in range(len(piles) // 3, len(piles), 2):\n",
    "            res += piles[i]\n",
    "        \n",
    "        return res\n"
   ]
  }
 ],
 "metadata": {
  "kernelspec": {
   "display_name": "Python 3",
   "language": "python",
   "name": "python3"
  },
  "language_info": {
   "codemirror_mode": {
    "name": "ipython",
    "version": 3
   },
   "file_extension": ".py",
   "mimetype": "text/x-python",
   "name": "python",
   "nbconvert_exporter": "python",
   "pygments_lexer": "ipython3",
   "version": "3.11.4"
  }
 },
 "nbformat": 4,
 "nbformat_minor": 2
}
