{
 "cells": [
  {
   "cell_type": "code",
   "execution_count": 12,
   "metadata": {},
   "outputs": [
    {
     "name": "stdout",
     "output_type": "stream",
     "text": [
      "No of teams 7\n",
      "No of matches 7\n",
      "No of teams 4\n",
      "No of matches 10\n",
      "No of teams 2\n",
      "No of matches 12\n",
      "No of teams 1\n",
      "No of matches 13\n",
      "13\n"
     ]
    }
   ],
   "source": [
    "class Solution:\n",
    "    def numberOfMatches(self, n: int) -> int:\n",
    "        Matches = 0\n",
    "        while n>1:\n",
    "            if n%2 == 0:\n",
    "                Matches+=n//2\n",
    "                n-=n//2    \n",
    "            else:\n",
    "                Matches+=(n//2)\n",
    "                n-=n//2\n",
    "\n",
    "        return Matches\n"
   ]
  },
  {
   "cell_type": "code",
   "execution_count": 4,
   "metadata": {},
   "outputs": [
    {
     "name": "stdout",
     "output_type": "stream",
     "text": [
      "3.5\n"
     ]
    }
   ],
   "source": []
  }
 ],
 "metadata": {
  "kernelspec": {
   "display_name": "Python 3",
   "language": "python",
   "name": "python3"
  },
  "language_info": {
   "codemirror_mode": {
    "name": "ipython",
    "version": 3
   },
   "file_extension": ".py",
   "mimetype": "text/x-python",
   "name": "python",
   "nbconvert_exporter": "python",
   "pygments_lexer": "ipython3",
   "version": "3.11.4"
  }
 },
 "nbformat": 4,
 "nbformat_minor": 2
}
