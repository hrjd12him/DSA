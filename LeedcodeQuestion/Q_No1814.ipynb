{
 "cells": [
  {
   "cell_type": "markdown",
   "metadata": {},
   "source": [
    "```plaintext\n",
    "1814. Count Nice Pairs in an Array\n",
    "\n",
    "You are given an array nums that consists of non-negative integers. Let us define rev(x) as the reverse of the non-negative integer x. For example, rev(123) = 321, and rev(120) = 21. A pair of indices (i, j) is nice if it satisfies all of the following conditions:\n",
    "\n",
    "0 <= i < j < nums.length\n",
    "nums[i] + rev(nums[j]) == nums[j] + rev(nums[i])\n",
    "Return the number of nice pairs of indices. Since that number can be too large, return it modulo 109 + 7.\n",
    "\n",
    "Example 1:\n",
    "\n",
    "Input: nums = [42,11,1,97]\n",
    "Output: 2\n",
    "Explanation: The two pairs are:\n",
    " - (0,3) : 42 + rev(97) = 42 + 79 = 121, 97 + rev(42) = 97 + 24 = 121.\n",
    " - (1,2) : 11 + rev(1) = 11 + 1 = 12, 1 + rev(11) = 1 + 11 = 12.\n",
    "Example 2:\n",
    "\n",
    "Input: nums = [13,10,35,24,76]\n",
    "Output: 4\n",
    "```"
   ]
  },
  {
   "cell_type": "code",
   "execution_count": 16,
   "metadata": {},
   "outputs": [
    {
     "name": "stdout",
     "output_type": "stream",
     "text": [
      "2\n"
     ]
    }
   ],
   "source": [
    "def countNicePairs(nums):#nums = [13,10,35,24,76]\n",
    "    count = 0\n",
    "    left = 0\n",
    "    right = len(nums) - 1\n",
    "\n",
    "    while left < right:\n",
    "        # Convert the numbers to strings, reverse them, convert back to integers\n",
    "        num_left = int(''.join(reversed(str(nums[left]))))\n",
    "        num_right = int(''.join(reversed(str(nums[right]))))\n",
    "\n",
    "        # Check if the sums are equal\n",
    "        if nums[left] + num_right == num_left + nums[right]:\n",
    "            count += 1\n",
    "            left += 1\n",
    "            right -= 1\n",
    "        elif  nums[left] + num_right < num_left + nums[right]:\n",
    "            right-=1\n",
    "        else:\n",
    "            left+=1\n",
    "            right+=1\n",
    "    \n",
    "\n",
    "    return count\n",
    "\n",
    "nums = [13,10,35,24,76]\n",
    "print(countNicePairs(nums))\n"
   ]
  },
  {
   "cell_type": "code",
   "execution_count": null,
   "metadata": {},
   "outputs": [],
   "source": [
    "from collections import Counter\n",
    "\n",
    "class Solution:\n",
    "    def countNicePairs(self, nums: List[int]) -> int:\n",
    "        MOD = 10**9 + 7\n",
    "        diff_count = Counter(i - int(str(i)[::-1]) for i in nums)\n",
    "        \n",
    "        return sum((count * (count - 1) // 2) % MOD for count in diff_count.values()) % MOD\n"
   ]
  },
  {
   "cell_type": "markdown",
   "metadata": {},
   "source": [
    "Certainly! Let's break down the alternative implementation step by step:\n",
    "\n",
    "1. **Import Counter:**\n",
    "   ```python\n",
    "   from collections import Counter\n",
    "   ```\n",
    "\n",
    "   This line imports the `Counter` class from the `collections` module. `Counter` is a convenient tool for counting the occurrences of elements in a collection (like a list).\n",
    "\n",
    "2. **Define the `countNicePairs` method:**\n",
    "   ```python\n",
    "   class Solution:\n",
    "       def countNicePairs(self, nums: List[int]) -> int:\n",
    "   ```\n",
    "\n",
    "   This defines the `countNicePairs` method as a part of the `Solution` class. It takes a list of integers `nums` as input and returns an integer.\n",
    "\n",
    "3. **Initialize Constants:**\n",
    "   ```python\n",
    "   MOD = 10**9 + 7\n",
    "   ```\n",
    "\n",
    "   This line sets a constant `MOD` to 10^9 + 7, which will be used to take the modulo of the final result to keep it within the specified constraints.\n",
    "\n",
    "4. **Use Counter to Count Differences:**\n",
    "   ```python\n",
    "   diff_count = Counter(i - int(str(i)[::-1]) for i in nums)\n",
    "   ```\n",
    "\n",
    "   This line uses a generator expression to calculate the difference between each element and its reverse (`i - int(str(i)[::-1])`) for each element `i` in `nums`. The `Counter` then counts the occurrences of these differences.\n",
    "\n",
    "5. **Calculate Pairs and Sum Up:**\n",
    "   ```python\n",
    "   return sum((count * (count - 1) // 2) % MOD for count in diff_count.values()) % MOD\n",
    "   ```\n",
    "\n",
    "   This line iterates over the values of the `diff_count` Counter (which represent the counts of each unique difference). For each count, it calculates the number of pairs that can be formed using the formula `(count * (count - 1) // 2)`. This formula calculates the number of ways to choose 2 elements from a set of `count` elements without regard to order. The modulo operation is then applied to ensure the result stays within the specified constraints.\n",
    "\n",
    "   Finally, the `sum` function adds up all these calculated values, and the result is again taken modulo `MOD` to ensure the final result is within the specified constraints.\n",
    "\n",
    "This implementation achieves the same result as the original one but does it in a more concise manner by leveraging the `Counter` class and using a single pass through the data."
   ]
  }
 ],
 "metadata": {
  "kernelspec": {
   "display_name": "Python 3",
   "language": "python",
   "name": "python3"
  },
  "language_info": {
   "codemirror_mode": {
    "name": "ipython",
    "version": 3
   },
   "file_extension": ".py",
   "mimetype": "text/x-python",
   "name": "python",
   "nbconvert_exporter": "python",
   "pygments_lexer": "ipython3",
   "version": "3.11.4"
  }
 },
 "nbformat": 4,
 "nbformat_minor": 2
}
