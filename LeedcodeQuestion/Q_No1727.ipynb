{
 "cells": [
  {
   "cell_type": "markdown",
   "metadata": {},
   "source": [
    "1727. Largest Submatrix With Rearrangements\n",
    "```plaintext\n",
    "You are given a binary matrix matrix of size m x n, and you are allowed to rearrange the columns of the matrix in any order.\n",
    "\n",
    "Return the area of the largest submatrix within matrix where every element of the submatrix is 1 after reordering the columns optimally.\n",
    "\n",
    "Example 1:\n",
    "\n",
    "Input: matrix = [[0,0,1],[1,1,1],[1,0,1]]\n",
    "Output: 4\n",
    "Explanation: You can rearrange the columns as shown above.\n",
    "The largest submatrix of 1s, in bold, has an area of 4.\n",
    "\n",
    "Example 2:\n",
    "\n",
    "Input: matrix = [[1,0,1,0,1]]\n",
    "Output: 3\n",
    "Explanation: You can rearrange the columns as shown above.\n",
    "The largest submatrix of 1s, in bold, has an area of 3.\n",
    "Example 3:\n",
    "\n",
    "Input: matrix = [[1,1,0],[1,0,1]]\n",
    "Output: 2\n",
    "Explanation: Notice that you must rearrange entire columns, and there is no way to make a submatrix of 1s larger than an area of 2.\n",
    "```"
   ]
  },
  {
   "cell_type": "code",
   "execution_count": 4,
   "metadata": {},
   "outputs": [
    {
     "name": "stdout",
     "output_type": "stream",
     "text": [
      "[3]\n",
      "3\n"
     ]
    }
   ],
   "source": [
    "def largestSubmatrix(matrix):\n",
    "    res = []\n",
    "    for i in range(len(matrix)):\n",
    "        res.append(matrix[i].count(1))\n",
    "    print(res)\n",
    "\n",
    "    return sum(res)//len(matrix)\n",
    "\n",
    "\n",
    "matrix = [[1,0,1,0,1]]\n",
    "ans = largestSubmatrix(matrix)\n",
    "print(ans)\n",
    "#[[1,1,0],\n",
    "#[1,1,0]]"
   ]
  },
  {
   "cell_type": "code",
   "execution_count": 5,
   "metadata": {},
   "outputs": [
    {
     "name": "stdout",
     "output_type": "stream",
     "text": [
      "3\n"
     ]
    }
   ],
   "source": [
    "def largestSubmatrix(matrix):       \n",
    "    rr=len(matrix)\n",
    "    cc=len(matrix[0])\n",
    "    ans=0\n",
    "    for r in range(1,rr):\n",
    "        for c in range(cc):\n",
    "            matrix[r][c]+=matrix[r-1][c] if matrix[r][c] else 0\n",
    "\n",
    "    for r in range(rr):\n",
    "        matrix[r].sort(reverse=True)\n",
    "        for c in range(cc):\n",
    "            ans=max(ans,(c+1)*matrix[r][c])\n",
    "    return ans       \n",
    "\n",
    "matrix = [[1,0,1,0,1]]\n",
    "ans = largestSubmatrix(matrix)\n",
    "print(ans)     "
   ]
  }
 ],
 "metadata": {
  "kernelspec": {
   "display_name": "Python 3",
   "language": "python",
   "name": "python3"
  },
  "language_info": {
   "codemirror_mode": {
    "name": "ipython",
    "version": 3
   },
   "file_extension": ".py",
   "mimetype": "text/x-python",
   "name": "python",
   "nbconvert_exporter": "python",
   "pygments_lexer": "ipython3",
   "version": "3.11.4"
  }
 },
 "nbformat": 4,
 "nbformat_minor": 2
}
