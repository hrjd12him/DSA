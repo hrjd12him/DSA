{
 "cells": [
  {
   "cell_type": "markdown",
   "metadata": {},
   "source": [
    "```\n",
    "1743. Restore the Array From Adjacent Pairs\n",
    "\n",
    "There is an integer array nums that consists of n unique elements, but you have forgotten it. However, you do remember every pair of adjacent elements in nums.\n",
    "\n",
    "You are given a 2D integer array adjacentPairs of size n - 1 where each adjacentPairs[i] = [ui, vi] indicates that the elements ui and vi are adjacent in nums.\n",
    "\n",
    "It is guaranteed that every adjacent pair of elements nums[i] and nums[i+1] will exist in adjacentPairs, either as [nums[i], nums[i+1]] or [nums[i+1], nums[i]]. The pairs can appear in any order.\n",
    "\n",
    "Return the original array nums. If there are multiple solutions, return any of them.\n",
    "\n",
    " \n",
    "\n",
    "Example 1:\n",
    "\n",
    "Input: adjacentPairs = [[2,1],[3,4],[3,2]]\n",
    "Output: [1,2,3,4]\n",
    "Explanation: This array has all its adjacent pairs in adjacentPairs.\n",
    "Notice that adjacentPairs[i] may not be in left-to-right order.\n",
    "Example 2:\n",
    "\n",
    "Input: adjacentPairs = [[4,-2],[1,4],[-3,1]]\n",
    "Output: [-2,4,1,-3]\n",
    "Explanation: There can be negative numbers.\n",
    "Another solution is [-3,1,4,-2], which would also be accepted.\n",
    "Example 3:\n",
    "\n",
    "Input: adjacentPairs = [[100000,-100000]]\n",
    "Output: [100000,-100000]\n",
    " \n",
    "```"
   ]
  },
  {
   "cell_type": "code",
   "execution_count": null,
   "metadata": {},
   "outputs": [],
   "source": [
    "class Solution:\n",
    "    def restoreArray(self, adjacentPairs: List[List[int]]) -> List[int]:\n",
    "        adjs=collections.defaultdict(set)\n",
    "        for i,j in adjacentPairs:\n",
    "            adjs[i].add(j)\n",
    "            adjs[j].add(i)\n",
    "\n",
    "        for node,adj in adjs.items():\n",
    "            if len(adj)==1:\n",
    "                break\n",
    "        ans=[node]\n",
    "        while adjs[node]:\n",
    "            new=adjs[node].pop()\n",
    "            ans.append(new)\n",
    "            adjs[new].remove(node)\n",
    "            node=new\n",
    "        return ans                "
   ]
  }
 ],
 "metadata": {
  "language_info": {
   "name": "python"
  }
 },
 "nbformat": 4,
 "nbformat_minor": 2
}
