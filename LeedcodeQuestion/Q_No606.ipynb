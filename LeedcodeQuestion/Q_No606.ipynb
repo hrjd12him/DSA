{
 "cells": [
  {
   "cell_type": "markdown",
   "metadata": {},
   "source": [
    "```plaintext\n",
    "606. Construct String from Binary Tree\n",
    "Given the root of a binary tree, construct a string consisting of parenthesis and integers from a binary tree with the preorder traversal way, and return it.\n",
    "\n",
    "Omit all the empty parenthesis pairs that do not affect the one-to-one mapping relationship between the string and the original binary tree.\n",
    "\n",
    "Example 1:\n",
    "Input: root = [1,2,3,4]\n",
    "Output: \"1(2(4))(3)\"\n",
    "Explanation: Originally, it needs to be \"1(2(4)())(3()())\", but you need to omit all the unnecessary empty parenthesis pairs. And it will be \"1(2(4))(3)\"\n",
    "\n",
    "Example 2:\n",
    "Input: root = [1,2,3,null,4]\n",
    "Output: \"1(2()(4))(3)\"\n",
    "Explanation: Almost the same as the first example, except we cannot omit the first parenthesis pair to break the one-to-one mapping relationship between the input and the output.\n",
    " \n",
    "Constraints:\n",
    "\n",
    "The number of nodes in the tree is in the range [1, 104].\n",
    "-1000 <= Node.val <= 1000\n",
    "```"
   ]
  },
  {
   "cell_type": "code",
   "execution_count": null,
   "metadata": {},
   "outputs": [],
   "source": [
    "# Definition for a binary tree node.\n",
    " class TreeNode:\n",
    "     def __init__(self, val=0, left=None, right=None):\n",
    "        self.val = val\n",
    "        self.left = left\n",
    "        self.right = right\n",
    "class Solution:\n",
    "    def tree2str(self, root):\n",
    "        def dfs(node):\n",
    "            if not node:\n",
    "                return \"\"\n",
    "            if node.right:\n",
    "                return f\"{node.val}({dfs(node.left)})({dfs(node.right)})\"\n",
    "            elif node.left:\n",
    "                return f\"{node.val}({dfs(node.left)})\"\n",
    "            else:\n",
    "                return f\"{node.val}\"\n",
    "        return dfs(root)"
   ]
  }
 ],
 "metadata": {
  "language_info": {
   "name": "python"
  }
 },
 "nbformat": 4,
 "nbformat_minor": 2
}
