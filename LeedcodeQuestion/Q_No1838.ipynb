{
 "cells": [
  {
   "cell_type": "markdown",
   "metadata": {},
   "source": [
    "```plaintext\n",
    "1838. Frequency of the Most Frequent Element\n",
    "\n",
    "The frequency of an element is the number of times it occurs in an array.\n",
    "\n",
    "You are given an integer array nums and an integer k. In one operation, you can choose an index of nums and increment the element at that index by 1.\n",
    "\n",
    "Return the maximum possible frequency of an element after performing at most k operations.\n",
    "\n",
    "Example 1:\n",
    "\n",
    "Input: nums = [1,2,4], k = 5\n",
    "Output: 3\n",
    "Explanation: Increment the first element three times and the second element two times to make nums = [4,4,4].\n",
    "4 has a frequency of 3.\n",
    "Example 2:\n",
    "\n",
    "Input: nums = [1,4,8,13], k = 5\n",
    "Output: 2\n",
    "Explanation: There are multiple optimal solutions:\n",
    "- Increment the first element three times to make nums = [4,4,8,13]. 4 has a frequency of 2.\n",
    "- Increment the second element four times to make nums = [1,8,8,13]. 8 has a frequency of 2.\n",
    "- Increment the third element five times to make nums = [1,4,13,13]. 13 has a frequency of 2.\n",
    "Example 3:\n",
    "\n",
    "Input: nums = [3,9,6], k = 2\n",
    "Output: 1\n",
    "```"
   ]
  },
  {
   "cell_type": "code",
   "execution_count": 6,
   "metadata": {},
   "outputs": [
    {
     "name": "stdout",
     "output_type": "stream",
     "text": [
      "1\n"
     ]
    }
   ],
   "source": [
    "def maxFrequency(nums,k):\n",
    "    max_freq = 0\n",
    "    nums.sort()\n",
    "    i,j =0,0\n",
    "    curr_sum =0\n",
    "    while j<len(nums):\n",
    "        curr_sum+=nums[j]\n",
    "        while nums[j]*(j-i+1)>curr_sum+k:\n",
    "            curr_sum-=nums[i]\n",
    "            i+=1\n",
    "        max_freq = max(max_freq,j-i+1)\n",
    "        j+=1\n",
    "\n",
    "    return max_freq    \n",
    "\n",
    "nums = [3,9,6]\n",
    "k =2\n",
    "\n",
    "result = maxFrequency(nums,k)\n",
    "print(result)"
   ]
  }
 ],
 "metadata": {
  "kernelspec": {
   "display_name": "Python 3",
   "language": "python",
   "name": "python3"
  },
  "language_info": {
   "codemirror_mode": {
    "name": "ipython",
    "version": 3
   },
   "file_extension": ".py",
   "mimetype": "text/x-python",
   "name": "python",
   "nbconvert_exporter": "python",
   "pygments_lexer": "ipython3",
   "version": "3.11.4"
  }
 },
 "nbformat": 4,
 "nbformat_minor": 2
}
