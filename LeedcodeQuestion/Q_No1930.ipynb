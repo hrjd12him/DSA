{
 "cells": [
  {
   "cell_type": "code",
   "execution_count": null,
   "metadata": {},
   "outputs": [],
   "source": [
    "class Solution:\n",
    "    def countPalindromicSubsequence(self, s):\n",
    "        res = 0\n",
    "\n",
    "        #string.ascii_lowercase = {a,b,c,d ... x,y,z}\n",
    "        for k in string.ascii_lowercase:\n",
    "            first, last = s.find(k), s.rfind(k)\n",
    "            if first > -1:\n",
    "                res += len(set(s[first + 1: last]))\n",
    "        return res\n",
    "        "
   ]
  }
 ],
 "metadata": {
  "language_info": {
   "name": "python"
  }
 },
 "nbformat": 4,
 "nbformat_minor": 2
}
