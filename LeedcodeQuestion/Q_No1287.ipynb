{
 "cells": [
  {
   "cell_type": "code",
   "execution_count": 8,
   "metadata": {},
   "outputs": [
    {
     "name": "stdout",
     "output_type": "stream",
     "text": [
      "6\n"
     ]
    }
   ],
   "source": [
    "def findSpecialInteger(arr):\n",
    "    d = {i: arr.count(i) for i in arr}\n",
    "    return max(d.keys(), key=d.get)\n",
    "\n",
    "arr = [1, 2, 2, 6, 6, 6, 6, 7, 10]\n",
    "result = findSpecialInteger(arr)\n",
    "print(result)\n"
   ]
  },
  {
   "cell_type": "markdown",
   "metadata": {},
   "source": [
    "The given code implements an algorithm to find a special integer in an array. The approach used here is a sliding window approach with constant space complexity. This algorithm is designed to find an integer that appears more than 25% of the time in a sorted array.\n",
    "\n",
    "Here's a breakdown of the approach:\n",
    "\n",
    "1. Calculate the threshold `qtr` as one-fourth of the array size.\n",
    "2. Initialize a counter `cnt` to 1 and a variable `p` to the first element of the array.\n",
    "3. Iterate through the array starting from the second element.\n",
    "4. If the current element is equal to the previous one, increment the counter `cnt`; otherwise, reset `cnt` to 1.\n",
    "5. If the counter `cnt` becomes greater than the threshold `qtr`, return the current element as it is the special integer.\n",
    "6. Update the variable `p` to the current element.\n",
    "7. If no special integer is found during the iteration, return the last element as the result.\n",
    "\n",
    "This approach relies on the fact that the special integer occurs more than 25% of the time, so it will be found within the first or second quarter of the sorted array."
   ]
  },
  {
   "cell_type": "code",
   "execution_count": 10,
   "metadata": {},
   "outputs": [
    {
     "name": "stdout",
     "output_type": "stream",
     "text": [
      "6\n"
     ]
    }
   ],
   "source": [
    "def findSpecialInteger(arr):\n",
    "    size = len(arr)\n",
    "    qtr = size // 4\n",
    "    cnt = 1\n",
    "    p = arr[0]\n",
    "    \n",
    "    for i in range(1, size):\n",
    "        if p == arr[i]:\n",
    "            cnt += 1\n",
    "        else:\n",
    "            cnt = 1\n",
    "        \n",
    "        if cnt > qtr:\n",
    "            return arr[i]\n",
    "        \n",
    "        p = arr[i]\n",
    "\n",
    "    return p\n",
    "\n",
    "arr = [1, 2, 2, 6, 6, 6, 6, 7, 10]\n",
    "result = findSpecialInteger(arr)\n",
    "print(result)\n",
    "\n",
    "    "
   ]
  }
 ],
 "metadata": {
  "kernelspec": {
   "display_name": "Python 3",
   "language": "python",
   "name": "python3"
  },
  "language_info": {
   "codemirror_mode": {
    "name": "ipython",
    "version": 3
   },
   "file_extension": ".py",
   "mimetype": "text/x-python",
   "name": "python",
   "nbconvert_exporter": "python",
   "pygments_lexer": "ipython3",
   "version": "3.11.4"
  }
 },
 "nbformat": 4,
 "nbformat_minor": 2
}
