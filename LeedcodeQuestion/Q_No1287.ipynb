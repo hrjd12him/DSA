{
 "cells": [
  {
   "cell_type": "code",
   "execution_count": 8,
   "metadata": {},
   "outputs": [
    {
     "name": "stdout",
     "output_type": "stream",
     "text": [
      "6\n"
     ]
    }
   ],
   "source": [
    "def findSpecialInteger(arr):\n",
    "    d = {i: arr.count(i) for i in arr}\n",
    "    return max(d.keys(), key=d.get)\n",
    "\n",
    "arr = [1, 2, 2, 6, 6, 6, 6, 7, 10]\n",
    "result = findSpecialInteger(arr)\n",
    "print(result)\n"
   ]
  },
  {
   "cell_type": "code",
   "execution_count": 10,
   "metadata": {},
   "outputs": [
    {
     "name": "stdout",
     "output_type": "stream",
     "text": [
      "6\n"
     ]
    }
   ],
   "source": [
    "def findSpecialInteger(arr):\n",
    "    size = len(arr)\n",
    "    qtr = size // 4\n",
    "    cnt = 1\n",
    "    p = arr[0]\n",
    "    \n",
    "    for i in range(1, size):\n",
    "        if p == arr[i]:\n",
    "            cnt += 1\n",
    "        else:\n",
    "            cnt = 1\n",
    "        \n",
    "        if cnt > qtr:\n",
    "            return arr[i]\n",
    "        \n",
    "        p = arr[i]\n",
    "\n",
    "    return p\n",
    "\n",
    "arr = [1, 2, 2, 6, 6, 6, 6, 7, 10]\n",
    "result = findSpecialInteger(arr)\n",
    "print(result)\n",
    "\n",
    "    "
   ]
  }
 ],
 "metadata": {
  "kernelspec": {
   "display_name": "Python 3",
   "language": "python",
   "name": "python3"
  },
  "language_info": {
   "codemirror_mode": {
    "name": "ipython",
    "version": 3
   },
   "file_extension": ".py",
   "mimetype": "text/x-python",
   "name": "python",
   "nbconvert_exporter": "python",
   "pygments_lexer": "ipython3",
   "version": "3.11.4"
  }
 },
 "nbformat": 4,
 "nbformat_minor": 2
}
