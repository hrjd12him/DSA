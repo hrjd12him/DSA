{
 "cells": [
  {
   "cell_type": "markdown",
   "metadata": {},
   "source": [
    "# 1441. Build an Array With Stack Operations"
   ]
  },
  {
   "cell_type": "code",
   "execution_count": null,
   "metadata": {},
   "outputs": [],
   "source": [
    "class Solution(object):\n",
    "    def buildArray(self, target, n):\n",
    "        result = []\n",
    "        current = 1  # The current number to be pushed.\n",
    "\n",
    "        for num in target:\n",
    "            while current < num:\n",
    "                # While the current number is less than the target number,\n",
    "                # push the current number and generate the \"Push\" operation.\n",
    "                result.extend([\"Push\", \"Pop\"])  # Extend the list with \"Push\" and \"Pop\".\n",
    "                current += 1\n",
    "\n",
    "            # The current number matches the target number, so push it.\n",
    "            result.append(\"Push\")\n",
    "\n",
    "            current += 1  # Move to the next number to be pushed.\n",
    "\n",
    "        return result"
   ]
  }
 ],
 "metadata": {
  "language_info": {
   "name": "python"
  }
 },
 "nbformat": 4,
 "nbformat_minor": 2
}
