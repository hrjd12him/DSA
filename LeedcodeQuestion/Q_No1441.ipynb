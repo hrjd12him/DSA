{
 "cells": [
  {
   "cell_type": "markdown",
   "metadata": {},
   "source": [
    "# 1441. Build an Array With Stack Operations"
   ]
  },
  {
   "cell_type": "code",
   "execution_count": null,
   "metadata": {},
   "outputs": [],
   "source": [
    "class Solution(object):\n",
    "    def buildArray(self, target, n):\n",
    "        result = []\n",
    "        current = 1  # The current number to be pushed.\n",
    "\n",
    "        for num in target:\n",
    "            while current < num:\n",
    "                # While the current number is less than the target number,\n",
    "                # push the current number and generate the \"Push\" operation.\n",
    "                result.extend([\"Push\", \"Pop\"])  # Extend the list with \"Push\" and \"Pop\".\n",
    "                current += 1\n",
    "\n",
    "            # The current number matches the target number, so push it.\n",
    "            result.append(\"Push\")\n",
    "\n",
    "            current += 1  # Move to the next number to be pushed.\n",
    "\n",
    "        return result"
   ]
  },
  {
   "cell_type": "code",
   "execution_count": null,
   "metadata": {},
   "outputs": [],
   "source": [
    "n =9\n",
    "l = []\n",
    "d ={}\n",
    "result = 0\n",
    "for i in range(9):\n",
    "    l.append(int(input()))\n",
    "\n",
    "for i in l:\n",
    "    if i in d:\n",
    "        d[i]+=1\n",
    "    else:\n",
    "        d[i] = 1\n",
    "\n",
    "for j in d:\n",
    "    if d[j]>1:\n",
    "        result+=j*5\n",
    "\n",
    "print(result)\n",
    "\n"
   ]
  },
  {
   "cell_type": "markdown",
   "metadata": {},
   "source": [
    "write the code for this pattern\n",
    "*\n",
    "*  *\n",
    "*    *\n",
    "*      *\n",
    "*    *\n",
    "*  *\n",
    "*"
   ]
  },
  {
   "cell_type": "code",
   "execution_count": 12,
   "metadata": {},
   "outputs": [
    {
     "name": "stdout",
     "output_type": "stream",
     "text": [
      "**\n",
      "*  *\n",
      "*    *\n",
      "*      *\n",
      "*    *\n",
      "*  *\n",
      "**\n"
     ]
    }
   ],
   "source": [
    "\n",
    "def print_pattern(n):\n",
    "    \n",
    "    for i in range(n):\n",
    "        print(\"*\", end=\"\")\n",
    "        for j in range(i):\n",
    "            print(\"  \", end=\"\")\n",
    "        print(\"*\")\n",
    "\n",
    "    for i in range(n - 2, -1, -1):\n",
    "        print(\"*\", end=\"\")\n",
    "        for j in range(i):\n",
    "            print(\"  \", end=\"\")\n",
    "        print(\"*\")\n",
    "\n",
    "\n",
    "n = int(input(\"Enter the number of rows: \"))\n",
    "print_pattern(n)\n"
   ]
  }
 ],
 "metadata": {
  "kernelspec": {
   "display_name": "Python 3",
   "language": "python",
   "name": "python3"
  },
  "language_info": {
   "codemirror_mode": {
    "name": "ipython",
    "version": 3
   },
   "file_extension": ".py",
   "mimetype": "text/x-python",
   "name": "python",
   "nbconvert_exporter": "python",
   "pygments_lexer": "ipython3",
   "version": "3.11.4"
  }
 },
 "nbformat": 4,
 "nbformat_minor": 2
}
