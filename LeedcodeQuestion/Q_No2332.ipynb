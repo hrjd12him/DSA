{
 "cells": [
  {
   "cell_type": "code",
   "execution_count": null,
   "metadata": {},
   "outputs": [],
   "source": [
    "Sx = 3\n",
    "Sy = 1\n",
    "Fx = 7\n",
    "Fy = 3\n",
    "t = 3\n",
    "time = 0\n",
    "while Sx+Sy != Fx+Fy:\n",
    "    if Sx<Fx:\n",
    "        Sx+=1\n",
    "    if Sy<Fy:\n",
    "        Sy+=1\n",
    "    time+=1\n",
    "\n",
    "if time<= t:\n",
    "    print(True)\n",
    "else:\n",
    "    print(False)"
   ]
  }
 ],
 "metadata": {
  "language_info": {
   "name": "python"
  }
 },
 "nbformat": 4,
 "nbformat_minor": 2
}
