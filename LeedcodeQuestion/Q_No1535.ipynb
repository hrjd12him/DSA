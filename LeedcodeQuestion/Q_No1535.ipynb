{
 "cells": [
  {
   "cell_type": "markdown",
   "metadata": {},
   "source": [
    "```1535. Find the Winner of an Array Game\n",
    "\n",
    "Given an integer array arr of distinct integers and an integer k.\n",
    "\n",
    "A game will be played between the first two elements of the array (i.e. arr[0] and arr[1]). In each round of the game, we compare arr[0] with arr[1], the larger integer wins and remains at position 0, and the smaller integer moves to the end of the array. The game ends when an integer wins k consecutive rounds.\n",
    "\n",
    "Return the integer which will win the game.\n",
    "\n",
    "It is guaranteed that there will be a winner of the game.\n",
    "\n",
    " \n",
    "\n",
    "Example 1:\n",
    "\n",
    "Input: arr = [2,1,3,5,4,6,7], k = 2\n",
    "Output: 5\n",
    "Explanation: Let's see the rounds of the game:\n",
    "Round |       arr       | winner | win_count\n",
    "  1   | [2,1,3,5,4,6,7] | 2      | 1\n",
    "  2   | [2,3,5,4,6,7,1] | 3      | 1\n",
    "  3   | [3,5,4,6,7,1,2] | 5      | 1\n",
    "  4   | [5,4,6,7,1,2,3] | 5      | 2\n",
    "So we can see that 4 rounds will be played and 5 is the winner because it wins 2 consecutive games.\n",
    "Example 2:\n",
    "\n",
    "Input: arr = [3,2,1], k = 10\n",
    "Output: 3\n",
    "Explanation: 3 will win the first 10 rounds consecutively.\n",
    "```"
   ]
  },
  {
   "cell_type": "code",
   "execution_count": null,
   "metadata": {},
   "outputs": [],
   "source": []
  }
 ],
 "metadata": {
  "language_info": {
   "name": "python"
  }
 },
 "nbformat": 4,
 "nbformat_minor": 2
}
