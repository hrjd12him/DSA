{
 "cells": [
  {
   "cell_type": "code",
   "execution_count": 14,
   "metadata": {},
   "outputs": [
    {
     "name": "stdout",
     "output_type": "stream",
     "text": [
      "[1, 100, 1000]\n",
      "[1, 2, 1000]\n",
      "[1, 2, 3]\n",
      "3\n"
     ]
    }
   ],
   "source": [
    "arr = [100,1,1000]   \n",
    "arr.sort() #[1,1,2,2,2]\n",
    "arr[0] = 1\n",
    "print(arr)\n",
    "for i in range(1, len(arr)):\n",
    "    if abs(arr[i] - arr[i - 1]) <= 1: #1-1<=1\n",
    "        print(arr)\n",
    "        continue  \n",
    "    else:\n",
    "        arr[i] = arr[i - 1] + 1\n",
    "        print(arr) \n",
    "    \n",
    "\n",
    "print(arr[-1])\n"
   ]
  }
 ],
 "metadata": {
  "kernelspec": {
   "display_name": "Python 3",
   "language": "python",
   "name": "python3"
  },
  "language_info": {
   "codemirror_mode": {
    "name": "ipython",
    "version": 3
   },
   "file_extension": ".py",
   "mimetype": "text/x-python",
   "name": "python",
   "nbconvert_exporter": "python",
   "pygments_lexer": "ipython3",
   "version": "3.11.4"
  }
 },
 "nbformat": 4,
 "nbformat_minor": 2
}
