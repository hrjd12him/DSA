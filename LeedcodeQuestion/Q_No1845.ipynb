{
 "cells": [
  {
   "cell_type": "markdown",
   "metadata": {},
   "source": [
    "1845. Seat Reservation Manager"
   ]
  },
  {
   "cell_type": "markdown",
   "metadata": {},
   "source": [
    "```Design a system that manages the reservation state of n seats that are numbered from 1 to n.\n",
    "\n",
    "Implement the SeatManager class:\n",
    "\n",
    "SeatManager(int n) Initializes a SeatManager object that will manage n seats numbered from 1 to n. All seats are initially available.\n",
    "int reserve() Fetches the smallest-numbered unreserved seat, reserves it, and returns its number.\n",
    "void unreserve(int seatNumber) Unreserves the seat with the given seatNumber.\n",
    " \n",
    "\n",
    "Example 1:\n",
    "\n",
    "Input\n",
    "[\"SeatManager\", \"reserve\", \"reserve\", \"unreserve\", \"reserve\", \"reserve\", \"reserve\", \"reserve\", \"unreserve\"]\n",
    "[[5], [], [], [2], [], [], [], [], [5]]\n",
    "Output\n",
    "[null, 1, 2, null, 2, 3, 4, 5, null]\n",
    "\n",
    "Explanation\n",
    "SeatManager seatManager = new SeatManager(5); // Initializes a SeatManager with 5 seats.\n",
    "seatManager.reserve();    // All seats are available, so return the lowest numbered seat, which is 1.\n",
    "seatManager.reserve();    // The available seats are [2,3,4,5], so return the lowest of them, which is 2.\n",
    "seatManager.unreserve(2); // Unreserve seat 2, so now the available seats are [2,3,4,5].\n",
    "seatManager.reserve();    // The available seats are [2,3,4,5], so return the lowest of them, which is 2.\n",
    "seatManager.reserve();    // The available seats are [3,4,5], so return the lowest of them, which is 3.\n",
    "seatManager.reserve();    // The available seats are [4,5], so return the lowest of them, which is 4.\n",
    "seatManager.reserve();    // The only available seat is seat 5, so return 5.\n",
    "seatManager.unreserve(5); // Unreserve seat 5, so now the available seats are [5].```"
   ]
  },
  {
   "cell_type": "code",
   "execution_count": null,
   "metadata": {},
   "outputs": [],
   "source": [
    "class SeatManager:\n",
    "\n",
    "    def __init__(self, n: int):\n",
    "        self.last = 0\n",
    "        self.pq = []\n",
    "\n",
    "    def reserve(self) -> int:\n",
    "        if not self.pq:\n",
    "            self.last += 1\n",
    "            return self.last\n",
    "        return heapq.heappop(self.pq)\n",
    "\n",
    "    def unreserve(self, seatNumber: int) -> None:\n",
    "        if seatNumber == self.last:\n",
    "            self.last -= 1\n",
    "        else:\n",
    "            heapq.heappush(self.pq, seatNumber)"
   ]
  }
 ],
 "metadata": {
  "language_info": {
   "name": "python"
  }
 },
 "nbformat": 4,
 "nbformat_minor": 2
}
