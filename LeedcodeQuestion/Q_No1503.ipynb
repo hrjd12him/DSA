{
 "cells": [
  {
   "cell_type": "markdown",
   "metadata": {},
   "source": [
    "1503. Last Moment Before All Ants Fall Out of a Plank\n",
    "\n",
    "We have a wooden plank of the length n units. Some ants are walking on the plank, each ant moves with a speed of 1 unit per second. Some of the ants move to the left, the other move to the right.\n",
    "\n",
    "When two ants moving in two different directions meet at some point, they change their directions and continue moving again. Assume changing directions does not take any additional time.\n",
    "\n",
    "When an ant reaches one end of the plank at a time t, it falls out of the plank immediately.\n",
    "\n",
    "Given an integer n and two integer arrays left and right, the positions of the ants moving to the left and the right, return the moment when the last ant(s) fall out of the plank.\n",
    "\n",
    " "
   ]
  },
  {
   "cell_type": "code",
   "execution_count": null,
   "metadata": {},
   "outputs": [],
   "source": [
    "class Solution:\n",
    "    def getLastMoment(self, n: int, left: List[int], right: List[int]) -> int:\n",
    "        time = 0\n",
    "        for pos in left:\n",
    "            time = max(time, pos)\n",
    "        for pos in right:\n",
    "            time = max(time, n - pos)\n",
    "        return time"
   ]
  }
 ],
 "metadata": {
  "language_info": {
   "name": "python"
  }
 },
 "nbformat": 4,
 "nbformat_minor": 2
}
