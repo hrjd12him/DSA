{
 "cells": [
  {
   "cell_type": "markdown",
   "metadata": {},
   "source": [
    "```plaintext\n",
    "1160. Find Words That Can Be Formed by Characters\n",
    "\n",
    "You are given an array of strings words and a string chars.\n",
    "\n",
    "A string is good if it can be formed by characters from chars (each character can only be used once).\n",
    "\n",
    "Return the sum of lengths of all good strings in words.\n",
    "\n",
    "Example 1:\n",
    "\n",
    "Input: words = [\"cat\",\"bt\",\"hat\",\"tree\"], chars = \"atach\"\n",
    "Output: 6\n",
    "Explanation: The strings that can be formed are \"cat\" and \"hat\" so the answer is 3 + 3 = 6.\n",
    "Example 2:\n",
    "\n",
    "Input: words = [\"hello\",\"world\",\"leetcode\"], chars = \"welldonehoneyr\"\n",
    "Output: 10\n",
    "Explanation: The strings that can be formed are \"hello\" and \"world\" so the answer is 5 + 5 = 10.\n",
    "```"
   ]
  },
  {
   "cell_type": "code",
   "execution_count": null,
   "metadata": {},
   "outputs": [],
   "source": [
    "class Solution:\n",
    "    def countCharacters(self, words: List[str], chars: str) -> int:\n",
    "        charsMap = {}\n",
    "        result = 0\n",
    "        for char in chars:\n",
    "            if char not in charsMap:\n",
    "                charsMap[char] = 1\n",
    "            else:\n",
    "                charsMap[char] += 1\n",
    "        \n",
    "        for word in words:\n",
    "            charsMapCopy = charsMap.copy()\n",
    "            end = True\n",
    "            for char in word:\n",
    "                if char in charsMapCopy and charsMapCopy[char] > 0:\n",
    "                    charsMapCopy[char] -= 1\n",
    "                else:\n",
    "                    end = False\n",
    "                    break\n",
    "            if end:\n",
    "                result += len(word)\n",
    "\n",
    "        return result"
   ]
  }
 ],
 "metadata": {
  "language_info": {
   "name": "python"
  }
 },
 "nbformat": 4,
 "nbformat_minor": 2
}
