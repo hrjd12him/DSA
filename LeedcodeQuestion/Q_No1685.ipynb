{
 "cells": [
  {
   "cell_type": "markdown",
   "metadata": {},
   "source": [
    "```\n",
    "1685. Sum of Absolute Differences in a Sorted Array\n",
    "\n",
    "You are given an integer array nums sorted in non-decreasing order.\n",
    "\n",
    "Build and return an integer array result with the same length as nums such that result[i] is equal to the summation of absolute differences between nums[i] and all the other elements in the array.\n",
    "\n",
    "In other words, result[i] is equal to sum(|nums[i]-nums[j]|) where 0 <= j < nums.length and j != i (0-indexed).\n",
    "\n",
    "Example 1:\n",
    "\n",
    "Input: nums = [2,3,5]\n",
    "Output: [4,3,5]\n",
    "Explanation: Assuming the arrays are 0-indexed, then\n",
    "result[0] = |2-2| + |2-3| + |2-5| = 0 + 1 + 3 = 4,\n",
    "result[1] = |3-2| + |3-3| + |3-5| = 1 + 0 + 2 = 3,\n",
    "result[2] = |5-2| + |5-3| + |5-5| = 3 + 2 + 0 = 5.\n",
    "Example 2:\n",
    "\n",
    "Input: nums = [1,4,6,8,10]\n",
    "Output: [24,15,13,15,21]\n",
    "```\n",
    "\n",
    "Constraints:\n",
    "\n",
    "* 2 <= nums.length <= 105\n",
    "* 1 <= nums[i] <= nums[i + 1] <= 104"
   ]
  },
  {
   "cell_type": "code",
   "execution_count": 5,
   "metadata": {},
   "outputs": [
    {
     "name": "stdout",
     "output_type": "stream",
     "text": [
      "[24, 15, 13, 15, 21]\n"
     ]
    }
   ],
   "source": [
    "def getSumAbsoluteDifferences(nums):\n",
    "    result = []\n",
    "    i = 0\n",
    "    while i<len(nums):\n",
    "        sum = 0\n",
    "        for j in range(len(nums)):\n",
    "            sum+=abs(nums[i]-nums[j])\n",
    "        result.append(sum)\n",
    "        i+=1\n",
    "\n",
    "    return result\n",
    "\n",
    "\n",
    "nums = [1,4,6,8,10]\n",
    "ans = getSumAbsoluteDifferences(nums)\n",
    "print(ans)"
   ]
  },
  {
   "cell_type": "code",
   "execution_count": null,
   "metadata": {},
   "outputs": [],
   "source": [
    "class Solution:\n",
    "    def getSumAbsoluteDifferences(self, nums: List[int]) -> List[int]:\n",
    "        n=len(nums)\n",
    "        A=0\n",
    "        B=sum(nums)\n",
    "        ans=[0]*n\n",
    "\n",
    "        for i, x in enumerate(nums):\n",
    "            ans[i]=(2*i-n)*x+B-A\n",
    "            A+=x\n",
    "            B-=x\n",
    "        return ans"
   ]
  }
 ],
 "metadata": {
  "kernelspec": {
   "display_name": "Python 3",
   "language": "python",
   "name": "python3"
  },
  "language_info": {
   "codemirror_mode": {
    "name": "ipython",
    "version": 3
   },
   "file_extension": ".py",
   "mimetype": "text/x-python",
   "name": "python",
   "nbconvert_exporter": "python",
   "pygments_lexer": "ipython3",
   "version": "3.11.4"
  }
 },
 "nbformat": 4,
 "nbformat_minor": 2
}
