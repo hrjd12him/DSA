{
 "cells": [
  {
   "cell_type": "markdown",
   "metadata": {},
   "source": [
    "```plaintext\n",
    "1266. Minimum Time Visiting All Points\n",
    "\n",
    "On a 2D plane, there are n points with integer coordinates points[i] = [xi, yi]. Return the minimum time in seconds to visit all the points in the order given by points.\n",
    "\n",
    "You can move according to these rules:\n",
    "\n",
    "In 1 second, you can either:\n",
    "move vertically by one unit,\n",
    "move horizontally by one unit, or\n",
    "move diagonally sqrt(2) units (in other words, move one unit vertically then one unit horizontally in 1 second).\n",
    "You have to visit the points in the same order as they appear in the array.\n",
    "You are allowed to pass through points that appear later in the order, but these do not count as visits.\n",
    "\n",
    "Input: points = [[1,1],[3,4],[-1,0]]\n",
    "Output: 7\n",
    "Explanation: One optimal path is [1,1] -> [2,2] -> [3,3] -> [3,4] -> [2,3] -> [1,2] -> [0,1] -> [-1,0]   \n",
    "Time from [1,1] to [3,4] = 3 seconds \n",
    "Time from [3,4] to [-1,0] = 4 seconds\n",
    "Total time = 7 seconds\n",
    "Example 2:\n",
    "\n",
    "Input: points = [[3,2],[-2,2]]\n",
    "Output: 5\n",
    "```"
   ]
  },
  {
   "cell_type": "code",
   "execution_count": 11,
   "metadata": {},
   "outputs": [
    {
     "name": "stdout",
     "output_type": "stream",
     "text": [
      "5\n"
     ]
    }
   ],
   "source": [
    "def minTimeToVisitAllPoints(points):\n",
    "    count = 0\n",
    "    for i in range(len(points)-1):\n",
    "        x1, y1 = points[i]\n",
    "        x2, y2 = points[i+1]\n",
    "        while x1 != x2 or y1 != y2:  # Use \"or\" instead of \"and\"\n",
    "            if x1 < x2 and y1 < y2:\n",
    "                x1 += 1\n",
    "                y1 += 1\n",
    "                count += 1\n",
    "            elif x1 < x2:\n",
    "                x1 += 1\n",
    "                count += 1\n",
    "            elif y1 < y2:\n",
    "                y1 += 1\n",
    "                count += 1\n",
    "            elif x1 > x2 and y1 > y2:\n",
    "                x1 -= 1\n",
    "                y1 -= 1\n",
    "                count += 1\n",
    "            elif x1 > x2:\n",
    "                x1 -= 1\n",
    "                count += 1\n",
    "            elif y1 > y2:\n",
    "                y1 -= 1\n",
    "                count += 1\n",
    "\n",
    "    return count\n",
    "\n",
    "points = [[3,2],[-2,2]]\n",
    "print(minTimeToVisitAllPoints(points))\n"
   ]
  },
  {
   "cell_type": "code",
   "execution_count": 6,
   "metadata": {},
   "outputs": [
    {
     "name": "stdout",
     "output_type": "stream",
     "text": [
      "7\n",
      "5\n"
     ]
    }
   ],
   "source": [
    "class Solution:\n",
    "    def minTimeToVisitAllPoints(self, points: List[List[int]]) -> int:\n",
    "        n = len(points)\n",
    "        t = 0\n",
    "        for i in range(1, n):\n",
    "            p1x, p1y = points[i-1]\n",
    "            p2x, p2y = points[i]\n",
    "            t += max(abs(p2y - p1y), abs(p2x - p1x))\n",
    "        return t\n"
   ]
  }
 ],
 "metadata": {
  "kernelspec": {
   "display_name": "Python 3",
   "language": "python",
   "name": "python3"
  },
  "language_info": {
   "codemirror_mode": {
    "name": "ipython",
    "version": 3
   },
   "file_extension": ".py",
   "mimetype": "text/x-python",
   "name": "python",
   "nbconvert_exporter": "python",
   "pygments_lexer": "ipython3",
   "version": "3.11.4"
  }
 },
 "nbformat": 4,
 "nbformat_minor": 2
}
