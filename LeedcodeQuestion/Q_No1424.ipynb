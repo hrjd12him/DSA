{
 "cells": [
  {
   "cell_type": "markdown",
   "metadata": {},
   "source": [
    "```\n",
    "Given a 2D integer array nums, return all elements of nums in diagonal order as shown in the below images.\n",
    "\n",
    "Example 1:\n",
    "\n",
    "Input: nums = [[1,2,3],[4,5,6],[7,8,9]]\n",
    "Output: [1,4,2,7,5,3,8,6,9]\n",
    "Example 2:\n",
    "\n",
    "Input: nums = [[1,2,3,4,5],[6,7],[8],[9,10,11],[12,13,14,15,16]]\n",
    "Output: [1,6,2,8,7,3,9,4,12,10,5,13,11,14,15,16]\n",
    "```"
   ]
  },
  {
   "cell_type": "code",
   "execution_count": null,
   "metadata": {},
   "outputs": [],
   "source": [
    "class Solution:\n",
    "    def findDiagonalOrder(self, A: List[List[int]]) -> List[int]:\n",
    "        d = defaultdict(list)\n",
    "        for i in range(len(A)):\n",
    "            for j in range(len(A[i])):\n",
    "                d[i+j].append(A[i][j])\n",
    "        return [v for k in d.keys() for v in reversed(d[k])]"
   ]
  }
 ],
 "metadata": {
  "kernelspec": {
   "display_name": "Python 3",
   "language": "python",
   "name": "python3"
  },
  "language_info": {
   "codemirror_mode": {
    "name": "ipython",
    "version": 3
   },
   "file_extension": ".py",
   "mimetype": "text/x-python",
   "name": "python",
   "nbconvert_exporter": "python",
   "pygments_lexer": "ipython3",
   "version": "3.11.4"
  }
 },
 "nbformat": 4,
 "nbformat_minor": 2
}
