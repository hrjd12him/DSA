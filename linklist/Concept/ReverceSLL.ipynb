{
 "cells": [
  {
   "cell_type": "markdown",
   "metadata": {},
   "source": [
    "# Reverse are LinkedList with iterative method"
   ]
  },
  {
   "cell_type": "code",
   "execution_count": 1,
   "metadata": {},
   "outputs": [
    {
     "name": "stdout",
     "output_type": "stream",
     "text": [
      "1->2->3->4->5->None\n",
      "5->4->3->2->1->None\n"
     ]
    }
   ],
   "source": [
    "class node():\n",
    "    def __init__(self,data):\n",
    "        self.data = data\n",
    "        self.next = None\n",
    "\n",
    "def printlist(head):\n",
    "    while head is not None:\n",
    "        print(str(head.data)+\"->\",end=\"\")\n",
    "        head=head.next\n",
    "    print(\"None\")\n",
    "\n",
    "def reversedSLL(head):\n",
    "    if head is None or head.next is None:\n",
    "        return head\n",
    "\n",
    "    smallhead = reversedSLL(head.next)\n",
    "    curr = smallhead\n",
    "    while curr.next is not None:\n",
    "        curr = curr.next\n",
    "    curr.next = head\n",
    "    head.next =  None\n",
    "    return smallhead\n",
    "\n",
    "def takeinput():\n",
    "    head = None\n",
    "    tail = None\n",
    "    inputlist = [int(ele) for ele in input().split()]\n",
    "\n",
    "    for eleinput in inputlist:\n",
    "        if eleinput == -1:\n",
    "            break\n",
    "\n",
    "        newnode = node(eleinput)\n",
    "        if head is None:\n",
    "            head = newnode\n",
    "            tail = newnode\n",
    "        else:\n",
    "            tail.next = newnode\n",
    "            tail = newnode\n",
    "    return head\n",
    "\n",
    "head= takeinput()\n",
    "printlist(head)\n",
    "head = reversedSLL(head)\n",
    "printlist(head)\n"
   ]
  },
  {
   "cell_type": "markdown",
   "metadata": {},
   "source": [
    "# Reverse are LinkedList with recursion"
   ]
  },
  {
   "cell_type": "code",
   "execution_count": 1,
   "metadata": {},
   "outputs": [
    {
     "name": "stdout",
     "output_type": "stream",
     "text": [
      "1->2->3->4->5->None\n",
      "5->4->3->2->1->None\n"
     ]
    }
   ],
   "source": [
    "class node():\n",
    "    def __init__(self,data):\n",
    "        self.data = data\n",
    "        self.next = None\n",
    "\n",
    "def reverselist(head):\n",
    "    if head is None or head.next is None:\n",
    "        return head\n",
    "\n",
    "    smallhead,smalltail = reverselist(head.next),reverselist(head.next)\n",
    "    smalltail.next = head\n",
    "    head.next = None\n",
    "    return smallhead\n",
    "\n",
    "def printlist(head):\n",
    "    while head is not None:\n",
    "        print(str(head.data)+\"->\",end=\"\")\n",
    "        head = head.next\n",
    "    print(\"None\")\n",
    "\n",
    "def takeinput():\n",
    "    head = None\n",
    "    tail = None\n",
    "    inputlist = [int(ele) for ele in input().split()]\n",
    "    for ele in inputlist:\n",
    "        if ele == -1:\n",
    "            break\n",
    "\n",
    "        newnode = node(ele)\n",
    "        if head is None:\n",
    "            head = newnode\n",
    "            tail = newnode\n",
    "        else:\n",
    "            tail.next = newnode\n",
    "            tail = newnode\n",
    "    return head\n",
    "\n",
    "head = takeinput()\n",
    "printlist(head)\n",
    "head = reverselist(head)\n",
    "printlist(head)"
   ]
  }
 ],
 "metadata": {
  "kernelspec": {
   "display_name": "Python 3",
   "language": "python",
   "name": "python3"
  },
  "language_info": {
   "codemirror_mode": {
    "name": "ipython",
    "version": 3
   },
   "file_extension": ".py",
   "mimetype": "text/x-python",
   "name": "python",
   "nbconvert_exporter": "python",
   "pygments_lexer": "ipython3",
   "version": "3.11.4"
  },
  "orig_nbformat": 4
 },
 "nbformat": 4,
 "nbformat_minor": 2
}
