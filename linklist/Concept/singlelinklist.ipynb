{
 "cells": [
  {
   "cell_type": "code",
   "execution_count": 1,
   "metadata": {},
   "outputs": [
    {
     "name": "stdout",
     "output_type": "stream",
     "text": [
      "10->19->19->19->None\n"
     ]
    }
   ],
   "source": [
    "class node:\n",
    "    def __init__(self,data):\n",
    "        self.data = data\n",
    "        self.next = None\n",
    "\n",
    "\n",
    "    def printll(head):\n",
    "        while head is not None:\n",
    "            print(str(head.data)+\"->\",end=\"\")\n",
    "            head = head.next\n",
    "        print(\"None\")\n",
    "\n",
    "n1 = node(10)\n",
    "n2 = node(19)\n",
    "n3 = node(19)\n",
    "n4 = node(19)\n",
    "\n",
    "n1.next = n2\n",
    "n1.next.next = n3\n",
    "n1.next.next.next = n4\n",
    "node.printll(n1)"
   ]
  },
  {
   "cell_type": "markdown",
   "metadata": {},
   "source": [
    "# Linked list\n",
    "\n",
    "1. Write a code to take input from a user\n",
    "2. and print are link list"
   ]
  },
  {
   "cell_type": "code",
   "execution_count": 1,
   "metadata": {},
   "outputs": [
    {
     "name": "stdout",
     "output_type": "stream",
     "text": [
      "1->2->3->4->5->None\n"
     ]
    }
   ],
   "source": [
    "class node():\n",
    "    def __init__(self,data):\n",
    "        self.data = data\n",
    "        self.next = None\n",
    "\n",
    "def printll(head):\n",
    "    while head is not None:\n",
    "        print(str(head.data)+\"->\",end=\"\")\n",
    "        head = head.next\n",
    "    print(\"None\")\n",
    "\n",
    "def takeinput():\n",
    "    head= None\n",
    "    tail = None\n",
    "    inputlist = [int(ele) for ele in input(\"Enter are data: \").split()]\n",
    "\n",
    "    for currvalue in inputlist:\n",
    "        if currvalue == -1:\n",
    "            break\n",
    "\n",
    "        newnode = node(currvalue)\n",
    "        if head is None:\n",
    "            head = newnode\n",
    "            tail = newnode\n",
    "        else:\n",
    "            tail.next = newnode\n",
    "            tail = newnode\n",
    "\n",
    "    return head\n",
    "\n",
    "head = takeinput()\n",
    "printll(head)\n"
   ]
  },
  {
   "cell_type": "markdown",
   "metadata": {},
   "source": [
    "# WAP to know the length of are linked list"
   ]
  },
  {
   "cell_type": "code",
   "execution_count": 11,
   "metadata": {},
   "outputs": [
    {
     "name": "stdout",
     "output_type": "stream",
     "text": [
      "Length of are given linked list:  5\n"
     ]
    }
   ],
   "source": [
    "def lengthll(head):\n",
    "    count = 0\n",
    "    while head is not None:\n",
    "        count+=1\n",
    "        head = head.next\n",
    "    return count\n",
    "\n",
    "lll = lengthll(head)\n",
    "print(\"Length of are given linked list: \",lll)"
   ]
  },
  {
   "cell_type": "markdown",
   "metadata": {},
   "source": [
    "# WAP to print data of the given ith position  "
   ]
  },
  {
   "cell_type": "code",
   "execution_count": 12,
   "metadata": {},
   "outputs": [
    {
     "name": "stdout",
     "output_type": "stream",
     "text": [
      "4\n"
     ]
    }
   ],
   "source": [
    "def ith(head,i):\n",
    "    if i<0 and i>lengthll(head):\n",
    "        return head\n",
    "\n",
    "    count = 0\n",
    "    while count<i:\n",
    "        count+=1\n",
    "        head = head.next\n",
    "    print(head.data)\n",
    "\n",
    "i = int(input(\"Enter the index value: \"))\n",
    "ith(head,i)\n",
    "    \n"
   ]
  },
  {
   "cell_type": "markdown",
   "metadata": {},
   "source": [
    "# insert a node in a given index position"
   ]
  },
  {
   "cell_type": "code",
   "execution_count": 13,
   "metadata": {},
   "outputs": [
    {
     "name": "stdout",
     "output_type": "stream",
     "text": [
      "1->23->2->3->4->5->None\n"
     ]
    }
   ],
   "source": [
    "# insert a node in a given index position\n",
    "def insertll(head,data,i):\n",
    "     \n",
    "    if i<0 or i>lengthll(head):\n",
    "        return head\n",
    "    count = 0\n",
    "    prev = None\n",
    "    curr = head\n",
    "    while count<i:\n",
    "        prev = curr\n",
    "        curr = curr.next\n",
    "        count+=1\n",
    "\n",
    "    newnode = node(data)\n",
    "    if prev is not None:\n",
    "        prev.next = newnode\n",
    "    else:\n",
    "        head = newnode\n",
    "    newnode.next = curr\n",
    "\n",
    "    return head \n",
    "    \n",
    "data = int(input(\"Enter a data to be inserted: \"))\n",
    "I = int(input(\"Enter the ith position at which data to be inserted: \"))\n",
    "\n",
    "insertll(head,data,I)\n",
    "printll(head)"
   ]
  },
  {
   "cell_type": "markdown",
   "metadata": {},
   "source": [
    "# Delete a node at ith position "
   ]
  },
  {
   "cell_type": "code",
   "execution_count": 15,
   "metadata": {},
   "outputs": [
    {
     "name": "stdout",
     "output_type": "stream",
     "text": [
      "1->None\n"
     ]
    }
   ],
   "source": [
    "def deletll(head,Ii):\n",
    "    if Ii < 0 or Ii >= lengthll(head):\n",
    "        return head\n",
    "\n",
    "    if Ii == 0:\n",
    "        new_head = head.next\n",
    "        head.next = None\n",
    "        return new_head\n",
    "\n",
    "    count = 0\n",
    "    current = head\n",
    "    while count < Ii - 1:\n",
    "        current = current.next\n",
    "        count += 1\n",
    "\n",
    "    if current.next:\n",
    "        current.next = current.next.next\n",
    "\n",
    "    return head\n",
    "\n",
    "Ii = int(input(\"Enter a ith index of which data is to be deleted: \"))\n",
    "deletll(head,Ii)\n",
    "printll(head)"
   ]
  },
  {
   "cell_type": "markdown",
   "metadata": {},
   "source": [
    "# Revese a linked list\n"
   ]
  },
  {
   "cell_type": "code",
   "execution_count": 1,
   "metadata": {},
   "outputs": [
    {
     "name": "stdout",
     "output_type": "stream",
     "text": [
      "1->2->3->4->5->None\n",
      "1->None\n"
     ]
    }
   ],
   "source": [
    "class node():\n",
    "    def __init__(self,data):\n",
    "        self.data = data\n",
    "        self.next = None\n",
    "\n",
    "def reverseLL(head):\n",
    "    if head is None or head.next is None:\n",
    "        return head\n",
    "    \n",
    "    newhead = reverseLL(head.next)\n",
    "    curr = newhead\n",
    "    while curr.next is not None:\n",
    "        curr = curr.next\n",
    "    curr.next = head\n",
    "    head.next = None\n",
    "    return newhead\n",
    "\n",
    "def printLL(head):\n",
    "    while head is not None:\n",
    "        print(str(head.data)+\"->\",end=\"\")\n",
    "        head = head.next\n",
    "    print(\"None\")\n",
    "\n",
    "\n",
    "def takeinput():\n",
    "    head = None\n",
    "    tail = None\n",
    "    inputlist = [int(ele) for ele in input(\"Enter the data: \").split()]\n",
    "\n",
    "    for elelist in inputlist:\n",
    "        if elelist == -1:\n",
    "            break\n",
    "\n",
    "        newnode = node(elelist)\n",
    "        if head is None:\n",
    "            head = newnode\n",
    "            tail = newnode\n",
    "        else:\n",
    "            tail.next = newnode\n",
    "            tail = newnode\n",
    "\n",
    "    return head\n",
    "    \n",
    "head = takeinput()\n",
    "printLL(head)\n",
    "newhead = reverseLL(head)\n",
    "printLL(head)"
   ]
  },
  {
   "cell_type": "code",
   "execution_count": null,
   "metadata": {},
   "outputs": [],
   "source": [
    "# Reverce a linked list\n",
    "def reverse2(head):\n",
    "    if head is None or head.next is None:\n",
    "        return head\n",
    "    \n",
    "    smallhead,smalltail =reverse2(head.next)\n",
    "    smalltail.next = head\n",
    "    head.next = None\n",
    "    return smallhead\n",
    "\n",
    "head,tail =reverse2(head)\n",
    "printLL(head)  "
   ]
  }
 ],
 "metadata": {
  "kernelspec": {
   "display_name": "Python 3",
   "language": "python",
   "name": "python3"
  },
  "language_info": {
   "codemirror_mode": {
    "name": "ipython",
    "version": 3
   },
   "file_extension": ".py",
   "mimetype": "text/x-python",
   "name": "python",
   "nbconvert_exporter": "python",
   "pygments_lexer": "ipython3",
   "version": "3.11.4"
  },
  "orig_nbformat": 4
 },
 "nbformat": 4,
 "nbformat_minor": 2
}
