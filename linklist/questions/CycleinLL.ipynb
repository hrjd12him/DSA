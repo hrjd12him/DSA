{
 "cells": [
  {
   "cell_type": "code",
   "execution_count": 1,
   "metadata": {},
   "outputs": [
    {
     "name": "stdout",
     "output_type": "stream",
     "text": [
      "False\n"
     ]
    }
   ],
   "source": [
    "class Node:\n",
    "    def __init__(self,data):\n",
    "        self.data = data\n",
    "        self.next = None\n",
    "        \n",
    "def printll(head):\n",
    "    while head is not None:\n",
    "        print(head.data,end='->')\n",
    "        head = head.next\n",
    "    print(None)\n",
    "\n",
    "def iscycleLL(head):\n",
    "    if head is None or head.next is None:\n",
    "        return head\n",
    "    \n",
    "    slow = head\n",
    "    fast = head.next\n",
    "    while slow!=fast:\n",
    "        if not fast or not fast.next:\n",
    "            return False\n",
    "        slow = slow.next\n",
    "        fast = fast.next.next\n",
    "    return True\n",
    "\n",
    "def takeinput():\n",
    "    head = None\n",
    "    tail = None\n",
    "\n",
    "    inputlist = [int(ele) for ele in input().split()]\n",
    "    for currele in inputlist:\n",
    "        if currele == -1:\n",
    "            break\n",
    "\n",
    "        newnode = Node(currele)\n",
    "        if head is None:\n",
    "            head = newnode\n",
    "            tail = newnode\n",
    "        else:\n",
    "            tail.next = newnode\n",
    "            tail = newnode\n",
    "    return head\n",
    "\n",
    "head = takeinput()\n",
    "print(iscycleLL(head))"
   ]
  },
  {
   "cell_type": "code",
   "execution_count": 4,
   "metadata": {},
   "outputs": [
    {
     "name": "stdout",
     "output_type": "stream",
     "text": [
      "1->3->5->2->4->6->None\n"
     ]
    }
   ],
   "source": [
    "def oddEvenList(head):        \n",
    "    oddlisthead,oddlisttail = None,None\n",
    "    evenlisthead,evenlisttail = None,None\n",
    "    count = 1\n",
    "    \n",
    "    while head is not None:\n",
    "        if count%2 != 0:\n",
    "            newnode = Node(head.data)\n",
    "            if oddlisthead is None:\n",
    "                oddlisthead = newnode\n",
    "                oddlisttail = newnode\n",
    "            else:\n",
    "                oddlisttail.next = newnode\n",
    "                oddlisttail = oddlisttail.next\n",
    "        else:\n",
    "            newnode = Node(head.data)\n",
    "            if evenlisthead is None:\n",
    "                evenlisthead = newnode\n",
    "                evenlisttail = newnode\n",
    "            else:\n",
    "                evenlisttail.next = newnode\n",
    "                evenlisttail = evenlisttail.next\n",
    "        head = head.next\n",
    "        count+=1\n",
    "\n",
    "    oddlisttail.next = evenlisthead\n",
    "    return oddlisthead\n",
    "\n",
    "head = takeinput()\n",
    "result = oddEvenList(head)\n",
    "printll(result)"
   ]
  },
  {
   "cell_type": "code",
   "execution_count": null,
   "metadata": {},
   "outputs": [],
   "source": []
  }
 ],
 "metadata": {
  "kernelspec": {
   "display_name": "Python 3",
   "language": "python",
   "name": "python3"
  },
  "language_info": {
   "codemirror_mode": {
    "name": "ipython",
    "version": 3
   },
   "file_extension": ".py",
   "mimetype": "text/x-python",
   "name": "python",
   "nbconvert_exporter": "python",
   "pygments_lexer": "ipython3",
   "version": "3.11.4"
  }
 },
 "nbformat": 4,
 "nbformat_minor": 2
}
