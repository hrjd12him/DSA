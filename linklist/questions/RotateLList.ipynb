{
 "cells": [
  {
   "cell_type": "code",
   "execution_count": 2,
   "metadata": {},
   "outputs": [
    {
     "name": "stdout",
     "output_type": "stream",
     "text": [
      "1->2->3->4->5->None\n",
      "Enter no of rotation you need: \n",
      "4->5->1->2->3->None\n"
     ]
    }
   ],
   "source": [
    "class Node:\n",
    "    def __init__(self,data):\n",
    "        self.data = data\n",
    "        self.next = None\n",
    "\n",
    "def rotateRight(head, k):\n",
    "    if not head or k == 0:\n",
    "        return head\n",
    "\n",
    "    # Find the length of the linked list\n",
    "    length = 1\n",
    "    tail = head\n",
    "    while tail.next:\n",
    "        tail = tail.next\n",
    "        length += 1\n",
    "\n",
    "    # Adjust the rotation value\n",
    "    k = k % length\n",
    "\n",
    "    # If k is 0, no need to rotate\n",
    "    if k == 0:\n",
    "        return head\n",
    "\n",
    "    # Find the new tail and break the list\n",
    "    temp = head\n",
    "    for _ in range(length - k - 1):\n",
    "        temp = temp.next\n",
    "\n",
    "    new_tail = temp\n",
    "    new_head = temp.next\n",
    "    new_tail.next = None\n",
    "\n",
    "    # Update the head\n",
    "    tail.next = head\n",
    "\n",
    "    return new_head\n",
    "\n",
    "        \n",
    "def printLL(head):\n",
    "    while head is not  None:\n",
    "        print(head.data,end=\"->\")\n",
    "        head = head.next\n",
    "\n",
    "    print(None)\n",
    "\n",
    "def takeinput():\n",
    "    head = None\n",
    "    tail = None\n",
    "    inputlist = [int(ele) for ele in input().split()]\n",
    "\n",
    "    for currele in inputlist:\n",
    "        if currele == -1:\n",
    "            break\n",
    "\n",
    "        newnode = Node(currele)\n",
    "        if head is None:\n",
    "            head = newnode\n",
    "            tail = newnode\n",
    "        else:\n",
    "            tail.next = newnode\n",
    "            tail = tail.next\n",
    "    return head\n",
    "\n",
    "\n",
    "head = takeinput()\n",
    "printLL(head)\n",
    "print(\"Enter no of rotation you need: \")\n",
    "n = int(input())\n",
    "printLL(rotateRight(head,n))"
   ]
  },
  {
   "cell_type": "code",
   "execution_count": null,
   "metadata": {},
   "outputs": [],
   "source": [
    "def breakPalindrome(palindromeStr):\n",
    "    palindromeList = list(palindromeStr)\n",
    "    \n",
    "    for i in range(len(palindromeList) // 2):\n",
    "     \n",
    "        if palindromeList[i] != 'a':\n",
    "            palindromeList[i] = 'a'\n",
    "            return ''.join(palindromeList)\n",
    "    \n",
    "    if len(palindromeList) > 1:\n",
    "        palindromeList[-1] = 'b'\n",
    "        return ''.join(palindromeList)\n",
    "\n",
    "    return \"IMPOSSIBLE\"\n",
    "\n",
    "palindromeStr = 'aaabbaaa'\n",
    "result = breakPalindrome(palindromeStr)\n",
    "print(result)\n"
   ]
  }
 ],
 "metadata": {
  "kernelspec": {
   "display_name": "Python 3",
   "language": "python",
   "name": "python3"
  },
  "language_info": {
   "codemirror_mode": {
    "name": "ipython",
    "version": 3
   },
   "file_extension": ".py",
   "mimetype": "text/x-python",
   "name": "python",
   "nbconvert_exporter": "python",
   "pygments_lexer": "ipython3",
   "version": "3.11.4"
  }
 },
 "nbformat": 4,
 "nbformat_minor": 2
}
