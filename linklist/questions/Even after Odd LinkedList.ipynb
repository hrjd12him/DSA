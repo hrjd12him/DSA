{
 "cells": [
  {
   "cell_type": "markdown",
   "metadata": {},
   "source": [
    "# Even after Odd LinkedList\n",
    "\n",
    "For a given singly linked list of integers, arrange the elements such that all the even numbers are placed after the odd numbers. The relative order of the odd and even terms should remain unchanged."
   ]
  },
  {
   "cell_type": "code",
   "execution_count": 3,
   "metadata": {},
   "outputs": [
    {
     "name": "stdout",
     "output_type": "stream",
     "text": [
      "1->2->3->4->5->None\n",
      "5->4->3->2->1->None\n"
     ]
    }
   ],
   "source": [
    "class node():\n",
    "    def __init__(self,data):\n",
    "        self.data = data\n",
    "        self.next = None\n",
    "\n",
    "def printlist(head):\n",
    "    while head is not None:\n",
    "        print(str(head.data)+\"->\",end=\"\")\n",
    "        head = head.next\n",
    "    print(\"None\")\n",
    "\n",
    "def evenodd(head):\n",
    "    pass\n",
    "\n",
    "def reverseLL(head):\n",
    "    while head is None or head.next is None:\n",
    "        return head \n",
    "    \n",
    "    newhead,newtail = reverseLL(head.next),reverseLL(head.next)\n",
    "    newtail.next = head\n",
    "    head.next = None\n",
    "    return newhead\n",
    "\n",
    "def takeinput():\n",
    "    head = None\n",
    "    tail = None\n",
    "    inputlist = [int(ele) for ele in input().split()]\n",
    "    \n",
    "    for ele in inputlist:\n",
    "        if inputlist == -1:\n",
    "            break\n",
    "\n",
    "        newnode = node(ele)\n",
    "        if head is None:\n",
    "            head = newnode\n",
    "            tail = newnode\n",
    "        else:\n",
    "            tail.next = newnode\n",
    "            tail = newnode\n",
    "    return head\n",
    "\n",
    "head = takeinput()\n",
    "printlist(head)\n",
    "head = reverseLL(head)\n",
    "printlist(head)\n"
   ]
  }
 ],
 "metadata": {
  "kernelspec": {
   "display_name": "Python 3",
   "language": "python",
   "name": "python3"
  },
  "language_info": {
   "codemirror_mode": {
    "name": "ipython",
    "version": 3
   },
   "file_extension": ".py",
   "mimetype": "text/x-python",
   "name": "python",
   "nbconvert_exporter": "python",
   "pygments_lexer": "ipython3",
   "version": "3.11.4"
  },
  "orig_nbformat": 4
 },
 "nbformat": 4,
 "nbformat_minor": 2
}
