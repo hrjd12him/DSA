{
 "cells": [
  {
   "cell_type": "markdown",
   "metadata": {},
   "source": [
    "# Find a Node in Linked List\n",
    "#\n",
    "You have been given a singly linked list of integers. Write a function that returns the index/position of an integer data denoted by 'N' (if it exists). Return -1 otherwise."
   ]
  },
  {
   "cell_type": "markdown",
   "metadata": {},
   "source": [
    "# AppendLastNToFirst\n",
    "\n",
    "You have been given a singly linked list of integers along with an integer 'N'. Write a function to append the last 'N' nodes towards the front of the singly linked list and returns the new head to the list."
   ]
  },
  {
   "cell_type": "markdown",
   "metadata": {},
   "source": [
    "# Eliminate duplicates from LL\n",
    "\n",
    "You have been given a singly linked list of integers where the elements are sorted in ascending order. Write a function that removes the consecutive duplicate values such that the given list only contains unique elements and returns the head to the updated list."
   ]
  },
  {
   "cell_type": "markdown",
   "metadata": {},
   "source": [
    "# Print Reverse LinkedList\n",
    "\n",
    "You have been given a singly linked list of integers. Write a function to print the list in a reverse order.\n",
    "To explain it further, you need to start printing the data from the tail and move towards the head of the list, printing the head data at the end."
   ]
  },
  {
   "cell_type": "markdown",
   "metadata": {},
   "source": [
    "# Palindrome LinkedList\n",
    "\n",
    "You have been given a head to a singly linked list of integers. Write a function check to whether the list given is a 'Palindrome' or not."
   ]
  },
  {
   "cell_type": "markdown",
   "metadata": {},
   "source": [
    "# Merge Two Sorted LL\n",
    "\n",
    "You have been given two sorted(in ascending order) singly linked lists of integers.\n",
    "Write a function to merge them in such a way that the resulting singly linked list is also sorted(in ascending order) and return the new head to the list."
   ]
  },
  {
   "cell_type": "markdown",
   "metadata": {},
   "source": [
    "# Merge Sort\n",
    "\n",
    "Given a singly linked list of integers, sort it using 'Merge Sort.'"
   ]
  },
  {
   "cell_type": "code",
   "execution_count": null,
   "metadata": {},
   "outputs": [],
   "source": [
    "class Node:\n",
    "    def __init__(self,data):\n",
    "        self.data = data\n",
    "        self.next = None\n",
    "\n",
    "def printLL(head):\n",
    "    while head is not None:\n",
    "        print(head.data,end='->')\n",
    "        head = head.next\n",
    "    print(None)\n",
    "\n",
    "def takeinput():\n",
    "    head = None\n",
    "    tail = None\n",
    "\n",
    "    inputlist = [int(ele) for ele in input().split()]\n",
    "    for curr in inputlist:\n",
    "        if curr == -1:\n",
    "            break\n",
    "\n",
    "        newnode = Node(curr)\n",
    "        if head is None:\n",
    "            head =newnode\n",
    "            tail = newnode\n",
    "        else:\n",
    "            tail.next = newnode\n",
    "            tail = tail.next\n",
    "\n",
    "    return head\n",
    "\n",
    "def merge_sort(head):\n",
    "    if not head or not head.next:\n",
    "        return head\n",
    "    \n",
    "    # Split the linked list into halves\n",
    "    mid = find_middle(head)\n",
    "    left = head\n",
    "    right = mid.next\n",
    "    mid.next = None\n",
    "    \n",
    "    # Recursively sort the left and right halves\n",
    "    left_sorted = merge_sort(left)\n",
    "    right_sorted = merge_sort(right)\n",
    "    \n",
    "    # Merge the sorted halves\n",
    "    return merge(left_sorted, right_sorted)\n",
    "\n",
    "def find_middle(head):\n",
    "    slow = head\n",
    "    fast = head\n",
    "    while fast.next and fast.next.next:\n",
    "        slow = slow.next\n",
    "        fast = fast.next.next\n",
    "    return slow\n",
    "\n",
    "def merge(left, right):\n",
    "    dummy = ListNode(0)\n",
    "    current = dummy\n",
    "    \n",
    "    while left and right:\n",
    "        if left.val < right.val:\n",
    "            current.next = left\n",
    "            left = left.next\n",
    "        else:\n",
    "            current.next = right\n",
    "            right = right.next\n",
    "        current = current.next\n",
    "    \n",
    "    # If any elements are left in the lists\n",
    "    if left:\n",
    "        current.next = left\n",
    "    if right:\n",
    "        current.next = right\n",
    "    \n",
    "    return dummy.next\n",
    "\n",
    "\n"
   ]
  }
 ],
 "metadata": {
  "language_info": {
   "name": "python"
  },
  "orig_nbformat": 4
 },
 "nbformat": 4,
 "nbformat_minor": 2
}
