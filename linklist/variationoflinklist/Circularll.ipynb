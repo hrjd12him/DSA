{
 "cells": [
  {
   "cell_type": "code",
   "execution_count": 8,
   "metadata": {},
   "outputs": [
    {
     "name": "stdout",
     "output_type": "stream",
     "text": [
      "1 ->2 ->3 ->4 ->5 ->6 ->1 ->2 ->3 ->4 ->5 ->6 ->Its repeat again\n"
     ]
    }
   ],
   "source": [
    "class node:\n",
    "    def __init__(self,data):\n",
    "        self.data =data\n",
    "        self.next = None\n",
    "\n",
    "def printll(head):\n",
    "    x = head.data\n",
    "    count =0\n",
    "    while count<2:\n",
    "        print(head.data,'->',end='')\n",
    "        head = head.next\n",
    "        if head.data == x:\n",
    "            count+=1\n",
    "    print('Its repeat again')\n",
    "\n",
    "def cyclell():\n",
    "    head = None\n",
    "    tail = None\n",
    "    inputlist = [int(ele) for ele in input().split()]\n",
    "\n",
    "    for cur in inputlist:\n",
    "        if cur == -1:\n",
    "            tail.next = head\n",
    "            return head\n",
    "        \n",
    "        newnode = node(cur)\n",
    "        if head is None:\n",
    "            head= newnode\n",
    "            tail = newnode\n",
    "        else:\n",
    "            tail.next = newnode\n",
    "            tail = tail.next\n",
    "\n",
    "head = cyclell()\n",
    "printll(head)\n",
    "\n"
   ]
  }
 ],
 "metadata": {
  "kernelspec": {
   "display_name": "Python 3",
   "language": "python",
   "name": "python3"
  },
  "language_info": {
   "codemirror_mode": {
    "name": "ipython",
    "version": 3
   },
   "file_extension": ".py",
   "mimetype": "text/x-python",
   "name": "python",
   "nbconvert_exporter": "python",
   "pygments_lexer": "ipython3",
   "version": "3.11.4"
  },
  "orig_nbformat": 4
 },
 "nbformat": 4,
 "nbformat_minor": 2
}
