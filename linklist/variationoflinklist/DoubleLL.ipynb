{
 "cells": [
  {
   "cell_type": "code",
   "execution_count": 5,
   "metadata": {},
   "outputs": [
    {
     "name": "stdout",
     "output_type": "stream",
     "text": [
      "1->2->3->4->5->6->None\n",
      "6->5->4->3->2->1->None\n"
     ]
    }
   ],
   "source": [
    "class node:\n",
    "    def __init__(self,data):\n",
    "        self.data = data\n",
    "        self.pre = None\n",
    "        self.next = None\n",
    "\n",
    "def printfromhead(head):\n",
    "    while head is not None:\n",
    "        print(str(head.data)+'->',end='')\n",
    "        head = head.next\n",
    "    print('None')\n",
    "\n",
    "def printfromtail(tail):\n",
    "    while tail is not None:\n",
    "        print(str(tail.data)+'->',end='')\n",
    "        tail = tail.pre\n",
    "    print(None)\n",
    "# doubleLL  \n",
    "def insertiondata():\n",
    "    head = None\n",
    "    tail = None\n",
    "    inputlist = [int(ele) for ele in input().split()]\n",
    "\n",
    "    for curr in inputlist:\n",
    "        if curr == -1:\n",
    "            break\n",
    "\n",
    "        newnode = node(curr)\n",
    "        if head is None:\n",
    "            head = newnode\n",
    "            tail = newnode\n",
    "        else:\n",
    "            tail.next = newnode\n",
    "            newnode.pre = tail\n",
    "            tail = tail.next\n",
    "    return head ,tail\n",
    "\n",
    "\n",
    "head ,tail = insertiondata()\n",
    "printfromhead(head)\n",
    "printfromtail(tail)\n",
    "\n"
   ]
  }
 ],
 "metadata": {
  "kernelspec": {
   "display_name": "Python 3",
   "language": "python",
   "name": "python3"
  },
  "language_info": {
   "codemirror_mode": {
    "name": "ipython",
    "version": 3
   },
   "file_extension": ".py",
   "mimetype": "text/x-python",
   "name": "python",
   "nbconvert_exporter": "python",
   "pygments_lexer": "ipython3",
   "version": "3.11.4"
  },
  "orig_nbformat": 4
 },
 "nbformat": 4,
 "nbformat_minor": 2
}
