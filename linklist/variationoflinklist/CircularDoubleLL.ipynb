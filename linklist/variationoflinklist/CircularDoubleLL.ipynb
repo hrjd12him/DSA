{
 "cells": [
  {
   "cell_type": "code",
   "execution_count": 6,
   "metadata": {},
   "outputs": [
    {
     "name": "stdout",
     "output_type": "stream",
     "text": [
      "1 ->5 ->4 ->3 ->2 ->1\n"
     ]
    }
   ],
   "source": [
    "class node:\n",
    "    def __init__(self,data):\n",
    "        self.data = data\n",
    "        self.pre = None\n",
    "        self.next = None\n",
    "\n",
    "def printllhead(head):\n",
    "    if head is None:\n",
    "        return\n",
    "    \n",
    "    current = head\n",
    "    while True:\n",
    "        print(current.data, '->', end='')\n",
    "        current = current.pre\n",
    "        if current == head:\n",
    "            break\n",
    "    print(head.data)\n",
    "#circular \n",
    "def circulerDLL():\n",
    "    head = None\n",
    "    tail = None\n",
    "    inputlist = [int(ele) for ele in input().split()]\n",
    "\n",
    "    for cur in inputlist:\n",
    "        if cur == -1:\n",
    "            break\n",
    "\n",
    "        newnode = node(cur)\n",
    "        if head is None:\n",
    "            head = newnode\n",
    "            tail = newnode\n",
    "        else:\n",
    "            tail.next = newnode\n",
    "            newnode.pre = tail\n",
    "            tail = tail.next\n",
    "    if head:\n",
    "        head.pre = tail\n",
    "        tail.next = head\n",
    "\n",
    "    return head,tail\n",
    "\n",
    "head,tail = circulerDLL()\n",
    "printllhead(head)\n"
   ]
  }
 ],
 "metadata": {
  "kernelspec": {
   "display_name": "Python 3",
   "language": "python",
   "name": "python3"
  },
  "language_info": {
   "codemirror_mode": {
    "name": "ipython",
    "version": 3
   },
   "file_extension": ".py",
   "mimetype": "text/x-python",
   "name": "python",
   "nbconvert_exporter": "python",
   "pygments_lexer": "ipython3",
   "version": "3.11.4"
  },
  "orig_nbformat": 4
 },
 "nbformat": 4,
 "nbformat_minor": 2
}
