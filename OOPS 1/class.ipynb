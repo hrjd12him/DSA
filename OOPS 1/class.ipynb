{
 "cells": [
  {
   "cell_type": "markdown",
   "metadata": {},
   "source": [
    "# class Variable\n",
    "```\n",
    "-> class variable are defined inside the class\n",
    "-> we can access class variable by using class name or orject name .\n",
    "-> while we change variable data by using class name it will effect all the object of the class\n",
    "-> other then if we make changes using the object name in class variable the object will be reflected the changes  "
   ]
  },
  {
   "cell_type": "code",
   "execution_count": 6,
   "metadata": {},
   "outputs": [
    {
     "name": "stdout",
     "output_type": "stream",
     "text": [
      "marethali python\n",
      "marethali python\n",
      "marethali python\n",
      "marethali python\n",
      "whitefield python\n",
      "jai shree ram python\n",
      "whitefield python\n",
      "whitefield python\n"
     ]
    }
   ],
   "source": [
    "class student:\n",
    "    branchname = 'marethali'\n",
    "    course = 'python'\n",
    "\n",
    "obj1 = student()\n",
    "obj2 = student()\n",
    "obj3 = student()\n",
    "\n",
    "print(student.branchname,student.course)\n",
    "print(obj1.branchname,obj1.course)\n",
    "print(obj2.branchname,obj2.course)\n",
    "print(obj3.branchname,obj3.course)\n",
    "student.branchname = 'whitefield'\n",
    "\n",
    "\n",
    "obj1.branchname = 'jai shree ram'\n",
    "print(student.branchname,student.course)\n",
    "print(obj1.branchname,obj1.course)\n",
    "print(obj2.branchname,obj2.course)\n",
    "print(obj3.branchname,obj3.course)"
   ]
  },
  {
   "cell_type": "markdown",
   "metadata": {},
   "source": [
    "# instance Variable \n",
    "```\n",
    "-> Instance variable are unique for each object of the given class\n",
    "-> They are accessed by using the object name \n",
    "-> the instance variable are initialized inside a constructer\n",
    "```"
   ]
  },
  {
   "cell_type": "code",
   "execution_count": null,
   "metadata": {},
   "outputs": [],
   "source": [
    "class Car:\n",
    "    def __init__(self, make, model, year):\n",
    "        # Instance variables\n",
    "        self.make = make   # Make of the car\n",
    "        self.model = model # Model of the car\n",
    "        self.year = year   # Year the car was manufactured\n",
    "\n",
    "    def display_info(self):\n",
    "        print(f\"This car is a {self.year} {self.make} {self.model}\")\n",
    "\n",
    "# Creating two car objects\n",
    "car1 = Car(\"Toyota\", \"Camry\", 2022)\n",
    "car2 = Car(\"Honda\", \"Civic\", 2023)\n",
    "\n",
    "# Accessing instance variables\n",
    "print(car1.make)  # Output: Toyota\n",
    "print(car2.year)  # Output: 2023\n",
    "\n",
    "# Calling a method that uses instance variables\n",
    "car1.display_info()  # Output: This car is a 2022 Toyota Camry\n"
   ]
  },
  {
   "cell_type": "markdown",
   "metadata": {},
   "source": [
    "# constructors in Python:\n",
    "\n",
    "\n",
    "**Constructor in Python:**\n",
    "\n",
    "1. **What is a Constructor?**\n",
    "   - In Python, a constructor is a special method used to initialize the attributes or properties of an object when it is created.\n",
    "   - The constructor method is called automatically when an object of a class is instantiated.\n",
    "\n",
    "2. **Constructor Name:**\n",
    "   - In Python, the constructor method is named `__init__`.\n",
    "   - It always takes at least one argument, `self`, which refers to the instance of the class being created.\n",
    "\n",
    "3. **Initialization:**\n",
    "   - The primary purpose of a constructor is to initialize instance variables (also known as instance attributes).\n",
    "   - Inside the constructor, you can set the initial values of instance variables using the `self` keyword.\n",
    "\n",
    "4. **Constructor Syntax:**\n",
    "   ```python\n",
    "   class ClassName:\n",
    "       def __init__(self, param1, param2, ...):\n",
    "           # Initialize instance variables\n",
    "           self.param1 = param1\n",
    "           self.param2 = param2\n",
    "           # ...\n",
    "   ```\n",
    "\n",
    "5. **Calling the Constructor:**\n",
    "   - When you create an object of a class, the constructor is automatically called.\n",
    "   - You don't need to explicitly call the constructor; it's invoked behind the scenes.\n",
    "   - Example:\n",
    "     ```python\n",
    "     obj = ClassName(param1_value, param2_value, ...)\n",
    "     ```\n",
    "\n",
    "6. **Default Constructor:**\n",
    "   - If you don't define a constructor in your class, Python provides a default constructor with no parameters.\n",
    "   - The default constructor doesn't do anything, so it's often necessary to define your own constructor to initialize object properties.\n",
    "\n",
    "7. **Multiple Constructors (Overloading):**\n",
    "   - Python does not support method overloading like some other languages.\n",
    "   - However, you can achieve similar behavior by using default arguments in the constructor or by defining multiple constructor methods with different names.\n",
    "\n",
    "8. **Destructor (Optional):**\n",
    "   - In addition to the constructor, you can define a destructor method named `__del__` to perform cleanup operations when an object is destroyed.\n",
    "   - The destructor is called when there are no more references to an object.\n",
    "\n",
    "9. **Example:**\n",
    "   ```python\n",
    "   class Student:\n",
    "       def __init__(self, name, age):\n",
    "           self.name = name\n",
    "           self.age = age\n",
    "\n",
    "   # Creating an object and initializing it using the constructor\n",
    "   student1 = Student(\"Alice\", 20)\n",
    "   ```\n",
    "\n",
    "10. **Use Cases:**\n",
    "    - Constructors are used to ensure that objects of a class start with well-defined initial states.\n",
    "    - They are used to set up the initial values of instance variables.\n",
    "\n",
    "11. **Instance Variables:**\n",
    "    - Instance variables (or instance attributes) are created and initialized within the constructor.\n",
    "    - These variables are accessible throughout the object's lifetime.\n",
    "\n",
    "Constructors are an essential concept in object-oriented programming, as they allow you to create and initialize objects with the necessary data and attributes."
   ]
  },
  {
   "cell_type": "markdown",
   "metadata": {},
   "source": [
    "Object method\n",
    "--------------\n",
    "\n",
    "* By using object method we can access are instance variable from the constructor\n",
    "* it can be created by using def function\n",
    "* Object method takes a mandetory argument self without it can't be called\n"
   ]
  },
  {
   "cell_type": "code",
   "execution_count": 8,
   "metadata": {},
   "outputs": [
    {
     "name": "stdout",
     "output_type": "stream",
     "text": [
      "SUJ\n",
      "iNDIA\n"
     ]
    }
   ],
   "source": [
    "# this is called method class \n",
    "\n",
    "class node:\n",
    "    def __init__(self,bus,train):\n",
    "        self.bus = bus\n",
    "        self.train = train\n",
    "\n",
    "    def call(self):\n",
    "      print(self.bus)\n",
    "      print(self.train)  \n",
    "\n",
    "N = node('SUJ', 'iNDIA')\n",
    "N.call()"
   ]
  },
  {
   "cell_type": "markdown",
   "metadata": {},
   "source": [
    "Class Method\n",
    "-------------\n",
    "* class method is created by a special decorater @classmethod\n",
    "* class method are use to access and modifi class variable\n",
    "* class method takes an Mandetory arguments 'cls' which holds the address of are class\n",
    "* we can call class method using class name object name"
   ]
  },
  {
   "cell_type": "code",
   "execution_count": 11,
   "metadata": {},
   "outputs": [
    {
     "name": "stdout",
     "output_type": "stream",
     "text": [
      "<class '__main__.smaple'>\n"
     ]
    }
   ],
   "source": [
    "class smaple:\n",
    "    a = 20\n",
    "    b =30\n",
    "    @classmethod\n",
    "    def func(cls):\n",
    "        print(cls)\n",
    "    \n",
    "n = smaple()\n",
    "n.func()\n"
   ]
  },
  {
   "cell_type": "markdown",
   "metadata": {},
   "source": [
    "Static Class\n",
    "-------------\n",
    "\n",
    "* static method is called by using decorater @staticclass\n",
    "* By using static method you cant modify class variable nore instance variable\n",
    "* Static methods are not inherited to child classes\n",
    "* You can use them in abstract base class\n",
    "* the can be called by object name or class name also\n",
    "* it do not take any any mandetory arguments"
   ]
  },
  {
   "cell_type": "code",
   "execution_count": null,
   "metadata": {},
   "outputs": [],
   "source": [
    "class samp:\n",
    "    d =10\n",
    "    l = 50\n",
    "    @staticmethod\n",
    "    def node():\n",
    "        "
   ]
  },
  {
   "cell_type": "markdown",
   "metadata": {},
   "source": [
    "Access Modifier\n",
    "---------------\n",
    "\n",
    "* In python  underscore \"_\" is used to determine the access control of are variable or function or it can be class to.\n",
    "* Access modifier have a special security that make autherisation or accessing are data a kind \n",
    "* There are three type of Access Modifier :-\n",
    "```\n",
    "                                    * Public \n",
    "                                    * private\n",
    "                                    * Protected\n",
    "\n",
    "```\n",
    "1. Public\n",
    "\n",
    "*  the data member that can be access all throught any part of a program is called as public accessing.\n",
    "* The data members are by default public we don't need to declare them as public\n",
    "2. protected\n",
    "* The data members which can only accessed by their own class and its derived classes are called protected.\n",
    "* for makeing a data member protected we use _ single underscore \n",
    "3. Private\n",
    "* Data Members which cannot be accessed outside the class are called Private.\n",
    "* The data members which can only accessed by its class and not from outside it's called Private.\n",
    "* for making private we use '__' double underscore\n"
   ]
  },
  {
   "cell_type": "code",
   "execution_count": 25,
   "metadata": {},
   "outputs": [
    {
     "name": "stdout",
     "output_type": "stream",
     "text": [
      "its a base class\n",
      "its a base class\n"
     ]
    }
   ],
   "source": [
    "class baseclass:\n",
    "    def abc(self):\n",
    "        print('its a base class')\n",
    "\n",
    "class subclass(baseclass):\n",
    "    def abc(self):\n",
    "        super().abc()\n",
    "       \n",
    "\n",
    "obj1 = baseclass()\n",
    "obj2 = subclass()\n",
    "\n",
    "obj1.abc()\n",
    "obj2.abc()\n"
   ]
  },
  {
   "cell_type": "code",
   "execution_count": 41,
   "metadata": {},
   "outputs": [
    {
     "name": "stdout",
     "output_type": "stream",
     "text": [
      "30\n",
      "10\n",
      "200\n"
     ]
    }
   ],
   "source": [
    "class a:\n",
    "    def __init__(self,a):\n",
    "        self.a = a\n",
    "\n",
    "    def __add__(self,other):\n",
    "        return self.a +other.a\n",
    "    \n",
    "    def __sub__(self,other):\n",
    "        return abs(self.a-other.a)\n",
    "    \n",
    "    def __mul__(self,other):\n",
    "        return self.a *other.a\n",
    "    \n",
    "obj1 = a(10)\n",
    "obj2 =a(20)\n",
    "print(obj1+obj2)\n",
    "print(obj1 - obj2)\n",
    "print(obj1 * obj2)\n"
   ]
  },
  {
   "cell_type": "code",
   "execution_count": 7,
   "metadata": {},
   "outputs": [
    {
     "name": "stdout",
     "output_type": "stream",
     "text": [
      "314.0\n",
      "62.800000000000004\n"
     ]
    }
   ],
   "source": [
    "from abc import ABC,abstractmethod\n",
    "\n",
    "class shape(ABC):\n",
    "    @abstractmethod\n",
    "    def area():\n",
    "        pass\n",
    "    @abstractmethod\n",
    "    def perimeter():\n",
    "        pass\n",
    "\n",
    "class circle(shape):\n",
    "    def __init__(self,radius):\n",
    "        self.radius =radius\n",
    "\n",
    "    def area(self):\n",
    "        return 3.14* self.radius**2\n",
    "    \n",
    "    def perimeter(self):\n",
    "        return 2*3.14*self.radius\n",
    "    \n",
    "cir =circle(10)\n",
    "print(cir.area())\n",
    "print(cir.perimeter())\n",
    "\n",
    "\n",
    "    \n",
    "\n"
   ]
  },
  {
   "cell_type": "code",
   "execution_count": 4,
   "metadata": {},
   "outputs": [
    {
     "name": "stdout",
     "output_type": "stream",
     "text": [
      "Something is happening before the function is called.\n",
      "Something is happening after the function is called.\n",
      "Hello!\n",
      "Something is happening before the function is called.\n",
      "Something is happening after the function is called.\n",
      "Hellow\n"
     ]
    }
   ],
   "source": [
    "def my_decorator(func):\n",
    "    def wrapper():\n",
    "        print(\"Something is happening before the function is called.\")\n",
    "        print(\"Something is happening after the function is called.\")\n",
    "        func()\n",
    "\n",
    "    return wrapper\n",
    "\n",
    "@my_decorator\n",
    "def say_hello():\n",
    "    print(\"Hello!\")\n",
    "@my_decorator\n",
    "def nothing():\n",
    "    print('Hellow')\n",
    "\n",
    "say_hello()\n",
    "nothing()\n"
   ]
  }
 ],
 "metadata": {
  "kernelspec": {
   "display_name": "Python 3",
   "language": "python",
   "name": "python3"
  },
  "language_info": {
   "codemirror_mode": {
    "name": "ipython",
    "version": 3
   },
   "file_extension": ".py",
   "mimetype": "text/x-python",
   "name": "python",
   "nbconvert_exporter": "python",
   "pygments_lexer": "ipython3",
   "version": "3.11.4"
  },
  "orig_nbformat": 4
 },
 "nbformat": 4,
 "nbformat_minor": 2
}
