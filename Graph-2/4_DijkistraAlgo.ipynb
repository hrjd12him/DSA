{
 "cells": [
  {
   "cell_type": "code",
   "execution_count": 6,
   "metadata": {},
   "outputs": [
    {
     "name": "stdout",
     "output_type": "stream",
     "text": [
      "Vertex (0, 1) : 4\n",
      "Vertex (0, 2) : 6\n",
      "Vertex (0, 3) : 9\n",
      "Vertex (0, 4) : 13\n"
     ]
    }
   ],
   "source": [
    "import sys\n",
    "class Graph:\n",
    "    def __init__(self,vertex):\n",
    "        self.vertex = vertex\n",
    "        self.adjmatrix = [[0 for _ in range(vertex)] for _ in range(vertex)]\n",
    "\n",
    "    def addedge(self,v1,v2,wt):\n",
    "        self.adjmatrix[v1][v2] = wt\n",
    "        self.adjmatrix[v2][v1] = wt\n",
    "\n",
    "    def  __get_minvertex(self,viseted,weight):\n",
    "        minvertex = -1\n",
    "        for i in range(self.vertex):\n",
    "            if viseted[i] is False and (minvertex == -1 or weight[minvertex]>weight[i]):\n",
    "                minvertex = i\n",
    "        return minvertex\n",
    "\n",
    "    def dijkistra(self):\n",
    "        viseted = [False for _ in range(self.vertex)]\n",
    "        weight = [sys.maxsize for _ in range(self.vertex)]\n",
    "        weight[0] = 0\n",
    "\n",
    "        for i in range(1,self.vertex):\n",
    "            min_vertex = self.__get_minvertex(viseted,weight)\n",
    "            viseted[min_vertex] = True\n",
    "\n",
    "            for j in range(self.vertex):\n",
    "                if self.adjmatrix[min_vertex][j]>0 and viseted[j] is False:\n",
    "                    if weight[j]> weight[min_vertex] +self.adjmatrix[min_vertex][j]:\n",
    "                        weight[j] = weight[min_vertex]+self.adjmatrix[min_vertex][j]\n",
    "\n",
    "        return weight\n",
    "\n",
    "li = [int(ele) for ele in input().split()]\n",
    "e = li[0]\n",
    "v = li[1]\n",
    "g = Graph(v)\n",
    "for i in range(e):\n",
    "    curr_edge = [int(ele) for ele in input().split()]\n",
    "    g.addedge(curr_edge[0],curr_edge[1],curr_edge[2])\n",
    "\n",
    "distance = g.dijkistra()\n",
    "for i in range(1,v):\n",
    "    print(\"Vertex\",(0,i), \":\",distance[i])\n"
   ]
  }
 ],
 "metadata": {
  "kernelspec": {
   "display_name": "Python 3",
   "language": "python",
   "name": "python3"
  },
  "language_info": {
   "codemirror_mode": {
    "name": "ipython",
    "version": 3
   },
   "file_extension": ".py",
   "mimetype": "text/x-python",
   "name": "python",
   "nbconvert_exporter": "python",
   "pygments_lexer": "ipython3",
   "version": "3.11.4"
  },
  "orig_nbformat": 4
 },
 "nbformat": 4,
 "nbformat_minor": 2
}
